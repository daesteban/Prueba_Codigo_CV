{
 "cells": [
  {
   "cell_type": "markdown",
   "id": "34fe105e",
   "metadata": {},
   "source": [
    "## Grupo 5 - WH5 - R\n",
    "### Integrantes\n",
    "- Diego\n",
    "- Teresa\n",
    "- Yoberson"
   ]
  },
  {
   "cell_type": "code",
   "execution_count": 34,
   "id": "97c20d58",
   "metadata": {},
   "outputs": [],
   "source": [
    "#install.packages('readstata13')\n",
    "\n",
    "pacman::p_load(tidyverse, haven, dplyr, foreign,glue, devtools, expss)\n",
    "\n",
    "library(readstata13)\n",
    "\n",
    "library(tidyr)  # RE for R\n",
    "#library(dplyr)\n",
    "#library(foreign)"
   ]
  },
  {
   "cell_type": "code",
   "execution_count": 3,
   "id": "b2f7e1cb",
   "metadata": {},
   "outputs": [],
   "source": [
    "#Data ENAHO PANEL 2015-2019\n",
    "data1 <- read_dta(\"../../data/Juntos_program/data.dta\", encoding = \"latin1\")\n",
    "#Data Programa Juntos\n",
    "data2 <- read_dta(\"../../data/Juntos_program/unidos.dta\", encoding = \"latin1\")"
   ]
  },
  {
   "cell_type": "code",
   "execution_count": 4,
   "id": "65d18694",
   "metadata": {},
   "outputs": [
    {
     "data": {
      "text/html": [
       "<style>\n",
       ".list-inline {list-style: none; margin:0; padding: 0}\n",
       ".list-inline>li {display: inline-block}\n",
       ".list-inline>li:not(:last-child)::after {content: \"\\00b7\"; padding: 0 .5ex}\n",
       "</style>\n",
       "<ol class=list-inline><li>'numper'</li><li>'numpanh15'</li><li>'numpanh16'</li><li>'numpanh17'</li><li>'numpanh18'</li><li>'numpanh19'</li><li>'mes_15'</li><li>'ubigeo_15'</li><li>'dominio_15'</li><li>'p400a3_15'</li><li>'p4022_15'</li><li>'mes_16'</li><li>'ubigeo_16'</li><li>'dominio_16'</li><li>'p400a3_16'</li><li>'p4022_16'</li><li>'mes_17'</li><li>'ubigeo_17'</li><li>'dominio_17'</li><li>'p400a3_17'</li><li>'p4022_17'</li><li>'mes_18'</li><li>'ubigeo_18'</li><li>'dominio_18'</li><li>'p400a3_18'</li><li>'p4022_18'</li><li>'mes_19'</li><li>'ubigeo_19'</li><li>'dominio_19'</li><li>'p400a3_19'</li><li>'p4022_19'</li></ol>\n"
      ],
      "text/latex": [
       "\\begin{enumerate*}\n",
       "\\item 'numper'\n",
       "\\item 'numpanh15'\n",
       "\\item 'numpanh16'\n",
       "\\item 'numpanh17'\n",
       "\\item 'numpanh18'\n",
       "\\item 'numpanh19'\n",
       "\\item 'mes\\_15'\n",
       "\\item 'ubigeo\\_15'\n",
       "\\item 'dominio\\_15'\n",
       "\\item 'p400a3\\_15'\n",
       "\\item 'p4022\\_15'\n",
       "\\item 'mes\\_16'\n",
       "\\item 'ubigeo\\_16'\n",
       "\\item 'dominio\\_16'\n",
       "\\item 'p400a3\\_16'\n",
       "\\item 'p4022\\_16'\n",
       "\\item 'mes\\_17'\n",
       "\\item 'ubigeo\\_17'\n",
       "\\item 'dominio\\_17'\n",
       "\\item 'p400a3\\_17'\n",
       "\\item 'p4022\\_17'\n",
       "\\item 'mes\\_18'\n",
       "\\item 'ubigeo\\_18'\n",
       "\\item 'dominio\\_18'\n",
       "\\item 'p400a3\\_18'\n",
       "\\item 'p4022\\_18'\n",
       "\\item 'mes\\_19'\n",
       "\\item 'ubigeo\\_19'\n",
       "\\item 'dominio\\_19'\n",
       "\\item 'p400a3\\_19'\n",
       "\\item 'p4022\\_19'\n",
       "\\end{enumerate*}\n"
      ],
      "text/markdown": [
       "1. 'numper'\n",
       "2. 'numpanh15'\n",
       "3. 'numpanh16'\n",
       "4. 'numpanh17'\n",
       "5. 'numpanh18'\n",
       "6. 'numpanh19'\n",
       "7. 'mes_15'\n",
       "8. 'ubigeo_15'\n",
       "9. 'dominio_15'\n",
       "10. 'p400a3_15'\n",
       "11. 'p4022_15'\n",
       "12. 'mes_16'\n",
       "13. 'ubigeo_16'\n",
       "14. 'dominio_16'\n",
       "15. 'p400a3_16'\n",
       "16. 'p4022_16'\n",
       "17. 'mes_17'\n",
       "18. 'ubigeo_17'\n",
       "19. 'dominio_17'\n",
       "20. 'p400a3_17'\n",
       "21. 'p4022_17'\n",
       "22. 'mes_18'\n",
       "23. 'ubigeo_18'\n",
       "24. 'dominio_18'\n",
       "25. 'p400a3_18'\n",
       "26. 'p4022_18'\n",
       "27. 'mes_19'\n",
       "28. 'ubigeo_19'\n",
       "29. 'dominio_19'\n",
       "30. 'p400a3_19'\n",
       "31. 'p4022_19'\n",
       "\n",
       "\n"
      ],
      "text/plain": [
       " [1] \"numper\"     \"numpanh15\"  \"numpanh16\"  \"numpanh17\"  \"numpanh18\" \n",
       " [6] \"numpanh19\"  \"mes_15\"     \"ubigeo_15\"  \"dominio_15\" \"p400a3_15\" \n",
       "[11] \"p4022_15\"   \"mes_16\"     \"ubigeo_16\"  \"dominio_16\" \"p400a3_16\" \n",
       "[16] \"p4022_16\"   \"mes_17\"     \"ubigeo_17\"  \"dominio_17\" \"p400a3_17\" \n",
       "[21] \"p4022_17\"   \"mes_18\"     \"ubigeo_18\"  \"dominio_18\" \"p400a3_18\" \n",
       "[26] \"p4022_18\"   \"mes_19\"     \"ubigeo_19\"  \"dominio_19\" \"p400a3_19\" \n",
       "[31] \"p4022_19\"  "
      ]
     },
     "metadata": {},
     "output_type": "display_data"
    }
   ],
   "source": [
    "names(data1)"
   ]
  },
  {
   "cell_type": "code",
   "execution_count": 6,
   "id": "e43cf57f",
   "metadata": {},
   "outputs": [
    {
     "data": {
      "text/html": [
       "<table class=\"dataframe\">\n",
       "<caption>A tibble: 6 × 31</caption>\n",
       "<thead>\n",
       "\t<tr><th scope=col>numper</th><th scope=col>numpanh15</th><th scope=col>numpanh16</th><th scope=col>numpanh17</th><th scope=col>numpanh18</th><th scope=col>numpanh19</th><th scope=col>mes_15</th><th scope=col>ubigeo_15</th><th scope=col>dominio_15</th><th scope=col>p400a3_15</th><th scope=col>...</th><th scope=col>mes_18</th><th scope=col>ubigeo_18</th><th scope=col>dominio_18</th><th scope=col>p400a3_18</th><th scope=col>p4022_18</th><th scope=col>mes_19</th><th scope=col>ubigeo_19</th><th scope=col>dominio_19</th><th scope=col>p400a3_19</th><th scope=col>p4022_19</th></tr>\n",
       "\t<tr><th scope=col>&lt;dbl&gt;</th><th scope=col>&lt;dbl&gt;</th><th scope=col>&lt;dbl&gt;</th><th scope=col>&lt;dbl&gt;</th><th scope=col>&lt;dbl&gt;</th><th scope=col>&lt;dbl&gt;</th><th scope=col>&lt;dbl&gt;</th><th scope=col>&lt;dbl&gt;</th><th scope=col>&lt;chr&gt;</th><th scope=col>&lt;dbl&gt;</th><th scope=col>...</th><th scope=col>&lt;dbl&gt;</th><th scope=col>&lt;dbl&gt;</th><th scope=col>&lt;chr&gt;</th><th scope=col>&lt;dbl&gt;</th><th scope=col>&lt;dbl&gt;</th><th scope=col>&lt;dbl&gt;</th><th scope=col>&lt;dbl&gt;</th><th scope=col>&lt;chr&gt;</th><th scope=col>&lt;dbl&gt;</th><th scope=col>&lt;dbl&gt;</th></tr>\n",
       "</thead>\n",
       "<tbody>\n",
       "\t<tr><td>15368</td><td>1158</td><td>1158</td><td>1158</td><td>1158</td><td>1158</td><td>11</td><td>10101</td><td>sierra norte</td><td>1946</td><td>...</td><td>12</td><td>10101</td><td>sierra norte</td><td>1946</td><td>0</td><td>11</td><td>10101</td><td>sierra norte</td><td>1946</td><td>0</td></tr>\n",
       "\t<tr><td>15369</td><td>1158</td><td>1158</td><td>1158</td><td>1158</td><td>1158</td><td>11</td><td>10101</td><td>sierra norte</td><td>1973</td><td>...</td><td>12</td><td>10101</td><td>sierra norte</td><td>1973</td><td>0</td><td>11</td><td>10101</td><td>sierra norte</td><td>1973</td><td>0</td></tr>\n",
       "\t<tr><td>15380</td><td>1162</td><td>1162</td><td>1162</td><td>1162</td><td>1162</td><td>11</td><td>10101</td><td>sierra norte</td><td>1987</td><td>...</td><td>12</td><td>10101</td><td>sierra norte</td><td>1987</td><td>0</td><td>11</td><td>10101</td><td>sierra norte</td><td>1987</td><td>1</td></tr>\n",
       "\t<tr><td>15381</td><td>1162</td><td>1162</td><td>1162</td><td>1162</td><td>1162</td><td>11</td><td>10101</td><td>sierra norte</td><td>2009</td><td>...</td><td>12</td><td>10101</td><td>sierra norte</td><td>2009</td><td>0</td><td>11</td><td>10101</td><td>sierra norte</td><td>2009</td><td>0</td></tr>\n",
       "\t<tr><td>15410</td><td>1185</td><td>1185</td><td>1185</td><td>1185</td><td>1185</td><td> 7</td><td>10101</td><td>sierra norte</td><td>1955</td><td>...</td><td> 7</td><td>10101</td><td>sierra norte</td><td>1955</td><td>0</td><td> 7</td><td>10101</td><td>sierra norte</td><td>1955</td><td>1</td></tr>\n",
       "\t<tr><td>15412</td><td>1186</td><td>1186</td><td>1186</td><td>1186</td><td>1186</td><td> 7</td><td>10101</td><td>sierra norte</td><td>1966</td><td>...</td><td> 7</td><td>10101</td><td>sierra norte</td><td>1966</td><td>0</td><td> 7</td><td>10101</td><td>sierra norte</td><td>1966</td><td>0</td></tr>\n",
       "</tbody>\n",
       "</table>\n"
      ],
      "text/latex": [
       "A tibble: 6 × 31\n",
       "\\begin{tabular}{lllllllllllllllllllll}\n",
       " numper & numpanh15 & numpanh16 & numpanh17 & numpanh18 & numpanh19 & mes\\_15 & ubigeo\\_15 & dominio\\_15 & p400a3\\_15 & ... & mes\\_18 & ubigeo\\_18 & dominio\\_18 & p400a3\\_18 & p4022\\_18 & mes\\_19 & ubigeo\\_19 & dominio\\_19 & p400a3\\_19 & p4022\\_19\\\\\n",
       " <dbl> & <dbl> & <dbl> & <dbl> & <dbl> & <dbl> & <dbl> & <dbl> & <chr> & <dbl> & ... & <dbl> & <dbl> & <chr> & <dbl> & <dbl> & <dbl> & <dbl> & <chr> & <dbl> & <dbl>\\\\\n",
       "\\hline\n",
       "\t 15368 & 1158 & 1158 & 1158 & 1158 & 1158 & 11 & 10101 & sierra norte & 1946 & ... & 12 & 10101 & sierra norte & 1946 & 0 & 11 & 10101 & sierra norte & 1946 & 0\\\\\n",
       "\t 15369 & 1158 & 1158 & 1158 & 1158 & 1158 & 11 & 10101 & sierra norte & 1973 & ... & 12 & 10101 & sierra norte & 1973 & 0 & 11 & 10101 & sierra norte & 1973 & 0\\\\\n",
       "\t 15380 & 1162 & 1162 & 1162 & 1162 & 1162 & 11 & 10101 & sierra norte & 1987 & ... & 12 & 10101 & sierra norte & 1987 & 0 & 11 & 10101 & sierra norte & 1987 & 1\\\\\n",
       "\t 15381 & 1162 & 1162 & 1162 & 1162 & 1162 & 11 & 10101 & sierra norte & 2009 & ... & 12 & 10101 & sierra norte & 2009 & 0 & 11 & 10101 & sierra norte & 2009 & 0\\\\\n",
       "\t 15410 & 1185 & 1185 & 1185 & 1185 & 1185 &  7 & 10101 & sierra norte & 1955 & ... &  7 & 10101 & sierra norte & 1955 & 0 &  7 & 10101 & sierra norte & 1955 & 1\\\\\n",
       "\t 15412 & 1186 & 1186 & 1186 & 1186 & 1186 &  7 & 10101 & sierra norte & 1966 & ... &  7 & 10101 & sierra norte & 1966 & 0 &  7 & 10101 & sierra norte & 1966 & 0\\\\\n",
       "\\end{tabular}\n"
      ],
      "text/markdown": [
       "\n",
       "A tibble: 6 × 31\n",
       "\n",
       "| numper &lt;dbl&gt; | numpanh15 &lt;dbl&gt; | numpanh16 &lt;dbl&gt; | numpanh17 &lt;dbl&gt; | numpanh18 &lt;dbl&gt; | numpanh19 &lt;dbl&gt; | mes_15 &lt;dbl&gt; | ubigeo_15 &lt;dbl&gt; | dominio_15 &lt;chr&gt; | p400a3_15 &lt;dbl&gt; | ... ... | mes_18 &lt;dbl&gt; | ubigeo_18 &lt;dbl&gt; | dominio_18 &lt;chr&gt; | p400a3_18 &lt;dbl&gt; | p4022_18 &lt;dbl&gt; | mes_19 &lt;dbl&gt; | ubigeo_19 &lt;dbl&gt; | dominio_19 &lt;chr&gt; | p400a3_19 &lt;dbl&gt; | p4022_19 &lt;dbl&gt; |\n",
       "|---|---|---|---|---|---|---|---|---|---|---|---|---|---|---|---|---|---|---|---|---|\n",
       "| 15368 | 1158 | 1158 | 1158 | 1158 | 1158 | 11 | 10101 | sierra norte | 1946 | ... | 12 | 10101 | sierra norte | 1946 | 0 | 11 | 10101 | sierra norte | 1946 | 0 |\n",
       "| 15369 | 1158 | 1158 | 1158 | 1158 | 1158 | 11 | 10101 | sierra norte | 1973 | ... | 12 | 10101 | sierra norte | 1973 | 0 | 11 | 10101 | sierra norte | 1973 | 0 |\n",
       "| 15380 | 1162 | 1162 | 1162 | 1162 | 1162 | 11 | 10101 | sierra norte | 1987 | ... | 12 | 10101 | sierra norte | 1987 | 0 | 11 | 10101 | sierra norte | 1987 | 1 |\n",
       "| 15381 | 1162 | 1162 | 1162 | 1162 | 1162 | 11 | 10101 | sierra norte | 2009 | ... | 12 | 10101 | sierra norte | 2009 | 0 | 11 | 10101 | sierra norte | 2009 | 0 |\n",
       "| 15410 | 1185 | 1185 | 1185 | 1185 | 1185 |  7 | 10101 | sierra norte | 1955 | ... |  7 | 10101 | sierra norte | 1955 | 0 |  7 | 10101 | sierra norte | 1955 | 1 |\n",
       "| 15412 | 1186 | 1186 | 1186 | 1186 | 1186 |  7 | 10101 | sierra norte | 1966 | ... |  7 | 10101 | sierra norte | 1966 | 0 |  7 | 10101 | sierra norte | 1966 | 0 |\n",
       "\n"
      ],
      "text/plain": [
       "  numper numpanh15 numpanh16 numpanh17 numpanh18 numpanh19 mes_15 ubigeo_15\n",
       "1 15368  1158      1158      1158      1158      1158      11     10101    \n",
       "2 15369  1158      1158      1158      1158      1158      11     10101    \n",
       "3 15380  1162      1162      1162      1162      1162      11     10101    \n",
       "4 15381  1162      1162      1162      1162      1162      11     10101    \n",
       "5 15410  1185      1185      1185      1185      1185       7     10101    \n",
       "6 15412  1186      1186      1186      1186      1186       7     10101    \n",
       "  dominio_15   p400a3_15 ... mes_18 ubigeo_18 dominio_18   p400a3_18 p4022_18\n",
       "1 sierra norte 1946      ... 12     10101     sierra norte 1946      0       \n",
       "2 sierra norte 1973      ... 12     10101     sierra norte 1973      0       \n",
       "3 sierra norte 1987      ... 12     10101     sierra norte 1987      0       \n",
       "4 sierra norte 2009      ... 12     10101     sierra norte 2009      0       \n",
       "5 sierra norte 1955      ...  7     10101     sierra norte 1955      0       \n",
       "6 sierra norte 1966      ...  7     10101     sierra norte 1966      0       \n",
       "  mes_19 ubigeo_19 dominio_19   p400a3_19 p4022_19\n",
       "1 11     10101     sierra norte 1946      0       \n",
       "2 11     10101     sierra norte 1973      0       \n",
       "3 11     10101     sierra norte 1987      1       \n",
       "4 11     10101     sierra norte 2009      0       \n",
       "5  7     10101     sierra norte 1955      1       \n",
       "6  7     10101     sierra norte 1966      0       "
      ]
     },
     "metadata": {},
     "output_type": "display_data"
    }
   ],
   "source": [
    "head(data1)"
   ]
  },
  {
   "cell_type": "code",
   "execution_count": 6,
   "id": "1b68c11d",
   "metadata": {},
   "outputs": [
    {
     "data": {
      "text/html": [
       "<table class=\"dataframe\">\n",
       "<caption>A tibble: 6 × 5</caption>\n",
       "<thead>\n",
       "\t<tr><th scope=col>ubigeo</th><th scope=col>distrito</th><th scope=col>provincia</th><th scope=col>region</th><th scope=col>unidos</th></tr>\n",
       "\t<tr><th scope=col>&lt;dbl&gt;</th><th scope=col>&lt;chr&gt;</th><th scope=col>&lt;chr&gt;</th><th scope=col>&lt;chr&gt;</th><th scope=col>&lt;dbl&gt;</th></tr>\n",
       "</thead>\n",
       "<tbody>\n",
       "\t<tr><td>10101</td><td>Chachapoyas</td><td>Chachapoyas</td><td>Amazonas</td><td>1</td></tr>\n",
       "\t<tr><td>10102</td><td>Asuncion   </td><td>Chachapoyas</td><td>Amazonas</td><td>1</td></tr>\n",
       "\t<tr><td>10103</td><td>Balsas     </td><td>Chachapoyas</td><td>Amazonas</td><td>0</td></tr>\n",
       "\t<tr><td>10104</td><td>Cheto      </td><td>Chachapoyas</td><td>Amazonas</td><td>1</td></tr>\n",
       "\t<tr><td>10105</td><td>Chiliquin  </td><td>Chachapoyas</td><td>Amazonas</td><td>0</td></tr>\n",
       "\t<tr><td>10106</td><td>Chuquibamba</td><td>Chachapoyas</td><td>Amazonas</td><td>1</td></tr>\n",
       "</tbody>\n",
       "</table>\n"
      ],
      "text/latex": [
       "A tibble: 6 × 5\n",
       "\\begin{tabular}{lllll}\n",
       " ubigeo & distrito & provincia & region & unidos\\\\\n",
       " <dbl> & <chr> & <chr> & <chr> & <dbl>\\\\\n",
       "\\hline\n",
       "\t 10101 & Chachapoyas & Chachapoyas & Amazonas & 1\\\\\n",
       "\t 10102 & Asuncion    & Chachapoyas & Amazonas & 1\\\\\n",
       "\t 10103 & Balsas      & Chachapoyas & Amazonas & 0\\\\\n",
       "\t 10104 & Cheto       & Chachapoyas & Amazonas & 1\\\\\n",
       "\t 10105 & Chiliquin   & Chachapoyas & Amazonas & 0\\\\\n",
       "\t 10106 & Chuquibamba & Chachapoyas & Amazonas & 1\\\\\n",
       "\\end{tabular}\n"
      ],
      "text/markdown": [
       "\n",
       "A tibble: 6 × 5\n",
       "\n",
       "| ubigeo &lt;dbl&gt; | distrito &lt;chr&gt; | provincia &lt;chr&gt; | region &lt;chr&gt; | unidos &lt;dbl&gt; |\n",
       "|---|---|---|---|---|\n",
       "| 10101 | Chachapoyas | Chachapoyas | Amazonas | 1 |\n",
       "| 10102 | Asuncion    | Chachapoyas | Amazonas | 1 |\n",
       "| 10103 | Balsas      | Chachapoyas | Amazonas | 0 |\n",
       "| 10104 | Cheto       | Chachapoyas | Amazonas | 1 |\n",
       "| 10105 | Chiliquin   | Chachapoyas | Amazonas | 0 |\n",
       "| 10106 | Chuquibamba | Chachapoyas | Amazonas | 1 |\n",
       "\n"
      ],
      "text/plain": [
       "  ubigeo distrito    provincia   region   unidos\n",
       "1 10101  Chachapoyas Chachapoyas Amazonas 1     \n",
       "2 10102  Asuncion    Chachapoyas Amazonas 1     \n",
       "3 10103  Balsas      Chachapoyas Amazonas 0     \n",
       "4 10104  Cheto       Chachapoyas Amazonas 1     \n",
       "5 10105  Chiliquin   Chachapoyas Amazonas 0     \n",
       "6 10106  Chuquibamba Chachapoyas Amazonas 1     "
      ]
     },
     "metadata": {},
     "output_type": "display_data"
    }
   ],
   "source": [
    "head(data2)"
   ]
  },
  {
   "cell_type": "markdown",
   "id": "b4f3ab1f",
   "metadata": {},
   "source": [
    "### Replicación Clean DHS"
   ]
  },
  {
   "cell_type": "code",
   "execution_count": 37,
   "id": "ca94ff75",
   "metadata": {},
   "outputs": [
    {
     "name": "stdout",
     "output_type": "stream",
     "text": [
      "[1] \"numper\"\n",
      "[1] \"numpanh15\"\n",
      "[1] \"numpanh16\"\n",
      "[1] \"numpanh17\"\n",
      "[1] \"numpanh18\"\n",
      "[1] \"numpanh19\"\n",
      "[1] \"mes15\"\n",
      "[1] \"ubigeo15\"\n",
      "[1] \"dominio15\"\n",
      "[1] \"p400a315\"\n",
      "[1] \"p402215\"\n",
      "[1] \"mes16\"\n",
      "[1] \"ubigeo16\"\n",
      "[1] \"dominio16\"\n",
      "[1] \"p400a316\"\n",
      "[1] \"p402216\"\n",
      "[1] \"mes17\"\n",
      "[1] \"ubigeo17\"\n",
      "[1] \"dominio17\"\n",
      "[1] \"p400a317\"\n",
      "[1] \"p402217\"\n",
      "[1] \"mes18\"\n",
      "[1] \"ubigeo18\"\n",
      "[1] \"dominio18\"\n",
      "[1] \"p400a318\"\n",
      "[1] \"p402218\"\n",
      "[1] \"mes19\"\n",
      "[1] \"ubigeo19\"\n",
      "[1] \"dominio19\"\n",
      "[1] \"p400a319\"\n",
      "[1] \"p402219\"\n"
     ]
    }
   ],
   "source": [
    "names <- names(data1)\n",
    "filter_list <- c()\n",
    "\n",
    "for (i in 1:length(names)){\n",
    "        w <-  gsub('[/_]','', names[i])\n",
    "        filter_list[i] <- w\n",
    "        print(w)    \n",
    "}\n"
   ]
  },
  {
   "cell_type": "code",
   "execution_count": 38,
   "id": "8f089343",
   "metadata": {},
   "outputs": [
    {
     "data": {
      "text/html": [
       "<style>\n",
       ".list-inline {list-style: none; margin:0; padding: 0}\n",
       ".list-inline>li {display: inline-block}\n",
       ".list-inline>li:not(:last-child)::after {content: \"\\00b7\"; padding: 0 .5ex}\n",
       "</style>\n",
       "<ol class=list-inline><li>'numper'</li><li>'numpanh15'</li><li>'numpanh16'</li><li>'numpanh17'</li><li>'numpanh18'</li><li>'numpanh19'</li><li>'mes15'</li><li>'ubigeo15'</li><li>'dominio15'</li><li>'p400a315'</li><li>'p402215'</li><li>'mes16'</li><li>'ubigeo16'</li><li>'dominio16'</li><li>'p400a316'</li><li>'p402216'</li><li>'mes17'</li><li>'ubigeo17'</li><li>'dominio17'</li><li>'p400a317'</li><li>'p402217'</li><li>'mes18'</li><li>'ubigeo18'</li><li>'dominio18'</li><li>'p400a318'</li><li>'p402218'</li><li>'mes19'</li><li>'ubigeo19'</li><li>'dominio19'</li><li>'p400a319'</li><li>'p402219'</li></ol>\n"
      ],
      "text/latex": [
       "\\begin{enumerate*}\n",
       "\\item 'numper'\n",
       "\\item 'numpanh15'\n",
       "\\item 'numpanh16'\n",
       "\\item 'numpanh17'\n",
       "\\item 'numpanh18'\n",
       "\\item 'numpanh19'\n",
       "\\item 'mes15'\n",
       "\\item 'ubigeo15'\n",
       "\\item 'dominio15'\n",
       "\\item 'p400a315'\n",
       "\\item 'p402215'\n",
       "\\item 'mes16'\n",
       "\\item 'ubigeo16'\n",
       "\\item 'dominio16'\n",
       "\\item 'p400a316'\n",
       "\\item 'p402216'\n",
       "\\item 'mes17'\n",
       "\\item 'ubigeo17'\n",
       "\\item 'dominio17'\n",
       "\\item 'p400a317'\n",
       "\\item 'p402217'\n",
       "\\item 'mes18'\n",
       "\\item 'ubigeo18'\n",
       "\\item 'dominio18'\n",
       "\\item 'p400a318'\n",
       "\\item 'p402218'\n",
       "\\item 'mes19'\n",
       "\\item 'ubigeo19'\n",
       "\\item 'dominio19'\n",
       "\\item 'p400a319'\n",
       "\\item 'p402219'\n",
       "\\end{enumerate*}\n"
      ],
      "text/markdown": [
       "1. 'numper'\n",
       "2. 'numpanh15'\n",
       "3. 'numpanh16'\n",
       "4. 'numpanh17'\n",
       "5. 'numpanh18'\n",
       "6. 'numpanh19'\n",
       "7. 'mes15'\n",
       "8. 'ubigeo15'\n",
       "9. 'dominio15'\n",
       "10. 'p400a315'\n",
       "11. 'p402215'\n",
       "12. 'mes16'\n",
       "13. 'ubigeo16'\n",
       "14. 'dominio16'\n",
       "15. 'p400a316'\n",
       "16. 'p402216'\n",
       "17. 'mes17'\n",
       "18. 'ubigeo17'\n",
       "19. 'dominio17'\n",
       "20. 'p400a317'\n",
       "21. 'p402217'\n",
       "22. 'mes18'\n",
       "23. 'ubigeo18'\n",
       "24. 'dominio18'\n",
       "25. 'p400a318'\n",
       "26. 'p402218'\n",
       "27. 'mes19'\n",
       "28. 'ubigeo19'\n",
       "29. 'dominio19'\n",
       "30. 'p400a319'\n",
       "31. 'p402219'\n",
       "\n",
       "\n"
      ],
      "text/plain": [
       " [1] \"numper\"    \"numpanh15\" \"numpanh16\" \"numpanh17\" \"numpanh18\" \"numpanh19\"\n",
       " [7] \"mes15\"     \"ubigeo15\"  \"dominio15\" \"p400a315\"  \"p402215\"   \"mes16\"    \n",
       "[13] \"ubigeo16\"  \"dominio16\" \"p400a316\"  \"p402216\"   \"mes17\"     \"ubigeo17\" \n",
       "[19] \"dominio17\" \"p400a317\"  \"p402217\"   \"mes18\"     \"ubigeo18\"  \"dominio18\"\n",
       "[25] \"p400a318\"  \"p402218\"   \"mes19\"     \"ubigeo19\"  \"dominio19\" \"p400a319\" \n",
       "[31] \"p402219\"  "
      ]
     },
     "metadata": {},
     "output_type": "display_data"
    }
   ],
   "source": [
    "names(data1) <- filter_list\n",
    "names(data1)"
   ]
  },
  {
   "cell_type": "markdown",
   "id": "5b73461b",
   "metadata": {},
   "source": [
    "#### Data ENAHO Panel"
   ]
  },
  {
   "cell_type": "code",
   "execution_count": 7,
   "id": "b2fbc620",
   "metadata": {},
   "outputs": [
    {
     "data": {
      "text/html": [
       "<style>\n",
       ".list-inline {list-style: none; margin:0; padding: 0}\n",
       ".list-inline>li {display: inline-block}\n",
       ".list-inline>li:not(:last-child)::after {content: \"\\00b7\"; padding: 0 .5ex}\n",
       "</style>\n",
       "<ol class=list-inline><li>'numpanh15'</li><li>'mes_15'</li><li>'ubigeo_15'</li><li>'dominio_15'</li><li>'p400a3_15'</li><li>'p4022_15'</li></ol>\n"
      ],
      "text/latex": [
       "\\begin{enumerate*}\n",
       "\\item 'numpanh15'\n",
       "\\item 'mes\\_15'\n",
       "\\item 'ubigeo\\_15'\n",
       "\\item 'dominio\\_15'\n",
       "\\item 'p400a3\\_15'\n",
       "\\item 'p4022\\_15'\n",
       "\\end{enumerate*}\n"
      ],
      "text/markdown": [
       "1. 'numpanh15'\n",
       "2. 'mes_15'\n",
       "3. 'ubigeo_15'\n",
       "4. 'dominio_15'\n",
       "5. 'p400a3_15'\n",
       "6. 'p4022_15'\n",
       "\n",
       "\n"
      ],
      "text/plain": [
       "[1] \"numpanh15\"  \"mes_15\"     \"ubigeo_15\"  \"dominio_15\" \"p400a3_15\" \n",
       "[6] \"p4022_15\"  "
      ]
     },
     "metadata": {},
     "output_type": "display_data"
    }
   ],
   "source": [
    "year <- c(\"15\",\"16\",\"17\",\"18\",\"19\")\n",
    "names(data1)[grepl(year[1],names(data1))]"
   ]
  },
  {
   "cell_type": "code",
   "execution_count": 13,
   "id": "193c836c",
   "metadata": {},
   "outputs": [],
   "source": [
    "#Creamos base de datos por año, Quitamos numeros a las variables y creamos variable year \n",
    "#respectivamente. \n",
    "year <- c(\"15\",\"16\",\"17\",\"18\",\"19\")\n",
    "\n",
    "for (i in 1:5){\n",
    "    temp <- names(data1)[grepl(year[i],names(data1))]\n",
    "    if (year[i]==\"15\"){\n",
    "        data_panel <- data1[c(\"numper\",temp)]\n",
    "        asd <- glue(\"{year[1]}$\")\n",
    "        names(data1)[grepl(year[i],names(data1))]\n",
    "        data_panel$year <- glue(\"20{year[1]}\")\n",
    "    }\n",
    "    else{\n",
    "        data_temp <- data1[c(\"numper\",temp)]\n",
    "        asd <- glue(\"{year[i]}$\")\n",
    "        names(data_temp) <- gsub(asd, '', names(data_temp))\n",
    "        data_temp$year <- glue(\"20{year[i]}\")\n",
    "        data_panel <- rbind(data_panel, data_temp)\n",
    "    }\n",
    "    \n",
    "}"
   ]
  },
  {
   "cell_type": "code",
   "execution_count": 21,
   "id": "e5b8b749",
   "metadata": {},
   "outputs": [
    {
     "data": {
      "text/html": [
       "<table class=\"dataframe\">\n",
       "<caption>A tibble: 6 × 8</caption>\n",
       "<thead>\n",
       "\t<tr><th scope=col>numper</th><th scope=col>numpanh</th><th scope=col>mes</th><th scope=col>ubigeo</th><th scope=col>dominio</th><th scope=col>p400a3</th><th scope=col>p4022</th><th scope=col>year</th></tr>\n",
       "\t<tr><th scope=col>&lt;dbl&gt;</th><th scope=col>&lt;dbl&gt;</th><th scope=col>&lt;dbl&gt;</th><th scope=col>&lt;dbl&gt;</th><th scope=col>&lt;chr&gt;</th><th scope=col>&lt;dbl&gt;</th><th scope=col>&lt;dbl&gt;</th><th scope=col>&lt;glue&gt;</th></tr>\n",
       "</thead>\n",
       "<tbody>\n",
       "\t<tr><td>15368</td><td>1158</td><td>11</td><td>10101</td><td>sierra norte</td><td>1946</td><td>0</td><td>2015</td></tr>\n",
       "\t<tr><td>15369</td><td>1158</td><td>11</td><td>10101</td><td>sierra norte</td><td>1973</td><td>0</td><td>2015</td></tr>\n",
       "\t<tr><td>15380</td><td>1162</td><td>11</td><td>10101</td><td>sierra norte</td><td>1987</td><td>1</td><td>2015</td></tr>\n",
       "\t<tr><td>15381</td><td>1162</td><td>11</td><td>10101</td><td>sierra norte</td><td>2009</td><td>1</td><td>2015</td></tr>\n",
       "\t<tr><td>15410</td><td>1185</td><td> 7</td><td>10101</td><td>sierra norte</td><td>1955</td><td>0</td><td>2015</td></tr>\n",
       "\t<tr><td>15412</td><td>1186</td><td> 7</td><td>10101</td><td>sierra norte</td><td>1966</td><td>0</td><td>2015</td></tr>\n",
       "</tbody>\n",
       "</table>\n"
      ],
      "text/latex": [
       "A tibble: 6 × 8\n",
       "\\begin{tabular}{llllllll}\n",
       " numper & numpanh & mes & ubigeo & dominio & p400a3 & p4022 & year\\\\\n",
       " <dbl> & <dbl> & <dbl> & <dbl> & <chr> & <dbl> & <dbl> & <glue>\\\\\n",
       "\\hline\n",
       "\t 15368 & 1158 & 11 & 10101 & sierra norte & 1946 & 0 & 2015\\\\\n",
       "\t 15369 & 1158 & 11 & 10101 & sierra norte & 1973 & 0 & 2015\\\\\n",
       "\t 15380 & 1162 & 11 & 10101 & sierra norte & 1987 & 1 & 2015\\\\\n",
       "\t 15381 & 1162 & 11 & 10101 & sierra norte & 2009 & 1 & 2015\\\\\n",
       "\t 15410 & 1185 &  7 & 10101 & sierra norte & 1955 & 0 & 2015\\\\\n",
       "\t 15412 & 1186 &  7 & 10101 & sierra norte & 1966 & 0 & 2015\\\\\n",
       "\\end{tabular}\n"
      ],
      "text/markdown": [
       "\n",
       "A tibble: 6 × 8\n",
       "\n",
       "| numper &lt;dbl&gt; | numpanh &lt;dbl&gt; | mes &lt;dbl&gt; | ubigeo &lt;dbl&gt; | dominio &lt;chr&gt; | p400a3 &lt;dbl&gt; | p4022 &lt;dbl&gt; | year &lt;glue&gt; |\n",
       "|---|---|---|---|---|---|---|---|\n",
       "| 15368 | 1158 | 11 | 10101 | sierra norte | 1946 | 0 | 2015 |\n",
       "| 15369 | 1158 | 11 | 10101 | sierra norte | 1973 | 0 | 2015 |\n",
       "| 15380 | 1162 | 11 | 10101 | sierra norte | 1987 | 1 | 2015 |\n",
       "| 15381 | 1162 | 11 | 10101 | sierra norte | 2009 | 1 | 2015 |\n",
       "| 15410 | 1185 |  7 | 10101 | sierra norte | 1955 | 0 | 2015 |\n",
       "| 15412 | 1186 |  7 | 10101 | sierra norte | 1966 | 0 | 2015 |\n",
       "\n"
      ],
      "text/plain": [
       "  numper numpanh mes ubigeo dominio      p400a3 p4022 year\n",
       "1 15368  1158    11  10101  sierra norte 1946   0     2015\n",
       "2 15369  1158    11  10101  sierra norte 1973   0     2015\n",
       "3 15380  1162    11  10101  sierra norte 1987   1     2015\n",
       "4 15381  1162    11  10101  sierra norte 2009   1     2015\n",
       "5 15410  1185     7  10101  sierra norte 1955   0     2015\n",
       "6 15412  1186     7  10101  sierra norte 1966   0     2015"
      ]
     },
     "metadata": {},
     "output_type": "display_data"
    }
   ],
   "source": [
    "#Data ENAHO (panel 2015-2019) LIMPIA.\n",
    "names(data_panel) <- gsub(\"_$\",\"\",names(data_panel))\n",
    "head(data_panel)"
   ]
  },
  {
   "cell_type": "markdown",
   "id": "fb7faa78",
   "metadata": {},
   "source": [
    "#### MERGE"
   ]
  },
  {
   "cell_type": "code",
   "execution_count": 22,
   "id": "43cb658a",
   "metadata": {},
   "outputs": [],
   "source": [
    "#### Combinamos las bases de PANEL ENAHO y programa Juntos\n",
    "base_total <- merge( data_panel, data2, by = c(\"ubigeo\"), all.x = TRUE)"
   ]
  },
  {
   "cell_type": "code",
   "execution_count": 59,
   "id": "eea99770",
   "metadata": {},
   "outputs": [
    {
     "data": {
      "text/html": [
       "<table class=\"dataframe\">\n",
       "<caption>A data.frame: 6 × 12</caption>\n",
       "<thead>\n",
       "\t<tr><th></th><th scope=col>ubigeo</th><th scope=col>numper</th><th scope=col>numpanh</th><th scope=col>mes</th><th scope=col>dominio</th><th scope=col>p400a3</th><th scope=col>p4022</th><th scope=col>year</th><th scope=col>distrito</th><th scope=col>provincia</th><th scope=col>region</th><th scope=col>unidos</th></tr>\n",
       "\t<tr><th></th><th scope=col>&lt;dbl&gt;</th><th scope=col>&lt;labelled&gt;</th><th scope=col>&lt;labelled&gt;</th><th scope=col>&lt;labelled&gt;</th><th scope=col>&lt;chr&gt;</th><th scope=col>&lt;labelled&gt;</th><th scope=col>&lt;labelled&gt;</th><th scope=col>&lt;glue&gt;</th><th scope=col>&lt;chr&gt;</th><th scope=col>&lt;chr&gt;</th><th scope=col>&lt;chr&gt;</th><th scope=col>&lt;labelled&gt;</th></tr>\n",
       "</thead>\n",
       "<tbody>\n",
       "\t<tr><th scope=row>1</th><td>10101</td><td>15368</td><td>1158</td><td>11</td><td>sierra norte</td><td>1946</td><td>0</td><td>2015</td><td>Chachapoyas</td><td>Chachapoyas</td><td>Amazonas</td><td>1</td></tr>\n",
       "\t<tr><th scope=row>2</th><td>10101</td><td>15369</td><td>1158</td><td>11</td><td>sierra norte</td><td>1973</td><td>0</td><td>2015</td><td>Chachapoyas</td><td>Chachapoyas</td><td>Amazonas</td><td>1</td></tr>\n",
       "\t<tr><th scope=row>3</th><td>10101</td><td>15380</td><td>1162</td><td>11</td><td>sierra norte</td><td>1987</td><td>1</td><td>2015</td><td>Chachapoyas</td><td>Chachapoyas</td><td>Amazonas</td><td>1</td></tr>\n",
       "\t<tr><th scope=row>4</th><td>10101</td><td>15381</td><td>1162</td><td>11</td><td>sierra norte</td><td>2009</td><td>1</td><td>2015</td><td>Chachapoyas</td><td>Chachapoyas</td><td>Amazonas</td><td>1</td></tr>\n",
       "\t<tr><th scope=row>5</th><td>10101</td><td>15410</td><td>1185</td><td> 7</td><td>sierra norte</td><td>1955</td><td>0</td><td>2015</td><td>Chachapoyas</td><td>Chachapoyas</td><td>Amazonas</td><td>1</td></tr>\n",
       "\t<tr><th scope=row>6</th><td>10101</td><td>15412</td><td>1186</td><td> 7</td><td>sierra norte</td><td>1966</td><td>0</td><td>2015</td><td>Chachapoyas</td><td>Chachapoyas</td><td>Amazonas</td><td>1</td></tr>\n",
       "</tbody>\n",
       "</table>\n"
      ],
      "text/latex": [
       "A data.frame: 6 × 12\n",
       "\\begin{tabular}{r|llllllllllll}\n",
       "  & ubigeo & numper & numpanh & mes & dominio & p400a3 & p4022 & year & distrito & provincia & region & unidos\\\\\n",
       "  & <dbl> & <labelled> & <labelled> & <labelled> & <chr> & <labelled> & <labelled> & <glue> & <chr> & <chr> & <chr> & <labelled>\\\\\n",
       "\\hline\n",
       "\t1 & 10101 & 15368 & 1158 & 11 & sierra norte & 1946 & 0 & 2015 & Chachapoyas & Chachapoyas & Amazonas & 1\\\\\n",
       "\t2 & 10101 & 15369 & 1158 & 11 & sierra norte & 1973 & 0 & 2015 & Chachapoyas & Chachapoyas & Amazonas & 1\\\\\n",
       "\t3 & 10101 & 15380 & 1162 & 11 & sierra norte & 1987 & 1 & 2015 & Chachapoyas & Chachapoyas & Amazonas & 1\\\\\n",
       "\t4 & 10101 & 15381 & 1162 & 11 & sierra norte & 2009 & 1 & 2015 & Chachapoyas & Chachapoyas & Amazonas & 1\\\\\n",
       "\t5 & 10101 & 15410 & 1185 &  7 & sierra norte & 1955 & 0 & 2015 & Chachapoyas & Chachapoyas & Amazonas & 1\\\\\n",
       "\t6 & 10101 & 15412 & 1186 &  7 & sierra norte & 1966 & 0 & 2015 & Chachapoyas & Chachapoyas & Amazonas & 1\\\\\n",
       "\\end{tabular}\n"
      ],
      "text/markdown": [
       "\n",
       "A data.frame: 6 × 12\n",
       "\n",
       "| <!--/--> | ubigeo &lt;dbl&gt; | numper &lt;labelled&gt; | numpanh &lt;labelled&gt; | mes &lt;labelled&gt; | dominio &lt;chr&gt; | p400a3 &lt;labelled&gt; | p4022 &lt;labelled&gt; | year &lt;glue&gt; | distrito &lt;chr&gt; | provincia &lt;chr&gt; | region &lt;chr&gt; | unidos &lt;labelled&gt; |\n",
       "|---|---|---|---|---|---|---|---|---|---|---|---|---|\n",
       "| 1 | 10101 | 15368 | 1158 | 11 | sierra norte | 1946 | 0 | 2015 | Chachapoyas | Chachapoyas | Amazonas | 1 |\n",
       "| 2 | 10101 | 15369 | 1158 | 11 | sierra norte | 1973 | 0 | 2015 | Chachapoyas | Chachapoyas | Amazonas | 1 |\n",
       "| 3 | 10101 | 15380 | 1162 | 11 | sierra norte | 1987 | 1 | 2015 | Chachapoyas | Chachapoyas | Amazonas | 1 |\n",
       "| 4 | 10101 | 15381 | 1162 | 11 | sierra norte | 2009 | 1 | 2015 | Chachapoyas | Chachapoyas | Amazonas | 1 |\n",
       "| 5 | 10101 | 15410 | 1185 |  7 | sierra norte | 1955 | 0 | 2015 | Chachapoyas | Chachapoyas | Amazonas | 1 |\n",
       "| 6 | 10101 | 15412 | 1186 |  7 | sierra norte | 1966 | 0 | 2015 | Chachapoyas | Chachapoyas | Amazonas | 1 |\n",
       "\n"
      ],
      "text/plain": [
       "  ubigeo numper numpanh mes dominio      p400a3 p4022 year distrito   \n",
       "1 10101  15368  1158    11  sierra norte 1946   0     2015 Chachapoyas\n",
       "2 10101  15369  1158    11  sierra norte 1973   0     2015 Chachapoyas\n",
       "3 10101  15380  1162    11  sierra norte 1987   1     2015 Chachapoyas\n",
       "4 10101  15381  1162    11  sierra norte 2009   1     2015 Chachapoyas\n",
       "5 10101  15410  1185     7  sierra norte 1955   0     2015 Chachapoyas\n",
       "6 10101  15412  1186     7  sierra norte 1966   0     2015 Chachapoyas\n",
       "  provincia   region   unidos\n",
       "1 Chachapoyas Amazonas 1     \n",
       "2 Chachapoyas Amazonas 1     \n",
       "3 Chachapoyas Amazonas 1     \n",
       "4 Chachapoyas Amazonas 1     \n",
       "5 Chachapoyas Amazonas 1     \n",
       "6 Chachapoyas Amazonas 1     "
      ]
     },
     "metadata": {},
     "output_type": "display_data"
    }
   ],
   "source": [
    "head(base_total)"
   ]
  },
  {
   "cell_type": "markdown",
   "id": "7bc2e19f",
   "metadata": {},
   "source": [
    "### LABELS"
   ]
  },
  {
   "cell_type": "code",
   "execution_count": 35,
   "id": "4df8100e",
   "metadata": {},
   "outputs": [],
   "source": [
    "var_lab(base_total$numper) = \"Unique individual identifier\""
   ]
  },
  {
   "cell_type": "code",
   "execution_count": 47,
   "id": "57014cc8",
   "metadata": {},
   "outputs": [],
   "source": [
    "var_lab(base_total$numpanh) = \"Unique household identifier in each year\""
   ]
  },
  {
   "cell_type": "code",
   "execution_count": 37,
   "id": "33caee30",
   "metadata": {},
   "outputs": [],
   "source": [
    "var_lab(base_total$mes) = \"Month of the survey\""
   ]
  },
  {
   "cell_type": "code",
   "execution_count": 48,
   "id": "cdfc9cff",
   "metadata": {},
   "outputs": [],
   "source": [
    "var_lab(base_total$p400a3) = \"Year of birth of the person, reported in each year\"\n"
   ]
  },
  {
   "cell_type": "code",
   "execution_count": 42,
   "id": "109c5272",
   "metadata": {},
   "outputs": [],
   "source": [
    "# DUMMY:\n",
    "var_lab(base_total$p4022) = \"Dummy : 1 if the person was sick in the last 4 weeks\""
   ]
  },
  {
   "cell_type": "code",
   "execution_count": 45,
   "id": "44577f33",
   "metadata": {},
   "outputs": [],
   "source": [
    "var_lab(base_total$unidos) = \"Dummy : 1 if Programa Juntos was applied in the district\""
   ]
  },
  {
   "cell_type": "code",
   "execution_count": 49,
   "id": "b297fa27",
   "metadata": {},
   "outputs": [
    {
     "name": "stdout",
     "output_type": "stream",
     "text": [
      "'data.frame':\t27730 obs. of  12 variables:\n",
      " $ ubigeo   : num  10101 10101 10101 10101 10101 ...\n",
      " $ numper   :Class 'labelled' num  15368 15369 15380 15381 15410 ...\n",
      "   .. .. LABEL: Unique individual identifier \n",
      " $ numpanh  :Class 'labelled' num  1158 1158 1162 1162 1185 ...\n",
      "   .. .. LABEL: Unique household identifier in each year \n",
      " $ mes      :Class 'labelled' num  11 11 11 11 7 7 7 7 11 11 ...\n",
      "   .. .. LABEL: Month of the survey in 2015 \n",
      " $ dominio  : chr  \"sierra norte\" \"sierra norte\" \"sierra norte\" \"sierra norte\" ...\n",
      " $ p400a3   :Class 'labelled' num  1946 1973 1987 2009 1955 ...\n",
      "   .. .. LABEL: Year of birth of the person, reported in each year \n",
      " $ p4022    :Class 'labelled' num  0 0 1 1 0 0 0 0 0 0 ...\n",
      "   .. .. LABEL: Dummy : 1 if the person was sick in the last 4 weeks \n",
      " $ year     : 'glue' chr  \"2015\" \"2015\" \"2015\" \"2015\" ...\n",
      " $ distrito : chr  \"Chachapoyas\" \"Chachapoyas\" \"Chachapoyas\" \"Chachapoyas\" ...\n",
      " $ provincia: chr  \"Chachapoyas\" \"Chachapoyas\" \"Chachapoyas\" \"Chachapoyas\" ...\n",
      " $ region   : chr  \"Amazonas\" \"Amazonas\" \"Amazonas\" \"Amazonas\" ...\n",
      " $ unidos   :Class 'labelled' num  1 1 1 1 1 1 1 1 1 1 ...\n",
      "   .. .. LABEL: Dummy : 1 if Programa Juntos was applied in the district \n"
     ]
    }
   ],
   "source": [
    "str(base_total) "
   ]
  },
  {
   "cell_type": "markdown",
   "id": "93bdba1c",
   "metadata": {},
   "source": [
    "### Porcentaje de distritos por departamentos que se beneficiaron del Programa Juntos en cada año."
   ]
  },
  {
   "cell_type": "code",
   "execution_count": 64,
   "id": "088b7ff4",
   "metadata": {},
   "outputs": [],
   "source": [
    "base_a <- distinct(base_total[c(\"year\",\"distrito\",\"provincia\",\"region\",\"unidos\")])"
   ]
  },
  {
   "cell_type": "code",
   "execution_count": 66,
   "id": "6ad9c47b",
   "metadata": {},
   "outputs": [
    {
     "data": {
      "text/html": [
       "<table class=\"dataframe\">\n",
       "<caption>A data.frame: 6 × 5</caption>\n",
       "<thead>\n",
       "\t<tr><th></th><th scope=col>year</th><th scope=col>distrito</th><th scope=col>provincia</th><th scope=col>region</th><th scope=col>unidos</th></tr>\n",
       "\t<tr><th></th><th scope=col>&lt;glue&gt;</th><th scope=col>&lt;chr&gt;</th><th scope=col>&lt;chr&gt;</th><th scope=col>&lt;chr&gt;</th><th scope=col>&lt;labelled&gt;</th></tr>\n",
       "</thead>\n",
       "<tbody>\n",
       "\t<tr><th scope=row>1</th><td>2015</td><td>Chachapoyas</td><td>Chachapoyas</td><td>Amazonas</td><td>1</td></tr>\n",
       "\t<tr><th scope=row>2</th><td>2016</td><td>Chachapoyas</td><td>Chachapoyas</td><td>Amazonas</td><td>1</td></tr>\n",
       "\t<tr><th scope=row>3</th><td>2017</td><td>Chachapoyas</td><td>Chachapoyas</td><td>Amazonas</td><td>1</td></tr>\n",
       "\t<tr><th scope=row>4</th><td>2019</td><td>Chachapoyas</td><td>Chachapoyas</td><td>Amazonas</td><td>1</td></tr>\n",
       "\t<tr><th scope=row>5</th><td>2018</td><td>Chachapoyas</td><td>Chachapoyas</td><td>Amazonas</td><td>1</td></tr>\n",
       "\t<tr><th scope=row>6</th><td>2019</td><td>La Jalca   </td><td>Chachapoyas</td><td>Amazonas</td><td>0</td></tr>\n",
       "</tbody>\n",
       "</table>\n"
      ],
      "text/latex": [
       "A data.frame: 6 × 5\n",
       "\\begin{tabular}{r|lllll}\n",
       "  & year & distrito & provincia & region & unidos\\\\\n",
       "  & <glue> & <chr> & <chr> & <chr> & <labelled>\\\\\n",
       "\\hline\n",
       "\t1 & 2015 & Chachapoyas & Chachapoyas & Amazonas & 1\\\\\n",
       "\t2 & 2016 & Chachapoyas & Chachapoyas & Amazonas & 1\\\\\n",
       "\t3 & 2017 & Chachapoyas & Chachapoyas & Amazonas & 1\\\\\n",
       "\t4 & 2019 & Chachapoyas & Chachapoyas & Amazonas & 1\\\\\n",
       "\t5 & 2018 & Chachapoyas & Chachapoyas & Amazonas & 1\\\\\n",
       "\t6 & 2019 & La Jalca    & Chachapoyas & Amazonas & 0\\\\\n",
       "\\end{tabular}\n"
      ],
      "text/markdown": [
       "\n",
       "A data.frame: 6 × 5\n",
       "\n",
       "| <!--/--> | year &lt;glue&gt; | distrito &lt;chr&gt; | provincia &lt;chr&gt; | region &lt;chr&gt; | unidos &lt;labelled&gt; |\n",
       "|---|---|---|---|---|---|\n",
       "| 1 | 2015 | Chachapoyas | Chachapoyas | Amazonas | 1 |\n",
       "| 2 | 2016 | Chachapoyas | Chachapoyas | Amazonas | 1 |\n",
       "| 3 | 2017 | Chachapoyas | Chachapoyas | Amazonas | 1 |\n",
       "| 4 | 2019 | Chachapoyas | Chachapoyas | Amazonas | 1 |\n",
       "| 5 | 2018 | Chachapoyas | Chachapoyas | Amazonas | 1 |\n",
       "| 6 | 2019 | La Jalca    | Chachapoyas | Amazonas | 0 |\n",
       "\n"
      ],
      "text/plain": [
       "  year distrito    provincia   region   unidos\n",
       "1 2015 Chachapoyas Chachapoyas Amazonas 1     \n",
       "2 2016 Chachapoyas Chachapoyas Amazonas 1     \n",
       "3 2017 Chachapoyas Chachapoyas Amazonas 1     \n",
       "4 2019 Chachapoyas Chachapoyas Amazonas 1     \n",
       "5 2018 Chachapoyas Chachapoyas Amazonas 1     \n",
       "6 2019 La Jalca    Chachapoyas Amazonas 0     "
      ]
     },
     "metadata": {},
     "output_type": "display_data"
    }
   ],
   "source": [
    "head(base_a)"
   ]
  },
  {
   "cell_type": "code",
   "execution_count": 73,
   "id": "1294fa6b",
   "metadata": {},
   "outputs": [
    {
     "name": "stderr",
     "output_type": "stream",
     "text": [
      "\u001b[1m\u001b[22m`summarise()` has grouped output by 'year'. You can override using the `.groups` argument.\n"
     ]
    },
    {
     "data": {
      "text/html": [
       "<table class=\"dataframe\">\n",
       "<caption>A grouped_df: 125 × 5</caption>\n",
       "<thead>\n",
       "\t<tr><th scope=col>year</th><th scope=col>region</th><th scope=col>num_distrito</th><th scope=col>num_distrito_juntos</th><th scope=col>porc_juntos_depart</th></tr>\n",
       "\t<tr><th scope=col>&lt;glue&gt;</th><th scope=col>&lt;chr&gt;</th><th scope=col>&lt;int&gt;</th><th scope=col>&lt;dbl&gt;</th><th scope=col>&lt;dbl&gt;</th></tr>\n",
       "</thead>\n",
       "<tbody>\n",
       "\t<tr><td>2015</td><td>Amazonas     </td><td>10</td><td> 5</td><td>50.00000</td></tr>\n",
       "\t<tr><td>2015</td><td>Ancash       </td><td>12</td><td> 6</td><td>50.00000</td></tr>\n",
       "\t<tr><td>2015</td><td>Apurimac     </td><td>11</td><td> 6</td><td>54.54545</td></tr>\n",
       "\t<tr><td>2015</td><td>Arequipa     </td><td>17</td><td>11</td><td>64.70588</td></tr>\n",
       "\t<tr><td>2015</td><td>Ayacucho     </td><td>13</td><td>10</td><td>76.92308</td></tr>\n",
       "\t<tr><td>2015</td><td>Cajamarca    </td><td>13</td><td> 6</td><td>46.15385</td></tr>\n",
       "\t<tr><td>2015</td><td>Callao       </td><td> 3</td><td> 2</td><td>66.66667</td></tr>\n",
       "\t<tr><td>2015</td><td>Cusco        </td><td>13</td><td> 2</td><td>15.38462</td></tr>\n",
       "\t<tr><td>2015</td><td>Huancavelica </td><td>10</td><td> 6</td><td>60.00000</td></tr>\n",
       "\t<tr><td>2015</td><td>Huanuco      </td><td>13</td><td> 5</td><td>38.46154</td></tr>\n",
       "\t<tr><td>2015</td><td>Ica          </td><td>14</td><td> 9</td><td>64.28571</td></tr>\n",
       "\t<tr><td>2015</td><td>Junin        </td><td>12</td><td> 7</td><td>58.33333</td></tr>\n",
       "\t<tr><td>2015</td><td>La Libertad  </td><td>13</td><td> 6</td><td>46.15385</td></tr>\n",
       "\t<tr><td>2015</td><td>Lambayeque   </td><td>12</td><td> 5</td><td>41.66667</td></tr>\n",
       "\t<tr><td>2015</td><td>Lima         </td><td>37</td><td>18</td><td>48.64865</td></tr>\n",
       "\t<tr><td>2015</td><td>Loreto       </td><td>12</td><td> 6</td><td>50.00000</td></tr>\n",
       "\t<tr><td>2015</td><td>Madre de Dios</td><td> 5</td><td> 3</td><td>60.00000</td></tr>\n",
       "\t<tr><td>2015</td><td>Moquegua     </td><td> 5</td><td> 3</td><td>60.00000</td></tr>\n",
       "\t<tr><td>2015</td><td>Pasco        </td><td> 7</td><td> 5</td><td>71.42857</td></tr>\n",
       "\t<tr><td>2015</td><td>Piura        </td><td>15</td><td> 5</td><td>33.33333</td></tr>\n",
       "\t<tr><td>2015</td><td>Puno         </td><td>10</td><td> 4</td><td>40.00000</td></tr>\n",
       "\t<tr><td>2015</td><td>San Martin   </td><td>12</td><td> 6</td><td>50.00000</td></tr>\n",
       "\t<tr><td>2015</td><td>Tacna        </td><td>10</td><td> 5</td><td>50.00000</td></tr>\n",
       "\t<tr><td>2015</td><td>Tumbes       </td><td> 7</td><td> 3</td><td>42.85714</td></tr>\n",
       "\t<tr><td>2015</td><td>Ucayali      </td><td> 8</td><td> 5</td><td>62.50000</td></tr>\n",
       "\t<tr><td>2016</td><td>Amazonas     </td><td>10</td><td> 5</td><td>50.00000</td></tr>\n",
       "\t<tr><td>2016</td><td>Ancash       </td><td>12</td><td> 6</td><td>50.00000</td></tr>\n",
       "\t<tr><td>2016</td><td>Apurimac     </td><td>11</td><td> 6</td><td>54.54545</td></tr>\n",
       "\t<tr><td>2016</td><td>Arequipa     </td><td>17</td><td>11</td><td>64.70588</td></tr>\n",
       "\t<tr><td>2016</td><td>Ayacucho     </td><td>13</td><td>10</td><td>76.92308</td></tr>\n",
       "\t<tr><td>...</td><td>...</td><td>...</td><td>...</td><td>...</td></tr>\n",
       "\t<tr><td>2018</td><td>Puno         </td><td>10</td><td> 4</td><td>40.00000</td></tr>\n",
       "\t<tr><td>2018</td><td>San Martin   </td><td>12</td><td> 6</td><td>50.00000</td></tr>\n",
       "\t<tr><td>2018</td><td>Tacna        </td><td>10</td><td> 5</td><td>50.00000</td></tr>\n",
       "\t<tr><td>2018</td><td>Tumbes       </td><td> 7</td><td> 3</td><td>42.85714</td></tr>\n",
       "\t<tr><td>2018</td><td>Ucayali      </td><td> 8</td><td> 5</td><td>62.50000</td></tr>\n",
       "\t<tr><td>2019</td><td>Amazonas     </td><td>10</td><td> 5</td><td>50.00000</td></tr>\n",
       "\t<tr><td>2019</td><td>Ancash       </td><td>12</td><td> 6</td><td>50.00000</td></tr>\n",
       "\t<tr><td>2019</td><td>Apurimac     </td><td>11</td><td> 6</td><td>54.54545</td></tr>\n",
       "\t<tr><td>2019</td><td>Arequipa     </td><td>17</td><td>11</td><td>64.70588</td></tr>\n",
       "\t<tr><td>2019</td><td>Ayacucho     </td><td>13</td><td>10</td><td>76.92308</td></tr>\n",
       "\t<tr><td>2019</td><td>Cajamarca    </td><td>13</td><td> 6</td><td>46.15385</td></tr>\n",
       "\t<tr><td>2019</td><td>Callao       </td><td> 3</td><td> 2</td><td>66.66667</td></tr>\n",
       "\t<tr><td>2019</td><td>Cusco        </td><td>13</td><td> 2</td><td>15.38462</td></tr>\n",
       "\t<tr><td>2019</td><td>Huancavelica </td><td>10</td><td> 6</td><td>60.00000</td></tr>\n",
       "\t<tr><td>2019</td><td>Huanuco      </td><td>13</td><td> 5</td><td>38.46154</td></tr>\n",
       "\t<tr><td>2019</td><td>Ica          </td><td>14</td><td> 9</td><td>64.28571</td></tr>\n",
       "\t<tr><td>2019</td><td>Junin        </td><td>12</td><td> 7</td><td>58.33333</td></tr>\n",
       "\t<tr><td>2019</td><td>La Libertad  </td><td>13</td><td> 6</td><td>46.15385</td></tr>\n",
       "\t<tr><td>2019</td><td>Lambayeque   </td><td>12</td><td> 5</td><td>41.66667</td></tr>\n",
       "\t<tr><td>2019</td><td>Lima         </td><td>37</td><td>18</td><td>48.64865</td></tr>\n",
       "\t<tr><td>2019</td><td>Loreto       </td><td>12</td><td> 6</td><td>50.00000</td></tr>\n",
       "\t<tr><td>2019</td><td>Madre de Dios</td><td> 5</td><td> 3</td><td>60.00000</td></tr>\n",
       "\t<tr><td>2019</td><td>Moquegua     </td><td> 5</td><td> 3</td><td>60.00000</td></tr>\n",
       "\t<tr><td>2019</td><td>Pasco        </td><td> 7</td><td> 5</td><td>71.42857</td></tr>\n",
       "\t<tr><td>2019</td><td>Piura        </td><td>15</td><td> 5</td><td>33.33333</td></tr>\n",
       "\t<tr><td>2019</td><td>Puno         </td><td>10</td><td> 4</td><td>40.00000</td></tr>\n",
       "\t<tr><td>2019</td><td>San Martin   </td><td>12</td><td> 6</td><td>50.00000</td></tr>\n",
       "\t<tr><td>2019</td><td>Tacna        </td><td>10</td><td> 5</td><td>50.00000</td></tr>\n",
       "\t<tr><td>2019</td><td>Tumbes       </td><td> 7</td><td> 3</td><td>42.85714</td></tr>\n",
       "\t<tr><td>2019</td><td>Ucayali      </td><td> 8</td><td> 5</td><td>62.50000</td></tr>\n",
       "</tbody>\n",
       "</table>\n"
      ],
      "text/latex": [
       "A grouped\\_df: 125 × 5\n",
       "\\begin{tabular}{lllll}\n",
       " year & region & num\\_distrito & num\\_distrito\\_juntos & porc\\_juntos\\_depart\\\\\n",
       " <glue> & <chr> & <int> & <dbl> & <dbl>\\\\\n",
       "\\hline\n",
       "\t 2015 & Amazonas      & 10 &  5 & 50.00000\\\\\n",
       "\t 2015 & Ancash        & 12 &  6 & 50.00000\\\\\n",
       "\t 2015 & Apurimac      & 11 &  6 & 54.54545\\\\\n",
       "\t 2015 & Arequipa      & 17 & 11 & 64.70588\\\\\n",
       "\t 2015 & Ayacucho      & 13 & 10 & 76.92308\\\\\n",
       "\t 2015 & Cajamarca     & 13 &  6 & 46.15385\\\\\n",
       "\t 2015 & Callao        &  3 &  2 & 66.66667\\\\\n",
       "\t 2015 & Cusco         & 13 &  2 & 15.38462\\\\\n",
       "\t 2015 & Huancavelica  & 10 &  6 & 60.00000\\\\\n",
       "\t 2015 & Huanuco       & 13 &  5 & 38.46154\\\\\n",
       "\t 2015 & Ica           & 14 &  9 & 64.28571\\\\\n",
       "\t 2015 & Junin         & 12 &  7 & 58.33333\\\\\n",
       "\t 2015 & La Libertad   & 13 &  6 & 46.15385\\\\\n",
       "\t 2015 & Lambayeque    & 12 &  5 & 41.66667\\\\\n",
       "\t 2015 & Lima          & 37 & 18 & 48.64865\\\\\n",
       "\t 2015 & Loreto        & 12 &  6 & 50.00000\\\\\n",
       "\t 2015 & Madre de Dios &  5 &  3 & 60.00000\\\\\n",
       "\t 2015 & Moquegua      &  5 &  3 & 60.00000\\\\\n",
       "\t 2015 & Pasco         &  7 &  5 & 71.42857\\\\\n",
       "\t 2015 & Piura         & 15 &  5 & 33.33333\\\\\n",
       "\t 2015 & Puno          & 10 &  4 & 40.00000\\\\\n",
       "\t 2015 & San Martin    & 12 &  6 & 50.00000\\\\\n",
       "\t 2015 & Tacna         & 10 &  5 & 50.00000\\\\\n",
       "\t 2015 & Tumbes        &  7 &  3 & 42.85714\\\\\n",
       "\t 2015 & Ucayali       &  8 &  5 & 62.50000\\\\\n",
       "\t 2016 & Amazonas      & 10 &  5 & 50.00000\\\\\n",
       "\t 2016 & Ancash        & 12 &  6 & 50.00000\\\\\n",
       "\t 2016 & Apurimac      & 11 &  6 & 54.54545\\\\\n",
       "\t 2016 & Arequipa      & 17 & 11 & 64.70588\\\\\n",
       "\t 2016 & Ayacucho      & 13 & 10 & 76.92308\\\\\n",
       "\t ... & ... & ... & ... & ...\\\\\n",
       "\t 2018 & Puno          & 10 &  4 & 40.00000\\\\\n",
       "\t 2018 & San Martin    & 12 &  6 & 50.00000\\\\\n",
       "\t 2018 & Tacna         & 10 &  5 & 50.00000\\\\\n",
       "\t 2018 & Tumbes        &  7 &  3 & 42.85714\\\\\n",
       "\t 2018 & Ucayali       &  8 &  5 & 62.50000\\\\\n",
       "\t 2019 & Amazonas      & 10 &  5 & 50.00000\\\\\n",
       "\t 2019 & Ancash        & 12 &  6 & 50.00000\\\\\n",
       "\t 2019 & Apurimac      & 11 &  6 & 54.54545\\\\\n",
       "\t 2019 & Arequipa      & 17 & 11 & 64.70588\\\\\n",
       "\t 2019 & Ayacucho      & 13 & 10 & 76.92308\\\\\n",
       "\t 2019 & Cajamarca     & 13 &  6 & 46.15385\\\\\n",
       "\t 2019 & Callao        &  3 &  2 & 66.66667\\\\\n",
       "\t 2019 & Cusco         & 13 &  2 & 15.38462\\\\\n",
       "\t 2019 & Huancavelica  & 10 &  6 & 60.00000\\\\\n",
       "\t 2019 & Huanuco       & 13 &  5 & 38.46154\\\\\n",
       "\t 2019 & Ica           & 14 &  9 & 64.28571\\\\\n",
       "\t 2019 & Junin         & 12 &  7 & 58.33333\\\\\n",
       "\t 2019 & La Libertad   & 13 &  6 & 46.15385\\\\\n",
       "\t 2019 & Lambayeque    & 12 &  5 & 41.66667\\\\\n",
       "\t 2019 & Lima          & 37 & 18 & 48.64865\\\\\n",
       "\t 2019 & Loreto        & 12 &  6 & 50.00000\\\\\n",
       "\t 2019 & Madre de Dios &  5 &  3 & 60.00000\\\\\n",
       "\t 2019 & Moquegua      &  5 &  3 & 60.00000\\\\\n",
       "\t 2019 & Pasco         &  7 &  5 & 71.42857\\\\\n",
       "\t 2019 & Piura         & 15 &  5 & 33.33333\\\\\n",
       "\t 2019 & Puno          & 10 &  4 & 40.00000\\\\\n",
       "\t 2019 & San Martin    & 12 &  6 & 50.00000\\\\\n",
       "\t 2019 & Tacna         & 10 &  5 & 50.00000\\\\\n",
       "\t 2019 & Tumbes        &  7 &  3 & 42.85714\\\\\n",
       "\t 2019 & Ucayali       &  8 &  5 & 62.50000\\\\\n",
       "\\end{tabular}\n"
      ],
      "text/markdown": [
       "\n",
       "A grouped_df: 125 × 5\n",
       "\n",
       "| year &lt;glue&gt; | region &lt;chr&gt; | num_distrito &lt;int&gt; | num_distrito_juntos &lt;dbl&gt; | porc_juntos_depart &lt;dbl&gt; |\n",
       "|---|---|---|---|---|\n",
       "| 2015 | Amazonas      | 10 |  5 | 50.00000 |\n",
       "| 2015 | Ancash        | 12 |  6 | 50.00000 |\n",
       "| 2015 | Apurimac      | 11 |  6 | 54.54545 |\n",
       "| 2015 | Arequipa      | 17 | 11 | 64.70588 |\n",
       "| 2015 | Ayacucho      | 13 | 10 | 76.92308 |\n",
       "| 2015 | Cajamarca     | 13 |  6 | 46.15385 |\n",
       "| 2015 | Callao        |  3 |  2 | 66.66667 |\n",
       "| 2015 | Cusco         | 13 |  2 | 15.38462 |\n",
       "| 2015 | Huancavelica  | 10 |  6 | 60.00000 |\n",
       "| 2015 | Huanuco       | 13 |  5 | 38.46154 |\n",
       "| 2015 | Ica           | 14 |  9 | 64.28571 |\n",
       "| 2015 | Junin         | 12 |  7 | 58.33333 |\n",
       "| 2015 | La Libertad   | 13 |  6 | 46.15385 |\n",
       "| 2015 | Lambayeque    | 12 |  5 | 41.66667 |\n",
       "| 2015 | Lima          | 37 | 18 | 48.64865 |\n",
       "| 2015 | Loreto        | 12 |  6 | 50.00000 |\n",
       "| 2015 | Madre de Dios |  5 |  3 | 60.00000 |\n",
       "| 2015 | Moquegua      |  5 |  3 | 60.00000 |\n",
       "| 2015 | Pasco         |  7 |  5 | 71.42857 |\n",
       "| 2015 | Piura         | 15 |  5 | 33.33333 |\n",
       "| 2015 | Puno          | 10 |  4 | 40.00000 |\n",
       "| 2015 | San Martin    | 12 |  6 | 50.00000 |\n",
       "| 2015 | Tacna         | 10 |  5 | 50.00000 |\n",
       "| 2015 | Tumbes        |  7 |  3 | 42.85714 |\n",
       "| 2015 | Ucayali       |  8 |  5 | 62.50000 |\n",
       "| 2016 | Amazonas      | 10 |  5 | 50.00000 |\n",
       "| 2016 | Ancash        | 12 |  6 | 50.00000 |\n",
       "| 2016 | Apurimac      | 11 |  6 | 54.54545 |\n",
       "| 2016 | Arequipa      | 17 | 11 | 64.70588 |\n",
       "| 2016 | Ayacucho      | 13 | 10 | 76.92308 |\n",
       "| ... | ... | ... | ... | ... |\n",
       "| 2018 | Puno          | 10 |  4 | 40.00000 |\n",
       "| 2018 | San Martin    | 12 |  6 | 50.00000 |\n",
       "| 2018 | Tacna         | 10 |  5 | 50.00000 |\n",
       "| 2018 | Tumbes        |  7 |  3 | 42.85714 |\n",
       "| 2018 | Ucayali       |  8 |  5 | 62.50000 |\n",
       "| 2019 | Amazonas      | 10 |  5 | 50.00000 |\n",
       "| 2019 | Ancash        | 12 |  6 | 50.00000 |\n",
       "| 2019 | Apurimac      | 11 |  6 | 54.54545 |\n",
       "| 2019 | Arequipa      | 17 | 11 | 64.70588 |\n",
       "| 2019 | Ayacucho      | 13 | 10 | 76.92308 |\n",
       "| 2019 | Cajamarca     | 13 |  6 | 46.15385 |\n",
       "| 2019 | Callao        |  3 |  2 | 66.66667 |\n",
       "| 2019 | Cusco         | 13 |  2 | 15.38462 |\n",
       "| 2019 | Huancavelica  | 10 |  6 | 60.00000 |\n",
       "| 2019 | Huanuco       | 13 |  5 | 38.46154 |\n",
       "| 2019 | Ica           | 14 |  9 | 64.28571 |\n",
       "| 2019 | Junin         | 12 |  7 | 58.33333 |\n",
       "| 2019 | La Libertad   | 13 |  6 | 46.15385 |\n",
       "| 2019 | Lambayeque    | 12 |  5 | 41.66667 |\n",
       "| 2019 | Lima          | 37 | 18 | 48.64865 |\n",
       "| 2019 | Loreto        | 12 |  6 | 50.00000 |\n",
       "| 2019 | Madre de Dios |  5 |  3 | 60.00000 |\n",
       "| 2019 | Moquegua      |  5 |  3 | 60.00000 |\n",
       "| 2019 | Pasco         |  7 |  5 | 71.42857 |\n",
       "| 2019 | Piura         | 15 |  5 | 33.33333 |\n",
       "| 2019 | Puno          | 10 |  4 | 40.00000 |\n",
       "| 2019 | San Martin    | 12 |  6 | 50.00000 |\n",
       "| 2019 | Tacna         | 10 |  5 | 50.00000 |\n",
       "| 2019 | Tumbes        |  7 |  3 | 42.85714 |\n",
       "| 2019 | Ucayali       |  8 |  5 | 62.50000 |\n",
       "\n"
      ],
      "text/plain": [
       "    year region        num_distrito num_distrito_juntos porc_juntos_depart\n",
       "1   2015 Amazonas      10            5                  50.00000          \n",
       "2   2015 Ancash        12            6                  50.00000          \n",
       "3   2015 Apurimac      11            6                  54.54545          \n",
       "4   2015 Arequipa      17           11                  64.70588          \n",
       "5   2015 Ayacucho      13           10                  76.92308          \n",
       "6   2015 Cajamarca     13            6                  46.15385          \n",
       "7   2015 Callao         3            2                  66.66667          \n",
       "8   2015 Cusco         13            2                  15.38462          \n",
       "9   2015 Huancavelica  10            6                  60.00000          \n",
       "10  2015 Huanuco       13            5                  38.46154          \n",
       "11  2015 Ica           14            9                  64.28571          \n",
       "12  2015 Junin         12            7                  58.33333          \n",
       "13  2015 La Libertad   13            6                  46.15385          \n",
       "14  2015 Lambayeque    12            5                  41.66667          \n",
       "15  2015 Lima          37           18                  48.64865          \n",
       "16  2015 Loreto        12            6                  50.00000          \n",
       "17  2015 Madre de Dios  5            3                  60.00000          \n",
       "18  2015 Moquegua       5            3                  60.00000          \n",
       "19  2015 Pasco          7            5                  71.42857          \n",
       "20  2015 Piura         15            5                  33.33333          \n",
       "21  2015 Puno          10            4                  40.00000          \n",
       "22  2015 San Martin    12            6                  50.00000          \n",
       "23  2015 Tacna         10            5                  50.00000          \n",
       "24  2015 Tumbes         7            3                  42.85714          \n",
       "25  2015 Ucayali        8            5                  62.50000          \n",
       "26  2016 Amazonas      10            5                  50.00000          \n",
       "27  2016 Ancash        12            6                  50.00000          \n",
       "28  2016 Apurimac      11            6                  54.54545          \n",
       "29  2016 Arequipa      17           11                  64.70588          \n",
       "30  2016 Ayacucho      13           10                  76.92308          \n",
       "... ...  ...           ...          ...                 ...               \n",
       "96  2018 Puno          10            4                  40.00000          \n",
       "97  2018 San Martin    12            6                  50.00000          \n",
       "98  2018 Tacna         10            5                  50.00000          \n",
       "99  2018 Tumbes         7            3                  42.85714          \n",
       "100 2018 Ucayali        8            5                  62.50000          \n",
       "101 2019 Amazonas      10            5                  50.00000          \n",
       "102 2019 Ancash        12            6                  50.00000          \n",
       "103 2019 Apurimac      11            6                  54.54545          \n",
       "104 2019 Arequipa      17           11                  64.70588          \n",
       "105 2019 Ayacucho      13           10                  76.92308          \n",
       "106 2019 Cajamarca     13            6                  46.15385          \n",
       "107 2019 Callao         3            2                  66.66667          \n",
       "108 2019 Cusco         13            2                  15.38462          \n",
       "109 2019 Huancavelica  10            6                  60.00000          \n",
       "110 2019 Huanuco       13            5                  38.46154          \n",
       "111 2019 Ica           14            9                  64.28571          \n",
       "112 2019 Junin         12            7                  58.33333          \n",
       "113 2019 La Libertad   13            6                  46.15385          \n",
       "114 2019 Lambayeque    12            5                  41.66667          \n",
       "115 2019 Lima          37           18                  48.64865          \n",
       "116 2019 Loreto        12            6                  50.00000          \n",
       "117 2019 Madre de Dios  5            3                  60.00000          \n",
       "118 2019 Moquegua       5            3                  60.00000          \n",
       "119 2019 Pasco          7            5                  71.42857          \n",
       "120 2019 Piura         15            5                  33.33333          \n",
       "121 2019 Puno          10            4                  40.00000          \n",
       "122 2019 San Martin    12            6                  50.00000          \n",
       "123 2019 Tacna         10            5                  50.00000          \n",
       "124 2019 Tumbes         7            3                  42.85714          \n",
       "125 2019 Ucayali        8            5                  62.50000          "
      ]
     },
     "metadata": {},
     "output_type": "display_data"
    }
   ],
   "source": [
    "# Agregar Porcentaje de distritos por \n",
    "# departamentos que se beneficiaron del Programa Juntos en cada año\n",
    "base_b <- base_a %>% group_by(year, region) %>% \n",
    "                    summarize(num_distrito = n(), num_distrito_juntos=sum(unidos))\n",
    "base_b$porc_juntos_depart <- base_b$num_distrito_juntos *100 / base_b$num_distrito\n",
    "base_b"
   ]
  },
  {
   "cell_type": "code",
   "execution_count": null,
   "id": "af5309bf",
   "metadata": {},
   "outputs": [],
   "source": []
  }
 ],
 "metadata": {
  "kernelspec": {
   "display_name": "R",
   "language": "R",
   "name": "ir"
  },
  "language_info": {
   "codemirror_mode": "r",
   "file_extension": ".r",
   "mimetype": "text/x-r-source",
   "name": "R",
   "pygments_lexer": "r",
   "version": "4.2.0"
  }
 },
 "nbformat": 4,
 "nbformat_minor": 5
}
