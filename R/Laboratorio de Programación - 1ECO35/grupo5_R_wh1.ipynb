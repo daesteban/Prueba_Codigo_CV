{
 "cells": [
  {
   "cell_type": "markdown",
   "id": "335998f5",
   "metadata": {},
   "source": [
    "### Pregunta 1"
   ]
  },
  {
   "cell_type": "code",
   "execution_count": 23,
   "id": "71a11ee2",
   "metadata": {},
   "outputs": [],
   "source": [
    "library(glue)"
   ]
  },
  {
   "cell_type": "code",
   "execution_count": 24,
   "id": "554ddd9c",
   "metadata": {},
   "outputs": [
    {
     "data": {
      "text/html": [
       "'En 2020, la tasa de pobreza a nivel nacional fue 30.1 %.'"
      ],
      "text/latex": [
       "'En 2020, la tasa de pobreza a nivel nacional fue 30.1 \\%.'"
      ],
      "text/markdown": [
       "'En 2020, la tasa de pobreza a nivel nacional fue 30.1 %.'"
      ],
      "text/plain": [
       "En 2020, la tasa de pobreza a nivel nacional fue 30.1 %."
      ]
     },
     "metadata": {},
     "output_type": "display_data"
    }
   ],
   "source": [
    "year <- 2020\n",
    "poverty_rate <- \"30.1 %\"\n",
    "glue('En {year}, la tasa de pobreza a nivel nacional fue {poverty_rate}.')"
   ]
  },
  {
   "cell_type": "code",
   "execution_count": 25,
   "id": "f2027e08",
   "metadata": {},
   "outputs": [
    {
     "data": {
      "text/html": [
       "'Juan el próximo año tendra 21 años.'"
      ],
      "text/latex": [
       "'Juan el próximo año tendra 21 años.'"
      ],
      "text/markdown": [
       "'Juan el próximo año tendra 21 años.'"
      ],
      "text/plain": [
       "Juan el próximo año tendra 21 años."
      ]
     },
     "metadata": {},
     "output_type": "display_data"
    }
   ],
   "source": [
    "name <- \"Juan\"\n",
    "age <- 20\n",
    "glue('{name} el próximo año tendra {age+1} años.')"
   ]
  },
  {
   "cell_type": "markdown",
   "id": "080b956a",
   "metadata": {},
   "source": [
    "# Diccionarios y Listas"
   ]
  },
  {
   "cell_type": "markdown",
   "id": "31367695",
   "metadata": {},
   "source": [
    "### Pregunta 2"
   ]
  },
  {
   "cell_type": "code",
   "execution_count": 11,
   "id": "c421d0d3",
   "metadata": {},
   "outputs": [
    {
     "name": "stdout",
     "output_type": "stream",
     "text": [
      "Distritos[[1]]\n",
      "[1] \"Breña\"\n",
      "\n",
      "[[2]]\n",
      "[1] \"Surco\"\n",
      "\n",
      "[[3]]\n",
      "[1] \"Chorrillos\"\n",
      "\n",
      "[[4]]\n",
      "[1] \"Bellavista\"\n",
      "\n",
      "[[5]]\n",
      "[1] \"La Perla\"\n",
      "\n",
      "\n",
      " Primer y último distrito[[1]]\n",
      "[1] \"Breña\"\n",
      "\n",
      "[[2]]\n",
      "[1] \"La Perla\"\n",
      "\n"
     ]
    }
   ],
   "source": [
    "distritos <- list('Breña','Surco','Chorrillos','Bellavista','La Perla')\n",
    "cat(\"Distritos\")\n",
    "print(distritos)\n",
    "cat(\"\\n\",\"Primer y último distrito\")\n",
    "print(distritos[c(1,length(distritos))])"
   ]
  },
  {
   "cell_type": "markdown",
   "id": "14a98d03",
   "metadata": {},
   "source": [
    "### Pregunta 3"
   ]
  },
  {
   "cell_type": "code",
   "execution_count": 13,
   "id": "8c4e20e7",
   "metadata": {},
   "outputs": [
    {
     "data": {
      "text/html": [
       "<dl>\n",
       "\t<dt>$Breña</dt>\n",
       "\t\t<dd><dl>\n",
       "\t<dt>$Poverty_Rate</dt>\n",
       "\t\t<dd>'5.4 %'</dd>\n",
       "\t<dt>$Population</dt>\n",
       "\t\t<dd>'93.1 mil'</dd>\n",
       "</dl>\n",
       "</dd>\n",
       "\t<dt>$Surco</dt>\n",
       "\t\t<dd><dl>\n",
       "\t<dt>$Poverty_Rate</dt>\n",
       "\t\t<dd>'1.6 %'</dd>\n",
       "\t<dt>$Population</dt>\n",
       "\t\t<dd>'408 mil'</dd>\n",
       "</dl>\n",
       "</dd>\n",
       "\t<dt>$Chorrillos</dt>\n",
       "\t\t<dd><dl>\n",
       "\t<dt>$Poverty_Rate</dt>\n",
       "\t\t<dd>'14.3 %'</dd>\n",
       "\t<dt>$Population</dt>\n",
       "\t\t<dd>'355.9 mil'</dd>\n",
       "</dl>\n",
       "</dd>\n",
       "\t<dt>$Bellavista</dt>\n",
       "\t\t<dd><dl>\n",
       "\t<dt>$Poverty_Rate</dt>\n",
       "\t\t<dd>'6.3 %'</dd>\n",
       "\t<dt>$Population</dt>\n",
       "\t\t<dd>'80.7 mil'</dd>\n",
       "</dl>\n",
       "</dd>\n",
       "\t<dt>$La_Perla</dt>\n",
       "\t\t<dd><dl>\n",
       "\t<dt>$Poverty_Rate</dt>\n",
       "\t\t<dd>'4.7 %'</dd>\n",
       "\t<dt>$Population</dt>\n",
       "\t\t<dd>'64.5 mil'</dd>\n",
       "</dl>\n",
       "</dd>\n",
       "</dl>\n"
      ],
      "text/latex": [
       "\\begin{description}\n",
       "\\item[\\$Breña] \\begin{description}\n",
       "\\item[\\$Poverty\\_Rate] '5.4 \\%'\n",
       "\\item[\\$Population] '93.1 mil'\n",
       "\\end{description}\n",
       "\n",
       "\\item[\\$Surco] \\begin{description}\n",
       "\\item[\\$Poverty\\_Rate] '1.6 \\%'\n",
       "\\item[\\$Population] '408 mil'\n",
       "\\end{description}\n",
       "\n",
       "\\item[\\$Chorrillos] \\begin{description}\n",
       "\\item[\\$Poverty\\_Rate] '14.3 \\%'\n",
       "\\item[\\$Population] '355.9 mil'\n",
       "\\end{description}\n",
       "\n",
       "\\item[\\$Bellavista] \\begin{description}\n",
       "\\item[\\$Poverty\\_Rate] '6.3 \\%'\n",
       "\\item[\\$Population] '80.7 mil'\n",
       "\\end{description}\n",
       "\n",
       "\\item[\\$La\\_Perla] \\begin{description}\n",
       "\\item[\\$Poverty\\_Rate] '4.7 \\%'\n",
       "\\item[\\$Population] '64.5 mil'\n",
       "\\end{description}\n",
       "\n",
       "\\end{description}\n"
      ],
      "text/markdown": [
       "$Breña\n",
       ":   $Poverty_Rate\n",
       ":   '5.4 %'\n",
       "$Population\n",
       ":   '93.1 mil'\n",
       "\n",
       "\n",
       "\n",
       "$Surco\n",
       ":   $Poverty_Rate\n",
       ":   '1.6 %'\n",
       "$Population\n",
       ":   '408 mil'\n",
       "\n",
       "\n",
       "\n",
       "$Chorrillos\n",
       ":   $Poverty_Rate\n",
       ":   '14.3 %'\n",
       "$Population\n",
       ":   '355.9 mil'\n",
       "\n",
       "\n",
       "\n",
       "$Bellavista\n",
       ":   $Poverty_Rate\n",
       ":   '6.3 %'\n",
       "$Population\n",
       ":   '80.7 mil'\n",
       "\n",
       "\n",
       "\n",
       "$La_Perla\n",
       ":   $Poverty_Rate\n",
       ":   '4.7 %'\n",
       "$Population\n",
       ":   '64.5 mil'\n",
       "\n",
       "\n",
       "\n",
       "\n",
       "\n"
      ],
      "text/plain": [
       "$Breña\n",
       "$Breña$Poverty_Rate\n",
       "[1] \"5.4 %\"\n",
       "\n",
       "$Breña$Population\n",
       "[1] \"93.1 mil\"\n",
       "\n",
       "\n",
       "$Surco\n",
       "$Surco$Poverty_Rate\n",
       "[1] \"1.6 %\"\n",
       "\n",
       "$Surco$Population\n",
       "[1] \"408 mil\"\n",
       "\n",
       "\n",
       "$Chorrillos\n",
       "$Chorrillos$Poverty_Rate\n",
       "[1] \"14.3 %\"\n",
       "\n",
       "$Chorrillos$Population\n",
       "[1] \"355.9 mil\"\n",
       "\n",
       "\n",
       "$Bellavista\n",
       "$Bellavista$Poverty_Rate\n",
       "[1] \"6.3 %\"\n",
       "\n",
       "$Bellavista$Population\n",
       "[1] \"80.7 mil\"\n",
       "\n",
       "\n",
       "$La_Perla\n",
       "$La_Perla$Poverty_Rate\n",
       "[1] \"4.7 %\"\n",
       "\n",
       "$La_Perla$Population\n",
       "[1] \"64.5 mil\"\n",
       "\n"
      ]
     },
     "metadata": {},
     "output_type": "display_data"
    }
   ],
   "source": [
    "diccionario <- list(Breña = list(Poverty_Rate = \"5.4 %\", Population = \"93.1 mil\"),\n",
    "                    Surco = list(Poverty_Rate = \"1.6 %\", Population = \"408 mil\"),\n",
    "                    Chorrillos = list(Poverty_Rate = \"14.3 %\", Population = \"355.9 mil\"),\n",
    "                    Bellavista = list(Poverty_Rate = \"6.3 %\", Population = \"80.7 mil\"),\n",
    "                    La_Perla = list(Poverty_Rate = \"4.7 %\", Population = \"64.5 mil\"))\n",
    "diccionario"
   ]
  },
  {
   "cell_type": "markdown",
   "id": "c3ed0962",
   "metadata": {},
   "source": [
    "### Pregunta 4"
   ]
  },
  {
   "cell_type": "code",
   "execution_count": 14,
   "id": "255164da",
   "metadata": {},
   "outputs": [
    {
     "name": "stdout",
     "output_type": "stream",
     "text": [
      "$Poverty_Rate\n",
      "[1] \"1.6 %\"\n",
      "\n",
      "$Population\n",
      "[1] \"408 mil\"\n",
      "\n"
     ]
    }
   ],
   "source": [
    "print(diccionario$Surco)"
   ]
  },
  {
   "cell_type": "code",
   "execution_count": 15,
   "id": "556fae90",
   "metadata": {},
   "outputs": [
    {
     "name": "stdout",
     "output_type": "stream",
     "text": [
      "$Poverty_Rate\n",
      "[1] \"6.3 %\"\n",
      "\n",
      "$Population\n",
      "[1] \"80.7 mil\"\n",
      "\n"
     ]
    }
   ],
   "source": [
    "print(diccionario$Bellavista)"
   ]
  },
  {
   "cell_type": "code",
   "execution_count": 16,
   "id": "20b972f9",
   "metadata": {},
   "outputs": [
    {
     "name": "stdout",
     "output_type": "stream",
     "text": [
      "$Poverty_Rate\n",
      "[1] \"4.7 %\"\n",
      "\n",
      "$Population\n",
      "[1] \"64.5 mil\"\n",
      "\n"
     ]
    }
   ],
   "source": [
    "print(diccionario$La_Perla)"
   ]
  },
  {
   "cell_type": "markdown",
   "id": "4e6cf459",
   "metadata": {},
   "source": [
    "# Matrices"
   ]
  },
  {
   "cell_type": "markdown",
   "id": "6c711d4a",
   "metadata": {},
   "source": [
    "### Pregunta 5"
   ]
  },
  {
   "cell_type": "code",
   "execution_count": 36,
   "id": "c047f6da",
   "metadata": {},
   "outputs": [
    {
     "name": "stdout",
     "output_type": "stream",
     "text": [
      "Matriz M\n",
      "     [,1] [,2] [,3]\n",
      "[1,]    1    2    3\n",
      "[2,]    4    5    6\n",
      "[3,]    7    8    9\n",
      "\n",
      "Matriz N\n",
      "     [,1] [,2] [,3]\n",
      "[1,]   10   12   14\n",
      "[2,]   11   13   15\n",
      "\n",
      "Matriz O\n",
      "     [,1] [,2]\n",
      "[1,]    6    8\n",
      "[2,]    7    9\n"
     ]
    }
   ],
   "source": [
    "M <- matrix(1:9,nrow=3,byrow=T)\n",
    "N <- matrix(10:15,nrow=2)\n",
    "O <- matrix(6:9,nrow=2)\n",
    "cat(\"Matriz M\\n\")\n",
    "print(M)\n",
    "cat(\"\\nMatriz N\\n\")\n",
    "print(N)\n",
    "cat(\"\\nMatriz O\\n\")\n",
    "print(O)\n"
   ]
  },
  {
   "cell_type": "code",
   "execution_count": 38,
   "id": "6a5f082f",
   "metadata": {},
   "outputs": [
    {
     "data": {
      "text/html": [
       "<table class=\"dataframe\">\n",
       "<caption>A matrix: 5 × 3 of type int</caption>\n",
       "<tbody>\n",
       "\t<tr><td> 1</td><td> 2</td><td> 3</td></tr>\n",
       "\t<tr><td> 4</td><td> 5</td><td> 6</td></tr>\n",
       "\t<tr><td> 7</td><td> 8</td><td> 9</td></tr>\n",
       "\t<tr><td>10</td><td>12</td><td>14</td></tr>\n",
       "\t<tr><td>11</td><td>13</td><td>15</td></tr>\n",
       "</tbody>\n",
       "</table>\n"
      ],
      "text/latex": [
       "A matrix: 5 × 3 of type int\n",
       "\\begin{tabular}{lll}\n",
       "\t  1 &  2 &  3\\\\\n",
       "\t  4 &  5 &  6\\\\\n",
       "\t  7 &  8 &  9\\\\\n",
       "\t 10 & 12 & 14\\\\\n",
       "\t 11 & 13 & 15\\\\\n",
       "\\end{tabular}\n"
      ],
      "text/markdown": [
       "\n",
       "A matrix: 5 × 3 of type int\n",
       "\n",
       "|  1 |  2 |  3 |\n",
       "|  4 |  5 |  6 |\n",
       "|  7 |  8 |  9 |\n",
       "| 10 | 12 | 14 |\n",
       "| 11 | 13 | 15 |\n",
       "\n"
      ],
      "text/plain": [
       "     [,1] [,2] [,3]\n",
       "[1,]  1    2    3  \n",
       "[2,]  4    5    6  \n",
       "[3,]  7    8    9  \n",
       "[4,] 10   12   14  \n",
       "[5,] 11   13   15  "
      ]
     },
     "metadata": {},
     "output_type": "display_data"
    }
   ],
   "source": [
    "P <- rbind(M,N)\n",
    "P"
   ]
  },
  {
   "cell_type": "code",
   "execution_count": 45,
   "id": "63dea38c",
   "metadata": {},
   "outputs": [
    {
     "data": {
      "text/html": [
       "<table class=\"dataframe\">\n",
       "<caption>A matrix: 2 × 5 of type int</caption>\n",
       "<tbody>\n",
       "\t<tr><td>6</td><td>8</td><td>10</td><td>12</td><td>14</td></tr>\n",
       "\t<tr><td>7</td><td>9</td><td>11</td><td>13</td><td>15</td></tr>\n",
       "</tbody>\n",
       "</table>\n"
      ],
      "text/latex": [
       "A matrix: 2 × 5 of type int\n",
       "\\begin{tabular}{lllll}\n",
       "\t 6 & 8 & 10 & 12 & 14\\\\\n",
       "\t 7 & 9 & 11 & 13 & 15\\\\\n",
       "\\end{tabular}\n"
      ],
      "text/markdown": [
       "\n",
       "A matrix: 2 × 5 of type int\n",
       "\n",
       "| 6 | 8 | 10 | 12 | 14 |\n",
       "| 7 | 9 | 11 | 13 | 15 |\n",
       "\n"
      ],
      "text/plain": [
       "     [,1] [,2] [,3] [,4] [,5]\n",
       "[1,] 6    8    10   12   14  \n",
       "[2,] 7    9    11   13   15  "
      ]
     },
     "metadata": {},
     "output_type": "display_data"
    }
   ],
   "source": [
    "R <- cbind(O,N)\n",
    "R"
   ]
  },
  {
   "cell_type": "markdown",
   "id": "8e27ada8",
   "metadata": {},
   "source": [
    "### Pregunta 6"
   ]
  },
  {
   "cell_type": "code",
   "execution_count": 44,
   "id": "e6e704db",
   "metadata": {},
   "outputs": [
    {
     "name": "stdout",
     "output_type": "stream",
     "text": [
      "Matriz Q\n",
      "     [,1] [,2] [,3] [,4] [,5] [,6] [,7] [,8]\n",
      "[1,]   32   28   24   20   16   12    8    4\n",
      "[2,]   31   27   23   19   15   11    7    3\n",
      "[3,]   30   26   22   18   14   10    6    2\n",
      "[4,]   29   25   21   17   13    9    5    1\n",
      "\n",
      "Slide\n",
      "     [,1] [,2]\n",
      "[1,]    8    4\n",
      "[2,]    7    3\n",
      "[3,]    6    2\n"
     ]
    }
   ],
   "source": [
    "Q <- matrix(32:1,nrow=4)\n",
    "cat(\"Matriz Q\\n\")\n",
    "print(Q)\n",
    "cat(\"\\nSlide\\n\")\n",
    "print(Q[1:3,7:8])"
   ]
  },
  {
   "cell_type": "markdown",
   "id": "9da23a3d",
   "metadata": {},
   "source": [
    "# Operaciones con Matrices"
   ]
  },
  {
   "cell_type": "markdown",
   "id": "685a45a7",
   "metadata": {},
   "source": [
    "### Pregunta 7:Obtener el estimador de la varianza del termino de perturbación"
   ]
  },
  {
   "cell_type": "code",
   "execution_count": 55,
   "id": "fbe941a8",
   "metadata": {},
   "outputs": [
    {
     "name": "stdout",
     "output_type": "stream",
     "text": [
      "[1] 3.830032 3.686721 3.464760 2.699423 5.231537 3.325284\n"
     ]
    }
   ],
   "source": [
    "set.seed(6)\n",
    "\n",
    "x1 <- runif(6)\n",
    "x2 <- runif(6)\n",
    "x3 <- runif(6)\n",
    "x4 <- runif(6)\n",
    "u <- rnorm(6)\n",
    "\n",
    "Y <- 1 + 0.9*x1 + 1.4*x2 + 1.5*x3+ x4 + u\n",
    "print(Y)"
   ]
  },
  {
   "cell_type": "code",
   "execution_count": 38,
   "id": "6e002ffd",
   "metadata": {
    "scrolled": false
   },
   "outputs": [
    {
     "data": {
      "text/html": [
       "<table>\n",
       "<thead><tr><th scope=col></th><th scope=col>x1</th><th scope=col>x2</th><th scope=col>x3</th><th scope=col>x4</th></tr></thead>\n",
       "<tbody>\n",
       "\t<tr><td>1         </td><td>0.6062683 </td><td>0.9579337 </td><td>0.09523258</td><td>0.1472278 </td></tr>\n",
       "\t<tr><td>1         </td><td>0.9376420 </td><td>0.7627319 </td><td>0.29537280</td><td>0.7005260 </td></tr>\n",
       "\t<tr><td>1         </td><td>0.2643521 </td><td>0.5096485 </td><td>0.76993170</td><td>0.9579925 </td></tr>\n",
       "\t<tr><td>1         </td><td>0.3800939 </td><td>0.0644768 </td><td>0.25589353</td><td>0.8286251 </td></tr>\n",
       "\t<tr><td>1         </td><td>0.8074834 </td><td>0.6435728 </td><td>0.51789573</td><td>0.1192788 </td></tr>\n",
       "\t<tr><td>1         </td><td>0.9780757 </td><td>0.9159089 </td><td>0.67784993</td><td>0.2403410 </td></tr>\n",
       "</tbody>\n",
       "</table>\n"
      ],
      "text/latex": [
       "\\begin{tabular}{lllll}\n",
       "  & x1 & x2 & x3 & x4\\\\\n",
       "\\hline\n",
       "\t 1          & 0.6062683  & 0.9579337  & 0.09523258 & 0.1472278 \\\\\n",
       "\t 1          & 0.9376420  & 0.7627319  & 0.29537280 & 0.7005260 \\\\\n",
       "\t 1          & 0.2643521  & 0.5096485  & 0.76993170 & 0.9579925 \\\\\n",
       "\t 1          & 0.3800939  & 0.0644768  & 0.25589353 & 0.8286251 \\\\\n",
       "\t 1          & 0.8074834  & 0.6435728  & 0.51789573 & 0.1192788 \\\\\n",
       "\t 1          & 0.9780757  & 0.9159089  & 0.67784993 & 0.2403410 \\\\\n",
       "\\end{tabular}\n"
      ],
      "text/markdown": [
       "\n",
       "|  | x1 | x2 | x3 | x4 |\n",
       "|---|---|---|---|---|\n",
       "| 1          | 0.6062683  | 0.9579337  | 0.09523258 | 0.1472278  |\n",
       "| 1          | 0.9376420  | 0.7627319  | 0.29537280 | 0.7005260  |\n",
       "| 1          | 0.2643521  | 0.5096485  | 0.76993170 | 0.9579925  |\n",
       "| 1          | 0.3800939  | 0.0644768  | 0.25589353 | 0.8286251  |\n",
       "| 1          | 0.8074834  | 0.6435728  | 0.51789573 | 0.1192788  |\n",
       "| 1          | 0.9780757  | 0.9159089  | 0.67784993 | 0.2403410  |\n",
       "\n"
      ],
      "text/plain": [
       "       x1        x2        x3         x4       \n",
       "[1,] 1 0.6062683 0.9579337 0.09523258 0.1472278\n",
       "[2,] 1 0.9376420 0.7627319 0.29537280 0.7005260\n",
       "[3,] 1 0.2643521 0.5096485 0.76993170 0.9579925\n",
       "[4,] 1 0.3800939 0.0644768 0.25589353 0.8286251\n",
       "[5,] 1 0.8074834 0.6435728 0.51789573 0.1192788\n",
       "[6,] 1 0.9780757 0.9159089 0.67784993 0.2403410"
      ]
     },
     "metadata": {},
     "output_type": "display_data"
    }
   ],
   "source": [
    "X <- cbind(matrix(1,6), x1,x2,x3,x4) #MATRIZ x\n",
    "X"
   ]
  },
  {
   "cell_type": "markdown",
   "id": "31c33929",
   "metadata": {},
   "source": [
    "FORMULA DEL ESTIMADOR DE LA VARIANZA\n",
    "\n",
    "\\begin{equation}\n",
    " \\hat{\\sigma}^2 = {\\frac{\\sum(\\hat{U})^2}{N-K}} = {\\frac{\\sum(Y- \\hat{Y})^2}{N-K}} = {\\frac{\\sum({Y-XB})^2}{N-K}}\n",
    "\\end{equation}"
   ]
  },
  {
   "cell_type": "code",
   "execution_count": 54,
   "id": "32d341e7",
   "metadata": {
    "scrolled": true
   },
   "outputs": [
    {
     "data": {
      "text/plain": [
       "               _                           \n",
       "platform       x86_64-w64-mingw32          \n",
       "arch           x86_64                      \n",
       "os             mingw32                     \n",
       "system         x86_64, mingw32             \n",
       "status                                     \n",
       "major          3                           \n",
       "minor          6.1                         \n",
       "year           2019                        \n",
       "month          07                          \n",
       "day            05                          \n",
       "svn rev        76782                       \n",
       "language       R                           \n",
       "version.string R version 3.6.1 (2019-07-05)\n",
       "nickname       Action of the Toes          "
      ]
     },
     "metadata": {},
     "output_type": "display_data"
    },
    {
     "ename": "ERROR",
     "evalue": "Error in inv(t(X) %*% X): no se pudo encontrar la función \"inv\"\n",
     "output_type": "error",
     "traceback": [
      "Error in inv(t(X) %*% X): no se pudo encontrar la función \"inv\"\nTraceback:\n"
     ]
    }
   ],
   "source": [
    "install.packages(\"matlib\")\n",
    "library(\"matlib\")\n",
    "\n",
    "B <- inv(t(X) %*% X) %*% (t(X) %*% Y)  # Matriz Betas Estimados\n",
    "print(B)"
   ]
  },
  {
   "cell_type": "code",
   "execution_count": null,
   "id": "612e98e1",
   "metadata": {},
   "outputs": [],
   "source": [
    "Y_est = X %*% B   # matriz Y estimados\n",
    "print(Y_est)\n"
   ]
  },
  {
   "cell_type": "code",
   "execution_count": null,
   "id": "61aeb8d6",
   "metadata": {},
   "outputs": [],
   "source": [
    "U <- Y - Y_est  # Matriz errores estimados\n",
    "print(U)"
   ]
  },
  {
   "cell_type": "code",
   "execution_count": null,
   "id": "25233b63",
   "metadata": {},
   "outputs": [],
   "source": [
    "S2= sum(U^2)/(5-4)  \n",
    "print (S2)"
   ]
  },
  {
   "cell_type": "markdown",
   "id": "d16e3ac2",
   "metadata": {},
   "source": [
    "### Pregunta 8: Matriz de varianza y covarianza de los coeficientes¶\n",
    "\n",
    "\\begin{equation}\n",
    " \\Sigma = (\\frac{\\hat{U}'\\hat{U}}{n-k})(X'X)^{-1}\n",
    "\\end{equation}"
   ]
  },
  {
   "cell_type": "code",
   "execution_count": null,
   "id": "4d6693d3",
   "metadata": {},
   "outputs": [],
   "source": [
    "CV <- (t(U) %*% U / (5-4))*(inv(t(X) %*% X))\n",
    "print(CV)"
   ]
  },
  {
   "cell_type": "markdown",
   "id": "cf91380e",
   "metadata": {},
   "source": [
    "### Pregunta 9: Matriz generador de residuos\n",
    "\n",
    "\n",
    "\\begin{equation}\n",
    " M = I - X(X'X)^{-1}X'\n",
    "\\end{equation}"
   ]
  },
  {
   "cell_type": "code",
   "execution_count": null,
   "id": "c0348588",
   "metadata": {},
   "outputs": [],
   "source": [
    "I <- diag(5)\n",
    "print(I)"
   ]
  },
  {
   "cell_type": "code",
   "execution_count": null,
   "id": "30b1e794",
   "metadata": {},
   "outputs": [],
   "source": [
    "M = I - X %*% (inv(t(X) %*% X)%*% t(X))\n",
    "print(M)"
   ]
  }
 ],
 "metadata": {
  "kernelspec": {
   "display_name": "R",
   "language": "R",
   "name": "ir"
  },
  "language_info": {
   "codemirror_mode": "r",
   "file_extension": ".r",
   "mimetype": "text/x-r-source",
   "name": "R",
   "pygments_lexer": "r",
   "version": "3.6.1"
  }
 },
 "nbformat": 4,
 "nbformat_minor": 5
}
