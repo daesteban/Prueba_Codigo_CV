{
 "cells": [
  {
   "cell_type": "markdown",
   "id": "ef703932",
   "metadata": {},
   "source": [
    "## Causal Forest \n",
    "\n",
    "Replication of Athey & Wager 2018.\n",
    "By Alvaro, Luis, Diego"
   ]
  },
  {
   "cell_type": "markdown",
   "id": "02e8aebf",
   "metadata": {},
   "source": [
    "### Data"
   ]
  },
  {
   "cell_type": "code",
   "execution_count": 37,
   "id": "3a6d9640",
   "metadata": {},
   "outputs": [],
   "source": [
    "# install.packages(\"Hmisc\")\n",
    "#install.packages(\"grf\")"
   ]
  },
  {
   "cell_type": "code",
   "execution_count": 38,
   "id": "b403fd1b",
   "metadata": {},
   "outputs": [],
   "source": [
    "set.seed(1)\n",
    "\n",
    "rm(list = ls())\n",
    "\n",
    "library(grf)\n",
    "if(packageVersion(\"grf\") < '0.10.2') {\n",
    "  warning(\"This script requires grf 0.10.2 or higher\")\n",
    "}\n",
    "library(sandwich)\n",
    "library(lmtest)\n",
    "library(Hmisc)\n",
    "library(ggplot2)\n",
    "\n",
    "data.all = read.csv(\"https://raw.githubusercontent.com/grf-labs/grf/master/experiments/acic18/synthetic_data.csv\")\n",
    "data.all$schoolid = factor(data.all$schoolid)\n",
    "\n",
    "DF = data.all[,-1]\n",
    "school.id = as.numeric(data.all$schoolid)\n",
    "\n",
    "school.mat = model.matrix(~ schoolid + 0, data = data.all)\n",
    "school.size = colSums(school.mat)\n"
   ]
  },
  {
   "cell_type": "code",
   "execution_count": 39,
   "id": "7ca82760",
   "metadata": {},
   "outputs": [
    {
     "data": {
      "text/html": [
       "<table class=\"dataframe\">\n",
       "<caption>A data.frame: 6 × 12</caption>\n",
       "<thead>\n",
       "\t<tr><th></th><th scope=col>Z</th><th scope=col>Y</th><th scope=col>S3</th><th scope=col>C1</th><th scope=col>C2</th><th scope=col>C3</th><th scope=col>XC</th><th scope=col>X1</th><th scope=col>X2</th><th scope=col>X3</th><th scope=col>X4</th><th scope=col>X5</th></tr>\n",
       "\t<tr><th></th><th scope=col>&lt;int&gt;</th><th scope=col>&lt;dbl&gt;</th><th scope=col>&lt;int&gt;</th><th scope=col>&lt;int&gt;</th><th scope=col>&lt;int&gt;</th><th scope=col>&lt;int&gt;</th><th scope=col>&lt;int&gt;</th><th scope=col>&lt;dbl&gt;</th><th scope=col>&lt;dbl&gt;</th><th scope=col>&lt;dbl&gt;</th><th scope=col>&lt;dbl&gt;</th><th scope=col>&lt;dbl&gt;</th></tr>\n",
       "</thead>\n",
       "<tbody>\n",
       "\t<tr><th scope=row>1</th><td>1</td><td> 0.08160167</td><td>6</td><td> 4</td><td>2</td><td>1</td><td>4</td><td>0.3345435</td><td>0.6485856</td><td>-1.310927</td><td>0.2240765</td><td>-0.4267567</td></tr>\n",
       "\t<tr><th scope=row>2</th><td>1</td><td>-0.38586896</td><td>4</td><td>12</td><td>2</td><td>1</td><td>4</td><td>0.3345435</td><td>0.6485856</td><td>-1.310927</td><td>0.2240765</td><td>-0.4267567</td></tr>\n",
       "\t<tr><th scope=row>3</th><td>1</td><td> 0.39818373</td><td>6</td><td> 4</td><td>2</td><td>0</td><td>4</td><td>0.3345435</td><td>0.6485856</td><td>-1.310927</td><td>0.2240765</td><td>-0.4267567</td></tr>\n",
       "\t<tr><th scope=row>4</th><td>1</td><td>-0.17503685</td><td>6</td><td> 4</td><td>2</td><td>0</td><td>4</td><td>0.3345435</td><td>0.6485856</td><td>-1.310927</td><td>0.2240765</td><td>-0.4267567</td></tr>\n",
       "\t<tr><th scope=row>5</th><td>1</td><td> 0.88458337</td><td>6</td><td> 4</td><td>1</td><td>0</td><td>4</td><td>0.3345435</td><td>0.6485856</td><td>-1.310927</td><td>0.2240765</td><td>-0.4267567</td></tr>\n",
       "\t<tr><th scope=row>6</th><td>1</td><td>-0.09056477</td><td>6</td><td> 4</td><td>2</td><td>0</td><td>4</td><td>0.3345435</td><td>0.6485856</td><td>-1.310927</td><td>0.2240765</td><td>-0.4267567</td></tr>\n",
       "</tbody>\n",
       "</table>\n"
      ],
      "text/latex": [
       "A data.frame: 6 × 12\n",
       "\\begin{tabular}{r|llllllllllll}\n",
       "  & Z & Y & S3 & C1 & C2 & C3 & XC & X1 & X2 & X3 & X4 & X5\\\\\n",
       "  & <int> & <dbl> & <int> & <int> & <int> & <int> & <int> & <dbl> & <dbl> & <dbl> & <dbl> & <dbl>\\\\\n",
       "\\hline\n",
       "\t1 & 1 &  0.08160167 & 6 &  4 & 2 & 1 & 4 & 0.3345435 & 0.6485856 & -1.310927 & 0.2240765 & -0.4267567\\\\\n",
       "\t2 & 1 & -0.38586896 & 4 & 12 & 2 & 1 & 4 & 0.3345435 & 0.6485856 & -1.310927 & 0.2240765 & -0.4267567\\\\\n",
       "\t3 & 1 &  0.39818373 & 6 &  4 & 2 & 0 & 4 & 0.3345435 & 0.6485856 & -1.310927 & 0.2240765 & -0.4267567\\\\\n",
       "\t4 & 1 & -0.17503685 & 6 &  4 & 2 & 0 & 4 & 0.3345435 & 0.6485856 & -1.310927 & 0.2240765 & -0.4267567\\\\\n",
       "\t5 & 1 &  0.88458337 & 6 &  4 & 1 & 0 & 4 & 0.3345435 & 0.6485856 & -1.310927 & 0.2240765 & -0.4267567\\\\\n",
       "\t6 & 1 & -0.09056477 & 6 &  4 & 2 & 0 & 4 & 0.3345435 & 0.6485856 & -1.310927 & 0.2240765 & -0.4267567\\\\\n",
       "\\end{tabular}\n"
      ],
      "text/markdown": [
       "\n",
       "A data.frame: 6 × 12\n",
       "\n",
       "| <!--/--> | Z &lt;int&gt; | Y &lt;dbl&gt; | S3 &lt;int&gt; | C1 &lt;int&gt; | C2 &lt;int&gt; | C3 &lt;int&gt; | XC &lt;int&gt; | X1 &lt;dbl&gt; | X2 &lt;dbl&gt; | X3 &lt;dbl&gt; | X4 &lt;dbl&gt; | X5 &lt;dbl&gt; |\n",
       "|---|---|---|---|---|---|---|---|---|---|---|---|---|\n",
       "| 1 | 1 |  0.08160167 | 6 |  4 | 2 | 1 | 4 | 0.3345435 | 0.6485856 | -1.310927 | 0.2240765 | -0.4267567 |\n",
       "| 2 | 1 | -0.38586896 | 4 | 12 | 2 | 1 | 4 | 0.3345435 | 0.6485856 | -1.310927 | 0.2240765 | -0.4267567 |\n",
       "| 3 | 1 |  0.39818373 | 6 |  4 | 2 | 0 | 4 | 0.3345435 | 0.6485856 | -1.310927 | 0.2240765 | -0.4267567 |\n",
       "| 4 | 1 | -0.17503685 | 6 |  4 | 2 | 0 | 4 | 0.3345435 | 0.6485856 | -1.310927 | 0.2240765 | -0.4267567 |\n",
       "| 5 | 1 |  0.88458337 | 6 |  4 | 1 | 0 | 4 | 0.3345435 | 0.6485856 | -1.310927 | 0.2240765 | -0.4267567 |\n",
       "| 6 | 1 | -0.09056477 | 6 |  4 | 2 | 0 | 4 | 0.3345435 | 0.6485856 | -1.310927 | 0.2240765 | -0.4267567 |\n",
       "\n"
      ],
      "text/plain": [
       "  Z Y           S3 C1 C2 C3 XC X1        X2        X3        X4       \n",
       "1 1  0.08160167 6   4 2  1  4  0.3345435 0.6485856 -1.310927 0.2240765\n",
       "2 1 -0.38586896 4  12 2  1  4  0.3345435 0.6485856 -1.310927 0.2240765\n",
       "3 1  0.39818373 6   4 2  0  4  0.3345435 0.6485856 -1.310927 0.2240765\n",
       "4 1 -0.17503685 6   4 2  0  4  0.3345435 0.6485856 -1.310927 0.2240765\n",
       "5 1  0.88458337 6   4 1  0  4  0.3345435 0.6485856 -1.310927 0.2240765\n",
       "6 1 -0.09056477 6   4 2  0  4  0.3345435 0.6485856 -1.310927 0.2240765\n",
       "  X5        \n",
       "1 -0.4267567\n",
       "2 -0.4267567\n",
       "3 -0.4267567\n",
       "4 -0.4267567\n",
       "5 -0.4267567\n",
       "6 -0.4267567"
      ]
     },
     "metadata": {},
     "output_type": "display_data"
    }
   ],
   "source": [
    "head(DF)"
   ]
  },
  {
   "cell_type": "markdown",
   "id": "b632afc3",
   "metadata": {},
   "source": [
    "### 1. How the tree was built?"
   ]
  },
  {
   "cell_type": "code",
   "execution_count": 40,
   "id": "e4e765a8",
   "metadata": {},
   "outputs": [
    {
     "data": {
      "text/plain": [
       "\n",
       "Call:\n",
       "glm(formula = Z ~ ., family = binomial, data = data.all[, -3])\n",
       "\n",
       "Deviance Residuals: \n",
       "    Min       1Q   Median       3Q      Max  \n",
       "-1.2079  -0.9088  -0.8297   1.4176   1.9556  \n",
       "\n",
       "Coefficients: (6 not defined because of singularities)\n",
       "              Estimate Std. Error z value Pr(>|z|)    \n",
       "(Intercept) -0.9524636  0.2845173  -3.348 0.000815 ***\n",
       "schoolid2    0.0697302  0.2766287   0.252 0.800986    \n",
       "schoolid3    0.0382080  0.2911323   0.131 0.895586    \n",
       "schoolid4    0.1761334  0.2784711   0.633 0.527059    \n",
       "schoolid5   -0.0033389  0.2950180  -0.011 0.990970    \n",
       "schoolid6    0.0583548  0.3067481   0.190 0.849124    \n",
       "schoolid7   -0.1313759  0.3188190  -0.412 0.680288    \n",
       "schoolid8    0.1233661  0.3023736   0.408 0.683279    \n",
       "schoolid9   -0.1955428  0.3073344  -0.636 0.524611    \n",
       "schoolid10  -0.1892794  0.2968750  -0.638 0.523752    \n",
       "schoolid11  -0.2224060  0.5461005  -0.407 0.683816    \n",
       "schoolid12  -0.3312420  0.5414374  -0.612 0.540682    \n",
       "schoolid13  -0.0408540  0.3989507  -0.102 0.918436    \n",
       "schoolid14  -0.8681934  0.6033674  -1.439 0.150175    \n",
       "schoolid15  -0.1059135  0.3263162  -0.325 0.745504    \n",
       "schoolid16  -0.1063268  0.2885387  -0.369 0.712500    \n",
       "schoolid17   0.0854323  0.3119435   0.274 0.784184    \n",
       "schoolid18  -0.1924441  0.2997822  -0.642 0.520908    \n",
       "schoolid19  -0.0265326  0.3229712  -0.082 0.934526    \n",
       "schoolid20  -0.2179554  0.3041336  -0.717 0.473594    \n",
       "schoolid21  -0.2147440  0.2982822  -0.720 0.471565    \n",
       "schoolid22  -0.5115966  0.4410779  -1.160 0.246098    \n",
       "schoolid23   0.0039231  0.3475373   0.011 0.990994    \n",
       "schoolid24  -0.0848314  0.3259572  -0.260 0.794668    \n",
       "schoolid25   0.0521087  0.2754586   0.189 0.849959    \n",
       "schoolid26   0.0241212  0.2876511   0.084 0.933171    \n",
       "schoolid27  -0.2300630  0.3104796  -0.741 0.458698    \n",
       "schoolid28  -0.3519010  0.2924774  -1.203 0.228909    \n",
       "schoolid29  -0.2198764  0.3293288  -0.668 0.504357    \n",
       "schoolid30  -0.3146292  0.3257994  -0.966 0.334187    \n",
       "schoolid31   0.1398555  0.6137901   0.228 0.819759    \n",
       "schoolid32   0.1555524  0.3916156   0.397 0.691215    \n",
       "schoolid33  -0.0991693  0.3939370  -0.252 0.801243    \n",
       "schoolid34  -0.0073688  0.2980808  -0.025 0.980278    \n",
       "schoolid35  -0.3528987  0.3997273  -0.883 0.377318    \n",
       "schoolid36  -0.3751465  0.3988972  -0.940 0.346982    \n",
       "schoolid37  -0.0343169  0.3219646  -0.107 0.915117    \n",
       "schoolid38  -0.1346432  0.3851869  -0.350 0.726674    \n",
       "schoolid39  -0.4339936  0.3612869  -1.201 0.229657    \n",
       "schoolid40  -0.3993958  0.3834495  -1.042 0.297604    \n",
       "schoolid41  -0.1490784  0.3542105  -0.421 0.673846    \n",
       "schoolid42  -0.1545715  0.3551857  -0.435 0.663428    \n",
       "schoolid43  -0.5679567  0.4277455  -1.328 0.184247    \n",
       "schoolid44  -0.1425896  0.3774795  -0.378 0.705623    \n",
       "schoolid45  -0.1337888  0.3232493  -0.414 0.678957    \n",
       "schoolid46  -0.2573249  0.3129119  -0.822 0.410874    \n",
       "schoolid47   0.0027726  0.2770108   0.010 0.992014    \n",
       "schoolid48  -0.3406079  0.3470361  -0.981 0.326358    \n",
       "schoolid49  -0.3236117  0.3434541  -0.942 0.346077    \n",
       "schoolid50  -0.1185119  0.4086074  -0.290 0.771787    \n",
       "schoolid51   0.4087898  0.4506822   0.907 0.364382    \n",
       "schoolid52  -0.3144014  0.4118342  -0.763 0.445214    \n",
       "schoolid53  -0.2733677  0.4511280  -0.606 0.544538    \n",
       "schoolid54  -0.0889588  0.3872532  -0.230 0.818311    \n",
       "schoolid55  -0.1558106  0.4155020  -0.375 0.707665    \n",
       "schoolid56   0.1050353  0.3149235   0.334 0.738737    \n",
       "schoolid57  -0.0314901  0.2901719  -0.109 0.913581    \n",
       "schoolid58  -0.0383183  0.2730077  -0.140 0.888379    \n",
       "schoolid59  -0.0529637  0.2934895  -0.180 0.856790    \n",
       "schoolid60  -0.1624792  0.3972885  -0.409 0.682561    \n",
       "schoolid61  -0.0289549  0.3201953  -0.090 0.927946    \n",
       "schoolid62   0.0993158  0.2669678   0.372 0.709882    \n",
       "schoolid63   0.1684702  0.3282167   0.513 0.607749    \n",
       "schoolid64  -0.0693060  0.2770896  -0.250 0.802493    \n",
       "schoolid65  -0.0004197  0.4072922  -0.001 0.999178    \n",
       "schoolid66  -0.2130911  0.2984091  -0.714 0.475171    \n",
       "schoolid67   0.0358440  0.2921158   0.123 0.902341    \n",
       "schoolid68  -0.0871303  0.3290814  -0.265 0.791188    \n",
       "schoolid69  -0.2550387  0.2908992  -0.877 0.380636    \n",
       "schoolid70  -0.0268947  0.4032160  -0.067 0.946820    \n",
       "schoolid71   0.0037464  0.4268290   0.009 0.992997    \n",
       "schoolid72  -0.1304085  0.2881512  -0.453 0.650859    \n",
       "schoolid73  -0.2160697  0.2840030  -0.761 0.446776    \n",
       "schoolid74  -0.0935320  0.2842612  -0.329 0.742129    \n",
       "schoolid75  -0.1056241  0.3024204  -0.349 0.726892    \n",
       "schoolid76  -0.1052261  0.2939262  -0.358 0.720342    \n",
       "S3           0.1036077  0.0197345   5.250 1.52e-07 ***\n",
       "C1          -0.0015919  0.0053900  -0.295 0.767728    \n",
       "C2          -0.1038596  0.0424020  -2.449 0.014309 *  \n",
       "C3          -0.1319218  0.0461833  -2.856 0.004284 ** \n",
       "XC                  NA         NA      NA       NA    \n",
       "X1                  NA         NA      NA       NA    \n",
       "X2                  NA         NA      NA       NA    \n",
       "X3                  NA         NA      NA       NA    \n",
       "X4                  NA         NA      NA       NA    \n",
       "X5                  NA         NA      NA       NA    \n",
       "---\n",
       "Signif. codes:  0 '***' 0.001 '**' 0.01 '*' 0.05 '.' 0.1 ' ' 1\n",
       "\n",
       "(Dispersion parameter for binomial family taken to be 1)\n",
       "\n",
       "    Null deviance: 13115  on 10390  degrees of freedom\n",
       "Residual deviance: 13009  on 10311  degrees of freedom\n",
       "AIC: 13169\n",
       "\n",
       "Number of Fisher Scoring iterations: 4\n"
      ]
     },
     "metadata": {},
     "output_type": "display_data"
    }
   ],
   "source": [
    "# It appears that school ID does not affect pscore. So ignore it\n",
    "# in modeling, and just treat it as source of per-cluster error.\n",
    "\n",
    "w.lm = glm(Z ~ ., data = data.all[,-3], family = binomial)\n",
    "summary(w.lm)\n",
    "\n",
    "W = DF$Z\n",
    "Y = DF$Y\n",
    "X.raw = DF[,-(1:2)]\n",
    "\n",
    "C1.exp = model.matrix(~ factor(X.raw$C1) + 0)\n",
    "XC.exp = model.matrix(~ factor(X.raw$XC) + 0)\n",
    "\n",
    "X = cbind(X.raw[,-which(names(X.raw) %in% c(\"C1\", \"XC\"))], C1.exp, XC.exp)\n"
   ]
  },
  {
   "cell_type": "code",
   "execution_count": 41,
   "id": "2ff9da94",
   "metadata": {},
   "outputs": [],
   "source": [
    "# Grow a forest. Add extra trees for the causal forest.\n",
    "#\n",
    "\n",
    "Y.forest = regression_forest(X, Y, clusters = school.id, equalize.cluster.weights = TRUE)\n",
    "Y.hat = predict(Y.forest)$predictions\n",
    "W.forest = regression_forest(X, W, clusters = school.id, equalize.cluster.weights = TRUE)\n",
    "W.hat = predict(W.forest)$predictions\n",
    "\n",
    "cf.raw = causal_forest(X, Y, W,\n",
    "                       Y.hat = Y.hat, W.hat = W.hat,\n",
    "                       clusters = school.id,\n",
    "                       equalize.cluster.weights = TRUE)\n",
    "varimp = variable_importance(cf.raw)\n",
    "selected.idx = which(varimp > mean(varimp))\n",
    "\n",
    "cf = causal_forest(X[,selected.idx], Y, W,\n",
    "                   Y.hat = Y.hat, W.hat = W.hat,\n",
    "                   clusters = school.id,\n",
    "                   equalize.cluster.weights = TRUE,\n",
    "                   tune.parameters = \"all\")\n",
    "tau.hat = predict(cf)$predictions\n"
   ]
  },
  {
   "cell_type": "markdown",
   "id": "61008dc4",
   "metadata": {},
   "source": [
    "### 2. Estimate ATE"
   ]
  },
  {
   "cell_type": "code",
   "execution_count": 42,
   "id": "4ee64808",
   "metadata": {},
   "outputs": [
    {
     "data": {
      "text/html": [
       "'95% CI for the ATE: 0.248 +/- 0.04'"
      ],
      "text/latex": [
       "'95\\% CI for the ATE: 0.248 +/- 0.04'"
      ],
      "text/markdown": [
       "'95% CI for the ATE: 0.248 +/- 0.04'"
      ],
      "text/plain": [
       "[1] \"95% CI for the ATE: 0.248 +/- 0.04\""
      ]
     },
     "metadata": {},
     "output_type": "display_data"
    }
   ],
   "source": [
    "ATE = average_treatment_effect(cf)\n",
    "paste(\"95% CI for the ATE:\", round(ATE[1], 3),\n",
    "      \"+/-\", round(qnorm(0.975) * ATE[2], 3))\n"
   ]
  },
  {
   "cell_type": "markdown",
   "id": "08ace48e",
   "metadata": {},
   "source": [
    "This result means that the average treatment effect is 0.248, significant and positive."
   ]
  },
  {
   "cell_type": "markdown",
   "id": "e641dc2c",
   "metadata": {},
   "source": [
    "### 3. Run best linear predictor analysis"
   ]
  },
  {
   "cell_type": "code",
   "execution_count": 43,
   "id": "6bcd7609",
   "metadata": {},
   "outputs": [
    {
     "data": {
      "text/plain": [
       "\n",
       "Best linear fit using forest predictions (on held-out data)\n",
       "as well as the mean forest prediction as regressors, along\n",
       "with one-sided heteroskedasticity-robust (HC3) SEs:\n",
       "\n",
       "                               Estimate Std. Error t value Pr(>t)    \n",
       "mean.forest.prediction         0.992560   0.082569 12.0210 <2e-16 ***\n",
       "differential.forest.prediction 0.275835   0.616262  0.4476 0.3272    \n",
       "---\n",
       "Signif. codes:  0 '***' 0.001 '**' 0.01 '*' 0.05 '.' 0.1 ' ' 1\n"
      ]
     },
     "metadata": {},
     "output_type": "display_data"
    },
    {
     "data": {
      "text/html": [
       "'95% CI for difference in ATE: 0.037 +/- 0.073'"
      ],
      "text/latex": [
       "'95\\% CI for difference in ATE: 0.037 +/- 0.073'"
      ],
      "text/markdown": [
       "'95% CI for difference in ATE: 0.037 +/- 0.073'"
      ],
      "text/plain": [
       "[1] \"95% CI for difference in ATE: 0.037 +/- 0.073\""
      ]
     },
     "metadata": {},
     "output_type": "display_data"
    }
   ],
   "source": [
    "\n",
    "test_calibration(cf)\n",
    "\n",
    "# Compare regions with high and low estimated CATEs\n",
    "high_effect = tau.hat > median(tau.hat)\n",
    "ate.high = average_treatment_effect(cf, subset = high_effect)\n",
    "ate.low = average_treatment_effect(cf, subset = !high_effect)\n",
    "paste(\"95% CI for difference in ATE:\",\n",
    "      round(ate.high[1] - ate.low[1], 3), \"+/-\",\n",
    "      round(qnorm(0.975) * sqrt(ate.high[2]^2 + ate.low[2]^2), 3))"
   ]
  },
  {
   "cell_type": "markdown",
   "id": "18a3c3dc",
   "metadata": {},
   "source": [
    "In this part we observe that \"mean.forest.prediction\" has a coefficient very close to one and significant, this indicates that the causal forest was able to find heterogeneity."
   ]
  },
  {
   "cell_type": "code",
   "execution_count": 44,
   "id": "ac8eb3f2",
   "metadata": {},
   "outputs": [
    {
     "data": {
      "text/plain": [
       "\n",
       "\tWelch Two Sample t-test\n",
       "\n",
       "data:  school.score[high.X1] and school.score[!high.X1]\n",
       "t = -3.0796, df = 71.402, p-value = 0.002942\n",
       "alternative hypothesis: true difference in means is not equal to 0\n",
       "95 percent confidence interval:\n",
       " -0.19481996 -0.04169622\n",
       "sample estimates:\n",
       "mean of x mean of y \n",
       "0.1885602 0.3068183 \n"
      ]
     },
     "metadata": {},
     "output_type": "display_data"
    },
    {
     "data": {
      "text/plain": [
       "\n",
       "\tWelch Two Sample t-test\n",
       "\n",
       "data:  school.score[high.X2] and school.score[!high.X2]\n",
       "t = 1.0011, df = 72.229, p-value = 0.3201\n",
       "alternative hypothesis: true difference in means is not equal to 0\n",
       "95 percent confidence interval:\n",
       " -0.04020131  0.12131665\n",
       "sample estimates:\n",
       "mean of x mean of y \n",
       "0.2679681 0.2274105 \n"
      ]
     },
     "metadata": {},
     "output_type": "display_data"
    },
    {
     "data": {
      "text/plain": [
       "                 Df Sum Sq Mean Sq F value Pr(>F)\n",
       "school.X2.levels  2  0.085 0.04251   1.377  0.259\n",
       "Residuals        73  2.254 0.03088               "
      ]
     },
     "metadata": {},
     "output_type": "display_data"
    }
   ],
   "source": [
    "# formal test for X1 and X2\n",
    "#\n",
    "\n",
    "dr.score = tau.hat + W / cf$W.hat *\n",
    "  (Y - cf$Y.hat - (1 - cf$W.hat) * tau.hat) -\n",
    "  (1 - W) / (1 - cf$W.hat) * (Y - cf$Y.hat + cf$W.hat * tau.hat)\n",
    "school.score = t(school.mat) %*% dr.score / school.size\n",
    "\n",
    "school.X1 = t(school.mat) %*% X$X1 / school.size\n",
    "high.X1 = school.X1 > median(school.X1)\n",
    "t.test(school.score[high.X1], school.score[!high.X1])\n",
    "\n",
    "school.X2 = (t(school.mat) %*% X$X2) / school.size\n",
    "high.X2 = school.X2 > median(school.X2)\n",
    "t.test(school.score[high.X2], school.score[!high.X2])\n",
    "\n",
    "school.X2.levels = cut(school.X2,\n",
    "  breaks = c(-Inf, quantile(school.X2, c(1/3, 2/3)), Inf))\n",
    "summary(aov(school.score ~ school.X2.levels))"
   ]
  },
  {
   "cell_type": "code",
   "execution_count": 45,
   "id": "63b60305",
   "metadata": {},
   "outputs": [
    {
     "data": {
      "text/plain": [
       "\n",
       "\tOne Sample t-test\n",
       "\n",
       "data:  school.score.XS3.high - school.score.XS3.low\n",
       "t = 2.2544, df = 75, p-value = 0.02709\n",
       "alternative hypothesis: true mean is not equal to 0\n",
       "95 percent confidence interval:\n",
       " 0.0100095 0.1620529\n",
       "sample estimates:\n",
       " mean of x \n",
       "0.08603122 \n"
      ]
     },
     "metadata": {},
     "output_type": "display_data"
    },
    {
     "data": {
      "image/png": "[encoded data removed]",
      "text/plain": [
       "plot without title"
      ]
     },
     "metadata": {
      "image/png": {
       "height": 420,
       "width": 420
      }
     },
     "output_type": "display_data"
    }
   ],
   "source": [
    "# formal test for S3\n",
    "#\n",
    "\n",
    "school.score.XS3.high = t(school.mat) %*% (dr.score * (X$S3 >= 6)) /\n",
    "  t(school.mat) %*% (X$S3 >= 6)\n",
    "school.score.XS3.low = t(school.mat) %*% (dr.score * (X$S3 < 6)) /\n",
    "  t(school.mat) %*% (X$S3 < 6)\n",
    "\n",
    "plot(school.score.XS3.low, school.score.XS3.high)\n",
    "t.test(school.score.XS3.high - school.score.XS3.low)\n"
   ]
  },
  {
   "cell_type": "markdown",
   "id": "b56d7ae1",
   "metadata": {},
   "source": [
    "From the test performed on the variable X1 we found heterogeneity on this variable. However, the variable X2 does not seem to have heterogeneity. On the other hand, from the test performed on the variable S3 we can observe the presence of heterogeneity."
   ]
  },
  {
   "cell_type": "markdown",
   "id": "913a7cfc",
   "metadata": {},
   "source": [
    "### 4. Look at school-wise heterogeneity"
   ]
  },
  {
   "cell_type": "code",
   "execution_count": 46,
   "id": "95ba5ea3",
   "metadata": {},
   "outputs": [
    {
     "data": {
      "text/html": [
       "<strong>pdf:</strong> 3"
      ],
      "text/latex": [
       "\\textbf{pdf:} 3"
      ],
      "text/markdown": [
       "**pdf:** 3"
      ],
      "text/plain": [
       "pdf \n",
       "  3 "
      ]
     },
     "metadata": {},
     "output_type": "display_data"
    },
    {
     "data": {
      "image/png": "[encoded data removed]",
      "text/plain": [
       "Plot with title \"\""
      ]
     },
     "metadata": {
      "image/png": {
       "height": 420,
       "width": 420
      }
     },
     "output_type": "display_data"
    }
   ],
   "source": [
    "#PLOT\n",
    "#pdf(\"school_hist.pdf\")\n",
    "pardef = par(mar = c(5, 4, 4, 2) + 0.5, cex.lab=1.5, cex.axis=1.5, cex.main=1.5, cex.sub=1.5)\n",
    "hist(school.score, xlab = \"School Treatment Effect Estimate\", main = \"\")\n",
    "dev.off()"
   ]
  },
  {
   "cell_type": "markdown",
   "id": "52f9f4b1",
   "metadata": {},
   "source": [
    "The first graph helps us to observe the presence of heterogeneity. We find that it is possible to determine the presence of heterogeneity due to the large concentration of school treatment effects estimated between values 0 and 0.5."
   ]
  },
  {
   "cell_type": "code",
   "execution_count": 47,
   "id": "3da9098f",
   "metadata": {},
   "outputs": [
    {
     "name": "stdout",
     "output_type": "stream",
     "text": [
      "[1] \"0.248 +/- 0.04\"\n"
     ]
    }
   ],
   "source": [
    "# Re-check ATE... sanity check only\n",
    "#\n",
    "\n",
    "ate.hat = mean(school.score)\n",
    "se.hat = sqrt(var(school.score) / length(school.score - 1))\n",
    "print(paste(round(ate.hat, 3), \"+/-\", round(1.96 * se.hat, 3)))"
   ]
  },
  {
   "cell_type": "code",
   "execution_count": 48,
   "id": "398eaf6a",
   "metadata": {},
   "outputs": [
    {
     "data": {
      "text/html": [
       "<strong>pdf:</strong> 3"
      ],
      "text/latex": [
       "\\textbf{pdf:} 3"
      ],
      "text/markdown": [
       "**pdf:** 3"
      ],
      "text/plain": [
       "pdf \n",
       "  3 "
      ]
     },
     "metadata": {},
     "output_type": "display_data"
    },
    {
     "data": {
      "image/png": "[encoded data removed]",
      "text/plain": [
       "plot without title"
      ]
     },
     "metadata": {
      "image/png": {
       "height": 420,
       "width": 420
      }
     },
     "output_type": "display_data"
    }
   ],
   "source": [
    "# Look at variation in propensity scores\n",
    "#\n",
    "\n",
    "DF = X\n",
    "DF$W.hat = cf$W.hat\n",
    "\n",
    "#PLOT\n",
    "#pdf(\"pscore.pdf\")\n",
    "pardef = par(mar = c(5, 4, 4, 2) + 0.5, cex.lab=1.5, cex.axis=1.5, cex.main=1.5, cex.sub=1.5)\n",
    "boxplot(W.hat ~ S3, data = DF, ylab = \"Propensity Score\", xlab = \"Student Expectation of Success\")\n",
    "lines(smooth.spline(X$S3, cf$W.hat), lwd = 2, col = 4)\n",
    "dev.off()"
   ]
  },
  {
   "cell_type": "markdown",
   "id": "a24cac9b",
   "metadata": {},
   "source": [
    "The second graph shows that students with higher expectation of success appears to have more probability to receive the treatment than others students (we can see it in the incresing probability score since a student expectation of success of 3)."
   ]
  },
  {
   "cell_type": "markdown",
   "id": "c73b8bf7",
   "metadata": {},
   "source": [
    "### Analysis ignoring clusters. How do the results change?"
   ]
  },
  {
   "cell_type": "code",
   "execution_count": 49,
   "id": "0e8aee0e",
   "metadata": {},
   "outputs": [
    {
     "data": {
      "text/html": [
       "'95% CI for the ATE: 0.253 +/- 0.022'"
      ],
      "text/latex": [
       "'95\\% CI for the ATE: 0.253 +/- 0.022'"
      ],
      "text/markdown": [
       "'95% CI for the ATE: 0.253 +/- 0.022'"
      ],
      "text/plain": [
       "[1] \"95% CI for the ATE: 0.253 +/- 0.022\""
      ]
     },
     "metadata": {},
     "output_type": "display_data"
    },
    {
     "data": {
      "text/plain": [
       "\n",
       "Best linear fit using forest predictions (on held-out data)\n",
       "as well as the mean forest prediction as regressors, along\n",
       "with one-sided heteroskedasticity-robust (HC3) SEs:\n",
       "\n",
       "                               Estimate Std. Error t value    Pr(>t)    \n",
       "mean.forest.prediction         1.013601   0.045216 22.4171 < 2.2e-16 ***\n",
       "differential.forest.prediction 0.528143   0.121994  4.3292 7.551e-06 ***\n",
       "---\n",
       "Signif. codes:  0 '***' 0.001 '**' 0.01 '*' 0.05 '.' 0.1 ' ' 1\n"
      ]
     },
     "metadata": {},
     "output_type": "display_data"
    },
    {
     "name": "stdout",
     "output_type": "stream",
     "text": [
      "[1] 1\n",
      "[1] 2\n",
      "[1] 3\n",
      "[1] 4\n",
      "[1] 5\n"
     ]
    },
    {
     "data": {
      "text/plain": [
       "\n",
       "Best linear fit using forest predictions (on held-out data)\n",
       "as well as the mean forest prediction as regressors, along\n",
       "with one-sided heteroskedasticity-robust (HC3) SEs:\n",
       "\n",
       "                               Estimate Std. Error t value  Pr(>t)    \n",
       "mean.forest.prediction         1.008590   0.065529 15.3914 < 2e-16 ***\n",
       "differential.forest.prediction 0.381997   0.233055  1.6391 0.05061 .  \n",
       "---\n",
       "Signif. codes:  0 '***' 0.001 '**' 0.01 '*' 0.05 '.' 0.1 ' ' 1\n"
      ]
     },
     "metadata": {},
     "output_type": "display_data"
    },
    {
     "data": {
      "text/html": [
       "<style>\n",
       ".list-inline {list-style: none; margin:0; padding: 0}\n",
       ".list-inline>li {display: inline-block}\n",
       ".list-inline>li:not(:last-child)::after {content: \"\\00b7\"; padding: 0 .5ex}\n",
       "</style>\n",
       "<ol class=list-inline><li>-2.04282391312871e-05</li><li>0.000251553138701288</li></ol>\n"
      ],
      "text/latex": [
       "\\begin{enumerate*}\n",
       "\\item -2.04282391312871e-05\n",
       "\\item 0.000251553138701288\n",
       "\\end{enumerate*}\n"
      ],
      "text/markdown": [
       "1. -2.04282391312871e-05\n",
       "2. 0.000251553138701288\n",
       "\n",
       "\n"
      ],
      "text/plain": [
       "[1] -2.042824e-05  2.515531e-04"
      ]
     },
     "metadata": {},
     "output_type": "display_data"
    },
    {
     "data": {
      "text/plain": [
       "                     Df Sum Sq Mean Sq F value  Pr(>F)    \n",
       "factor(school.id)    75    203   2.708   1.999 7.3e-07 ***\n",
       "Residuals         10315  13972   1.355                    \n",
       "---\n",
       "Signif. codes:  0 '***' 0.001 '**' 0.01 '*' 0.05 '.' 0.1 ' ' 1"
      ]
     },
     "metadata": {},
     "output_type": "display_data"
    },
    {
     "data": {
      "image/png": "[encoded data removed]",
      "text/plain": [
       "plot without title"
      ]
     },
     "metadata": {
      "image/png": {
       "height": 420,
       "width": 420
      }
     },
     "output_type": "display_data"
    }
   ],
   "source": [
    "cf.noclust = causal_forest(X[,selected.idx], Y, W,\n",
    "                           Y.hat = Y.hat, W.hat = W.hat,\n",
    "                           tune.parameters = \"all\")\n",
    "\n",
    "ATE.noclust = average_treatment_effect(cf.noclust)\n",
    "paste(\"95% CI for the ATE:\", round(ATE.noclust[1], 3),\n",
    "      \"+/-\", round(qnorm(0.975) * ATE.noclust[2], 3))\n",
    "\n",
    "test_calibration(cf.noclust)\n",
    "\n",
    "tau.hat.noclust = predict(cf.noclust)$predict\n",
    "plot(school.id, tau.hat.noclust)\n",
    "\n",
    "nfold = 5\n",
    "school.levels = unique(school.id)\n",
    "cluster.folds = sample.int(nfold, length(school.levels), replace = TRUE)\n",
    "\n",
    "tau.hat.crossfold = rep(NA, length(Y))\n",
    "for (foldid in 1:nfold) {\n",
    "  print(foldid)\n",
    "  infold = school.id %in% school.levels[cluster.folds == foldid]\n",
    "  cf.fold = causal_forest(X[!infold, selected.idx], Y[!infold], W[!infold],\n",
    "                          Y.hat = Y.hat[!infold], W.hat = W.hat[!infold],\n",
    "                          tune.parameters = \"all\")\n",
    "  pred.fold = predict(cf.fold, X[infold, selected.idx])$predictions\n",
    "  tau.hat.crossfold[infold] = pred.fold\n",
    "}\n",
    "\n",
    "cf.noclust.cpy = cf.noclust\n",
    "cf.noclust.cpy$predictions = tau.hat.crossfold\n",
    "cf.noclust.cpy$clusters = school.id\n",
    "test_calibration(cf.noclust.cpy)\n",
    "\n",
    "Rloss = mean(((Y - Y.hat) - tau.hat * (W - W.hat))^2)\n",
    "Rloss.noclust = mean(((Y - Y.hat) - tau.hat.noclust * (W - W.hat))^2)\n",
    "Rloss.crossfold = mean(((Y - Y.hat) - tau.hat.crossfold * (W - W.hat))^2)\n",
    "\n",
    "c(Rloss.noclust - Rloss, Rloss.crossfold - Rloss)\n",
    "\n",
    "summary(aov(dr.score ~ factor(school.id)))\n"
   ]
  },
  {
   "cell_type": "markdown",
   "id": "4c493180",
   "metadata": {},
   "source": [
    "Unlike the previous ATE, the ATE ignoring clusters is slightly larger and the confidence interval is smaller.\n",
    "\n",
    "In addition, the calibration test shows the presence of heterogeneity."
   ]
  },
  {
   "cell_type": "markdown",
   "id": "72a75d3f",
   "metadata": {},
   "source": [
    "### 6. Analysis without fitting the propensity score"
   ]
  },
  {
   "cell_type": "code",
   "execution_count": 50,
   "id": "936eb56e",
   "metadata": {},
   "outputs": [
    {
     "data": {
      "text/html": [
       "'95% CI for the ATE: 0.254 +/- 0.038'"
      ],
      "text/latex": [
       "'95\\% CI for the ATE: 0.254 +/- 0.038'"
      ],
      "text/markdown": [
       "'95% CI for the ATE: 0.254 +/- 0.038'"
      ],
      "text/plain": [
       "[1] \"95% CI for the ATE: 0.254 +/- 0.038\""
      ]
     },
     "metadata": {},
     "output_type": "display_data"
    },
    {
     "data": {
      "text/html": [
       "<strong>pdf:</strong> 3"
      ],
      "text/latex": [
       "\\textbf{pdf:} 3"
      ],
      "text/markdown": [
       "**pdf:** 3"
      ],
      "text/plain": [
       "pdf \n",
       "  3 "
      ]
     },
     "metadata": {},
     "output_type": "display_data"
    },
    {
     "data": {
      "image/png": "[encoded data removed]",
      "text/plain": [
       "plot without title"
      ]
     },
     "metadata": {
      "image/png": {
       "height": 420,
       "width": 420
      }
     },
     "output_type": "display_data"
    }
   ],
   "source": [
    "cf.noprop = causal_forest(X[,selected.idx], Y, W,\n",
    "                          Y.hat = Y.hat, W.hat = mean(W),\n",
    "                          tune.parameters = \"all\",\n",
    "                          equalize.cluster.weights = TRUE,\n",
    "                          clusters = school.id)\n",
    "tau.hat.noprop = predict(cf.noprop)$predictions\n",
    "\n",
    "ATE.noprop = average_treatment_effect(cf.noprop)\n",
    "paste(\"95% CI for the ATE:\", round(ATE.noprop[1], 3),\n",
    "      \"+/-\", round(qnorm(0.975) * ATE.noprop[2], 3))\n",
    "\n",
    "#pdf(\"tauhat_noprop.pdf\")\n",
    "pardef = par(mar = c(5, 4, 4, 2) + 0.5, cex.lab=1.5, cex.axis=1.5, cex.main=1.5, cex.sub=1.5)\n",
    "plot(tau.hat, tau.hat.noprop,\n",
    "     xlim = range(tau.hat, tau.hat.noprop),\n",
    "     ylim = range(tau.hat, tau.hat.noprop),\n",
    "     xlab = \"orthogonalized causal forest estimates\",\n",
    "     ylab = \"non-orthogonalized causal forest\")\n",
    "abline(0, 1, lwd = 2, lty = 2, col = 4)\n",
    "par = pardef\n",
    "dev.off()\n"
   ]
  },
  {
   "cell_type": "markdown",
   "id": "66b35e31",
   "metadata": {},
   "source": [
    "The graph shows that the results of the CATEs of the causal forest with and without orthogonalization are very similar (they are distributed close to the 45 degree line), this implies that the orthogonalization is not very important."
   ]
  },
  {
   "cell_type": "code",
   "execution_count": 51,
   "id": "812dfbfc",
   "metadata": {},
   "outputs": [
    {
     "data": {
      "text/plain": [
       "\n",
       "Best linear fit using forest predictions (on held-out data)\n",
       "as well as the mean forest prediction as regressors, along\n",
       "with one-sided heteroskedasticity-robust (HC3) SEs:\n",
       "\n",
       "                               Estimate Std. Error t value Pr(>t)    \n",
       "mean.forest.prediction         1.000263   0.082531 12.1198 <2e-16 ***\n",
       "differential.forest.prediction 0.813588   0.653713  1.2446 0.1086    \n",
       "---\n",
       "Signif. codes:  0 '***' 0.001 '**' 0.01 '*' 0.05 '.' 0.1 ' ' 1\n"
      ]
     },
     "metadata": {},
     "output_type": "display_data"
    },
    {
     "data": {
      "text/plain": [
       "\n",
       "t test of coefficients:\n",
       "\n",
       "               Estimate  Std. Error t value Pr(>|t|)   \n",
       "(Intercept)  0.24079581  0.07773953  3.0975 0.002866 **\n",
       "X1          -0.04959039  0.02966052 -1.6719 0.099273 . \n",
       "X2           0.01412785  0.03388522  0.4169 0.678081   \n",
       "X3           0.00939179  0.02683438  0.3500 0.727460   \n",
       "X4           0.02372228  0.02555013  0.9285 0.356552   \n",
       "X5          -0.03526586  0.02708329 -1.3021 0.197399   \n",
       "XC.1         0.00090015  0.09453655  0.0095 0.992432   \n",
       "XC.2         0.08582749  0.10582788  0.8110 0.420275   \n",
       "XC.3        -0.13553694  0.08823978 -1.5360 0.129317   \n",
       "XC.4         0.04492317  0.08222504  0.5463 0.586672   \n",
       "---\n",
       "Signif. codes:  0 '***' 0.001 '**' 0.01 '*' 0.05 '.' 0.1 ' ' 1\n"
      ]
     },
     "metadata": {},
     "output_type": "display_data"
    }
   ],
   "source": [
    "# Train forest on school-wise DR scores\n",
    "#\n",
    "\n",
    "school.X = (t(school.mat) %*% as.matrix(X[,c(4:8, 25:28)])) / school.size\n",
    "school.X = data.frame(school.X)\n",
    "colnames(school.X) = c(\"X1\", \"X2\", \"X3\", \"X4\", \"X5\",\n",
    "                    \"XC.1\", \"XC.2\", \"XC.3\", \"XC.4\")\n",
    "\n",
    "dr.score = tau.hat + W / cf$W.hat * (Y - cf$Y.hat - (1 - cf$W.hat) * tau.hat) -\n",
    "  (1 - W) / (1 - cf$W.hat) * (Y - cf$Y.hat + cf$W.hat * tau.hat)\n",
    "school.score = t(school.mat) %*% dr.score / school.size\n",
    "\n",
    "school.forest = regression_forest(school.X, school.score)\n",
    "school.pred = predict(school.forest)$predictions\n",
    "test_calibration(school.forest)\n",
    "\n",
    "\n",
    "# Alternative OLS analysis\n",
    "school.DF = data.frame(school.X, school.score=school.score)\n",
    "coeftest(lm(school.score ~ ., data = school.DF), vcov = vcovHC)"
   ]
  },
  {
   "cell_type": "markdown",
   "id": "70659944",
   "metadata": {},
   "source": [
    "### Interpreting plots"
   ]
  },
  {
   "cell_type": "code",
   "execution_count": 52,
   "id": "53efbdd0",
   "metadata": {},
   "outputs": [
    {
     "data": {
      "text/html": [
       "<strong>pdf:</strong> 3"
      ],
      "text/latex": [
       "\\textbf{pdf:} 3"
      ],
      "text/markdown": [
       "**pdf:** 3"
      ],
      "text/plain": [
       "pdf \n",
       "  3 "
      ]
     },
     "metadata": {},
     "output_type": "display_data"
    },
    {
     "data": {
      "image/png": "[encoded data removed]",
      "text/plain": [
       "Plot with title \"\""
      ]
     },
     "metadata": {
      "image/png": {
       "height": 420,
       "width": 420
      }
     },
     "output_type": "display_data"
    }
   ],
   "source": [
    "#pdf(\"tauhat_hist.pdf\")\n",
    "pardef = par(mar = c(5, 4, 4, 2) + 0.5, cex.lab=1.5, cex.axis=1.5, cex.main=1.5, cex.sub=1.5)\n",
    "hist(tau.hat, xlab = \"estimated CATE\", main = \"\")\n",
    "dev.off()"
   ]
  },
  {
   "cell_type": "markdown",
   "id": "acf7bc11",
   "metadata": {},
   "source": [
    "Some difference to a normal distribution shows presence of heterogeneity not calculated in CATE estimated."
   ]
  },
  {
   "cell_type": "code",
   "execution_count": 53,
   "id": "9983dd71",
   "metadata": {},
   "outputs": [
    {
     "data": {
      "text/html": [
       "<strong>pdf:</strong> 3"
      ],
      "text/latex": [
       "\\textbf{pdf:} 3"
      ],
      "text/markdown": [
       "**pdf:** 3"
      ],
      "text/plain": [
       "pdf \n",
       "  3 "
      ]
     },
     "metadata": {},
     "output_type": "display_data"
    },
    {
     "data": {
      "image/png": "[encoded data removed]",
      "text/plain": [
       "Plot with title \"\""
      ]
     },
     "metadata": {
      "image/png": {
       "height": 420,
       "width": 420
      }
     },
     "output_type": "display_data"
    }
   ],
   "source": [
    "#pdf(\"tauhat_hist_noprop.pdf\")\n",
    "pardef = par(mar = c(5, 4, 4, 2) + 0.5, cex.lab=1.5, cex.axis=1.5, cex.main=1.5, cex.sub=1.5)\n",
    "hist(tau.hat.noprop, xlab = \"estimated CATE\", main = \"\")\n",
    "dev.off()"
   ]
  },
  {
   "cell_type": "markdown",
   "id": "b6ad8280",
   "metadata": {},
   "source": [
    "Some difference to a normal distribution shows presence of heterogeneity not calculated in CATE estimated."
   ]
  },
  {
   "cell_type": "code",
   "execution_count": 54,
   "id": "382ac02b",
   "metadata": {},
   "outputs": [
    {
     "data": {
      "text/html": [
       "<strong>pdf:</strong> 3"
      ],
      "text/latex": [
       "\\textbf{pdf:} 3"
      ],
      "text/markdown": [
       "**pdf:** 3"
      ],
      "text/plain": [
       "pdf \n",
       "  3 "
      ]
     },
     "metadata": {},
     "output_type": "display_data"
    },
    {
     "data": {
      "image/png": "[encoded data removed]",
      "text/plain": [
       "Plot with title \"\""
      ]
     },
     "metadata": {
      "image/png": {
       "height": 420,
       "width": 420
      }
     },
     "output_type": "display_data"
    }
   ],
   "source": [
    "#pdf(\"tauhat_hist_noclust.pdf\")\n",
    "pardef = par(mar = c(5, 4, 4, 2) + 0.5, cex.lab=1.5, cex.axis=1.5, cex.main=1.5, cex.sub=1.5)\n",
    "hist(tau.hat.noclust, xlab = \"estimated CATE\", main = \"\",\n",
    "     breaks = seq(-0.0, 0.55, by = 0.55 / 25))\n",
    "dev.off()"
   ]
  },
  {
   "cell_type": "markdown",
   "id": "9bc1f6b3",
   "metadata": {},
   "source": [
    "This graph is similar to a normal distribution but it has a large variance compared with previous graphs."
   ]
  },
  {
   "cell_type": "code",
   "execution_count": 55,
   "id": "a44aea81",
   "metadata": {},
   "outputs": [
    {
     "data": {
      "text/html": [
       "<strong>pdf:</strong> 3"
      ],
      "text/latex": [
       "\\textbf{pdf:} 3"
      ],
      "text/markdown": [
       "**pdf:** 3"
      ],
      "text/plain": [
       "pdf \n",
       "  3 "
      ]
     },
     "metadata": {},
     "output_type": "display_data"
    },
    {
     "data": {
      "image/png": "[encoded data removed]",
      "text/plain": [
       "plot without title"
      ]
     },
     "metadata": {
      "image/png": {
       "height": 420,
       "width": 420
      }
     },
     "output_type": "display_data"
    }
   ],
   "source": [
    "#pdf(\"tauhat_vs_X1.pdf\")\n",
    "pardef = par(mar = c(5, 4, 4, 2) + 0.5, cex.lab=1.5, cex.axis=1.5, cex.main=1.5, cex.sub=1.5)\n",
    "boxplot(tau.hat ~ round(X$X1), xlab = \"X1\", ylab = \"estimated CATE\")\n",
    "lines(smooth.spline(4 + X[,\"X1\"], tau.hat, df = 4), lwd = 2, col = 4)\n",
    "dev.off()"
   ]
  },
  {
   "cell_type": "markdown",
   "id": "03503c65",
   "metadata": {},
   "source": [
    "This graph shows the heterogeneity of x1 variable over its value."
   ]
  },
  {
   "cell_type": "code",
   "execution_count": 56,
   "id": "3783b653",
   "metadata": {},
   "outputs": [
    {
     "data": {
      "text/html": [
       "<strong>pdf:</strong> 3"
      ],
      "text/latex": [
       "\\textbf{pdf:} 3"
      ],
      "text/markdown": [
       "**pdf:** 3"
      ],
      "text/plain": [
       "pdf \n",
       "  3 "
      ]
     },
     "metadata": {},
     "output_type": "display_data"
    },
    {
     "data": {
      "image/png": "[encoded data removed]",
      "text/plain": [
       "plot without title"
      ]
     },
     "metadata": {
      "image/png": {
       "height": 420,
       "width": 420
      }
     },
     "output_type": "display_data"
    }
   ],
   "source": [
    "#pdf(\"tauhat_vs_X2.pdf\")\n",
    "pardef = par(mar = c(5, 4, 4, 2) + 0.5, cex.lab=1.5, cex.axis=1.5, cex.main=1.5, cex.sub=1.5)\n",
    "boxplot(tau.hat ~ round(X$X2), xlab = \"X2\", ylab = \"estimated CATE\")\n",
    "lines(smooth.spline(4 + X[,\"X2\"], tau.hat, df = 4), lwd = 2, col = 4)\n",
    "dev.off()\n",
    "\n",
    "school.avg.tauhat = t(school.mat) %*% tau.hat / school.size"
   ]
  },
  {
   "cell_type": "markdown",
   "id": "46ff0d94",
   "metadata": {},
   "source": [
    "This graph shows the heterogeneity of x2 variable over its value."
   ]
  },
  {
   "cell_type": "code",
   "execution_count": 57,
   "id": "b59c6d5a",
   "metadata": {},
   "outputs": [
    {
     "data": {
      "text/html": [
       "<strong>pdf:</strong> 3"
      ],
      "text/latex": [
       "\\textbf{pdf:} 3"
      ],
      "text/markdown": [
       "**pdf:** 3"
      ],
      "text/plain": [
       "pdf \n",
       "  3 "
      ]
     },
     "metadata": {},
     "output_type": "display_data"
    },
    {
     "data": {
      "image/png": "[encoded data removed]",
      "text/plain": [
       "plot without title"
      ]
     },
     "metadata": {
      "image/png": {
       "height": 420,
       "width": 420
      }
     },
     "output_type": "display_data"
    }
   ],
   "source": [
    "#pdf(\"school_avg.pdf\")\n",
    "pardef = par(mar = c(5, 4, 4, 2) + 0.5, cex.lab=1.5, cex.axis=1.5, cex.main=1.5, cex.sub=1.5)\n",
    "plot(school.avg.tauhat, school.pred, cex = 1.5,\n",
    "     xlim = range(school.avg.tauhat, school.pred),\n",
    "     ylim = range(school.avg.tauhat, school.pred),\n",
    "     xlab = \"average CATE estimate in school\",\n",
    "     ylab = \"school-wise forest predictions\")\n",
    "abline(0, 1, lwd = 2, lty = 2, col = 4)\n",
    "par = pardef\n",
    "dev.off()"
   ]
  },
  {
   "cell_type": "markdown",
   "id": "312fac03",
   "metadata": {},
   "source": [
    "This graph shows that the predictions are very similar to the estimated CATE at the school level."
   ]
  },
  {
   "cell_type": "markdown",
   "id": "f5bc1037",
   "metadata": {},
   "source": [
    "### Interpretation"
   ]
  },
  {
   "cell_type": "markdown",
   "id": "8a4508ec",
   "metadata": {},
   "source": [
    "### 8. Visualize school-level covariates by treatment heterogeneit"
   ]
  },
  {
   "cell_type": "code",
   "execution_count": 58,
   "id": "40723729",
   "metadata": {},
   "outputs": [
    {
     "data": {
      "text/html": [
       "0.210526315789474"
      ],
      "text/latex": [
       "0.210526315789474"
      ],
      "text/markdown": [
       "0.210526315789474"
      ],
      "text/plain": [
       "[1] 0.2105263"
      ]
     },
     "metadata": {},
     "output_type": "display_data"
    },
    {
     "data": {
      "text/html": [
       "0.538461538461538"
      ],
      "text/latex": [
       "0.538461538461538"
      ],
      "text/markdown": [
       "0.538461538461538"
      ],
      "text/plain": [
       "[1] 0.5384615"
      ]
     },
     "metadata": {},
     "output_type": "display_data"
    },
    {
     "data": {
      "image/png": "[encoded data removed]",
      "text/plain": [
       "plot without title"
      ]
     },
     "metadata": {
      "image/png": {
       "height": 420,
       "width": 420
      }
     },
     "output_type": "display_data"
    }
   ],
   "source": [
    "school.X.std = scale(school.X)\n",
    "school.tercile = cut(school.pred,\n",
    "                     breaks = c(-Inf, quantile(school.pred, c(1/3, 2/3)), Inf))\n",
    "school.tercile.mat = model.matrix(~ school.tercile + 0)\n",
    "school.means = diag(1 / colSums(school.tercile.mat)) %*% t(school.tercile.mat) %*% as.matrix(school.X.std)\n",
    "\n",
    "MM = max(abs(school.means))\n",
    "HC = heat.colors(21)\n",
    "school.col = apply(school.means, 1:2, function(aa) HC[1 + round(20 * (0.5 + aa))])\n",
    "\n",
    "DF.plot = data.frame(tercile=rep(factor(1:3, labels=c(\"low\", \"mid\", \"high\")), 9), mean=as.numeric(school.means),\n",
    "                     feature = factor(rbind(colnames(school.X), colnames(school.X), colnames(school.X))))\n",
    "\n",
    "ggplot(data = DF.plot, aes(x = feature, y = tercile, fill = mean)) +\n",
    "    geom_tile() + scale_fill_gradient(low = \"white\", high = \"steelblue\") +\n",
    "    theme(axis.text = element_text(size=12), axis.title = element_text(size=14),\n",
    "          legend.title = element_text(size=14), legend.text = element_text(size=12)) +\n",
    "    theme(panel.background = element_blank())\n",
    "ggsave(\"tercile_plot.pdf\", width = 8, height = 4.5, dpi = 120)\n",
    "\n",
    "mean(school.X$XC.3)\n",
    "mean(school.X$XC.3[as.numeric(school.tercile) == 1])"
   ]
  },
  {
   "cell_type": "markdown",
   "id": "a839f955",
   "metadata": {},
   "source": [
    "This graph shows the heterogeneity across the mean of some variables by school terciles. \n",
    "\n",
    "In variables X1, X4 we can see a great contrast of mean in a low tercile compared to high tercile. On the other side, we can see a great mean value of the high tercile in X2 and X5 compared to low tercile."
   ]
  },
  {
   "cell_type": "markdown",
   "id": "cd557a9c",
   "metadata": {},
   "source": [
    "### 9. CATE by school"
   ]
  },
  {
   "cell_type": "code",
   "execution_count": 59,
   "id": "e0d4e21b",
   "metadata": {},
   "outputs": [
    {
     "data": {
      "text/html": [
       "<strong>pdf:</strong> 3"
      ],
      "text/latex": [
       "\\textbf{pdf:} 3"
      ],
      "text/markdown": [
       "**pdf:** 3"
      ],
      "text/plain": [
       "pdf \n",
       "  3 "
      ]
     },
     "metadata": {},
     "output_type": "display_data"
    },
    {
     "data": {
      "image/png": "[encoded data removed]",
      "text/plain": [
       "plot without title"
      ]
     },
     "metadata": {
      "image/png": {
       "height": 420,
       "width": 420
      }
     },
     "output_type": "display_data"
    }
   ],
   "source": [
    "ord = order(order(school.pred))\n",
    "school.sort = ord[school.id]\n",
    "\n",
    "#pdf(\"school_boxplot.pdf\")\n",
    "pardef = par(mar = c(5, 4, 4, 2) + 0.5, cex.lab=1.5, cex.axis=1.5, cex.main=1.5, cex.sub=1.5)\n",
    "boxplot(tau.hat.noclust ~ school.sort, xaxt = \"n\",\n",
    "        xlab = \"school\", ylab = \"estimated CATE\")\n",
    "points(1:76, sort(school.pred), col = 4, pch = 16)\n",
    "legend(\"topleft\", c(\"school mean CATE\", \"CATE w/o clustering\"), pch = c(16, 1), col = c(4, 1), cex = 1.5)\n",
    "par = pardef\n",
    "dev.off()"
   ]
  },
  {
   "cell_type": "markdown",
   "id": "a44c5857",
   "metadata": {},
   "source": [
    "The analysis that does not cluster has highly variable CATE estimates at the school level, however, if the results of school mean CATE are clustered they behave differently. This implies that each school influences the results of the treatment."
   ]
  }
 ],
 "metadata": {
  "kernelspec": {
   "display_name": "R",
   "language": "R",
   "name": "ir"
  },
  "language_info": {
   "codemirror_mode": "r",
   "file_extension": ".r",
   "mimetype": "text/x-r-source",
   "name": "R",
   "pygments_lexer": "r",
   "version": "4.2.0"
  }
 },
 "nbformat": 4,
 "nbformat_minor": 5
}
