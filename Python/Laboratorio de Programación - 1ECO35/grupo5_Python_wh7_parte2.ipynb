{
 "cells": [
  {
   "cell_type": "markdown",
   "id": "ccd7dd4e",
   "metadata": {},
   "source": [
    "# Página Onpe - Scrapper\n",
    "Extraer información de votos congresales de las ultimas elecciones general link.\n",
    "\n",
    "Extraer la siguiente tabla por cada departamento (nombre de organización política, total, % votos validos, % votos emitidos. No considerar residentes en el extranjero. Debe concatenar las tablas en DataFrame y exportarlo en Excel con el siguiente nombre onpe_congreso_grupo_(numero de grupo).xls"
   ]
  },
  {
   "cell_type": "code",
   "execution_count": 43,
   "id": "2db0977b",
   "metadata": {},
   "outputs": [
    {
     "name": "stdout",
     "output_type": "stream",
     "text": [
      "Requirement already satisfied: selenium in c:\\users\\teresa\\anaconda3\\lib\\site-packages (4.2.0)\n",
      "Requirement already satisfied: trio-websocket~=0.9 in c:\\users\\teresa\\anaconda3\\lib\\site-packages (from selenium) (0.9.2)\n",
      "Requirement already satisfied: trio~=0.17 in c:\\users\\teresa\\anaconda3\\lib\\site-packages (from selenium) (0.21.0)\n",
      "Requirement already satisfied: urllib3[secure,socks]~=1.26 in c:\\users\\teresa\\anaconda3\\lib\\site-packages (from selenium) (1.26.7)\n",
      "Requirement already satisfied: attrs>=19.2.0 in c:\\users\\teresa\\anaconda3\\lib\\site-packages (from trio~=0.17->selenium) (21.2.0)\n",
      "Requirement already satisfied: outcome in c:\\users\\teresa\\anaconda3\\lib\\site-packages (from trio~=0.17->selenium) (1.2.0)\n",
      "Requirement already satisfied: cffi>=1.14 in c:\\users\\teresa\\anaconda3\\lib\\site-packages (from trio~=0.17->selenium) (1.14.6)\n",
      "Requirement already satisfied: sortedcontainers in c:\\users\\teresa\\anaconda3\\lib\\site-packages (from trio~=0.17->selenium) (2.4.0)\n",
      "Requirement already satisfied: idna in c:\\users\\teresa\\anaconda3\\lib\\site-packages (from trio~=0.17->selenium) (3.2)\n",
      "Requirement already satisfied: async-generator>=1.9 in c:\\users\\teresa\\anaconda3\\lib\\site-packages (from trio~=0.17->selenium) (1.10)\n",
      "Requirement already satisfied: sniffio in c:\\users\\teresa\\anaconda3\\lib\\site-packages (from trio~=0.17->selenium) (1.2.0)\n",
      "Requirement already satisfied: pycparser in c:\\users\\teresa\\anaconda3\\lib\\site-packages (from cffi>=1.14->trio~=0.17->selenium) (2.20)\n",
      "Requirement already satisfied: wsproto>=0.14 in c:\\users\\teresa\\anaconda3\\lib\\site-packages (from trio-websocket~=0.9->selenium) (1.1.0)\n",
      "Requirement already satisfied: PySocks!=1.5.7,<2.0,>=1.5.6 in c:\\users\\teresa\\anaconda3\\lib\\site-packages (from urllib3[secure,socks]~=1.26->selenium) (1.7.1)\n",
      "Requirement already satisfied: pyOpenSSL>=0.14 in c:\\users\\teresa\\anaconda3\\lib\\site-packages (from urllib3[secure,socks]~=1.26->selenium) (21.0.0)\n",
      "Requirement already satisfied: cryptography>=1.3.4 in c:\\users\\teresa\\anaconda3\\lib\\site-packages (from urllib3[secure,socks]~=1.26->selenium) (3.4.8)\n",
      "Requirement already satisfied: certifi in c:\\users\\teresa\\anaconda3\\lib\\site-packages (from urllib3[secure,socks]~=1.26->selenium) (2021.10.8)\n",
      "Requirement already satisfied: six>=1.5.2 in c:\\users\\teresa\\appdata\\roaming\\python\\python39\\site-packages (from pyOpenSSL>=0.14->urllib3[secure,socks]~=1.26->selenium) (1.15.0)\n",
      "Requirement already satisfied: h11<1,>=0.9.0 in c:\\users\\teresa\\anaconda3\\lib\\site-packages (from wsproto>=0.14->trio-websocket~=0.9->selenium) (0.13.0)\n",
      "Requirement already satisfied: webdriver-manager in c:\\users\\teresa\\anaconda3\\lib\\site-packages (3.7.0)\n",
      "Requirement already satisfied: requests in c:\\users\\teresa\\anaconda3\\lib\\site-packages (from webdriver-manager) (2.26.0)\n",
      "Requirement already satisfied: python-dotenv in c:\\users\\teresa\\anaconda3\\lib\\site-packages (from webdriver-manager) (0.20.0)\n",
      "Requirement already satisfied: urllib3<1.27,>=1.21.1 in c:\\users\\teresa\\anaconda3\\lib\\site-packages (from requests->webdriver-manager) (1.26.7)\n",
      "Requirement already satisfied: charset-normalizer~=2.0.0 in c:\\users\\teresa\\anaconda3\\lib\\site-packages (from requests->webdriver-manager) (2.0.4)\n",
      "Requirement already satisfied: certifi>=2017.4.17 in c:\\users\\teresa\\anaconda3\\lib\\site-packages (from requests->webdriver-manager) (2021.10.8)\n",
      "Requirement already satisfied: idna<4,>=2.5 in c:\\users\\teresa\\anaconda3\\lib\\site-packages (from requests->webdriver-manager) (3.2)\n",
      "Requirement already satisfied: lxml in c:\\users\\teresa\\anaconda3\\lib\\site-packages (4.6.3)\n"
     ]
    },
    {
     "name": "stderr",
     "output_type": "stream",
     "text": [
      "ERROR: Could not find a version that satisfies the requirement lxmunidecodel (from versions: none)\n",
      "ERROR: No matching distribution found for lxmunidecodel\n"
     ]
    }
   ],
   "source": [
    "#!pip install selenium\n",
    "#!pip install webdriver-manager\n",
    "#!pip install lxml\n",
    "#!pip install lxmunidecodel"
   ]
  },
  {
   "cell_type": "code",
   "execution_count": null,
   "id": "515d0b6b",
   "metadata": {},
   "outputs": [],
   "source": []
  },
  {
   "cell_type": "code",
   "execution_count": 34,
   "id": "5e9f73c7",
   "metadata": {},
   "outputs": [],
   "source": [
    "from selenium import webdriver\n",
    "from webdriver_manager.chrome import ChromeDriverManager"
   ]
  },
  {
   "cell_type": "code",
   "execution_count": 35,
   "id": "08a1c8b1",
   "metadata": {},
   "outputs": [],
   "source": [
    "from selenium.webdriver.common.by import By\n",
    "from selenium.webdriver.common.keys import Keys\n",
    "from selenium.common.exceptions import NoSuchElementException\n",
    "from selenium.webdriver import ActionChains\n",
    "import pandas as pd\n",
    "import numpy as np\n",
    "import os\n",
    "import sys\n",
    "import time\n",
    "import re\n",
    "import unidecode \n",
    "from selenium.webdriver.support.ui import Select"
   ]
  },
  {
   "cell_type": "code",
   "execution_count": 88,
   "id": "ace115c3",
   "metadata": {
    "scrolled": true
   },
   "outputs": [
    {
     "name": "stdout",
     "output_type": "stream",
     "text": [
      "\n"
     ]
    },
    {
     "name": "stderr",
     "output_type": "stream",
     "text": [
      "[WDM] - ====== WebDriver manager ======\n",
      "[WDM] - Current google-chrome version is 102.0.5005\n",
      "[WDM] - Get LATEST chromedriver version for 102.0.5005 google-chrome\n",
      "[WDM] - Driver [C:\\Users\\teresa\\.wdm\\drivers\\chromedriver\\win32\\102.0.5005.61\\chromedriver.exe] found in cache\n",
      "<ipython-input-88-bc84ad8dbfb8>:1: DeprecationWarning: executable_path has been deprecated, please pass in a Service object\n",
      "  driver = webdriver.Chrome( ChromeDriverManager().install() )\n"
     ]
    }
   ],
   "source": [
    "driver = webdriver.Chrome( ChromeDriverManager().install() )\n",
    "driver.maximize_window()\n",
    "\n",
    "driver.get( 'https://resultadoshistorico.onpe.gob.pe/EG2021/' )"
   ]
  },
  {
   "cell_type": "code",
   "execution_count": 89,
   "id": "bca2c96c",
   "metadata": {
    "scrolled": true
   },
   "outputs": [
    {
     "name": "stderr",
     "output_type": "stream",
     "text": [
      "<ipython-input-89-ce38594a3f92>:1: DeprecationWarning: find_element_by_xpath is deprecated. Please use find_element(by=By.XPATH, value=xpath) instead\n",
      "  congresal = driver.find_element_by_xpath('/html/body/onpe-root/onpe-home-onpe/div[1]/div/div/div/div[2]/div[3]/div/div/a/div[2]')\n"
     ]
    }
   ],
   "source": [
    "congresal = driver.find_element_by_xpath('/html/body/onpe-root/onpe-home-onpe/div[1]/div/div/div/div[2]/div[3]/div/div/a/div[2]')\n",
    "congresal.click()"
   ]
  },
  {
   "cell_type": "code",
   "execution_count": 90,
   "id": "561891ce",
   "metadata": {},
   "outputs": [],
   "source": [
    "all_tables = {}"
   ]
  },
  {
   "cell_type": "code",
   "execution_count": null,
   "id": "e8dfd57b",
   "metadata": {},
   "outputs": [],
   "source": []
  },
  {
   "cell_type": "code",
   "execution_count": 97,
   "id": "664ced91",
   "metadata": {},
   "outputs": [
    {
     "name": "stderr",
     "output_type": "stream",
     "text": [
      "<ipython-input-97-3dad0b472e28>:3: DeprecationWarning: find_element_by_* commands are deprecated. Please use find_element() instead\n",
      "  dpt = Select( driver.find_element_by_id( \"select_departamento\" ) )\n"
     ]
    },
    {
     "name": "stdout",
     "output_type": "stream",
     "text": [
      "AMAZONAS\n"
     ]
    },
    {
     "name": "stderr",
     "output_type": "stream",
     "text": [
      "<ipython-input-97-3dad0b472e28>:11: DeprecationWarning: find_element_by_* commands are deprecated. Please use find_element() instead\n",
      "  table_path = driver.find_element_by_id('table1')\n"
     ]
    },
    {
     "name": "stdout",
     "output_type": "stream",
     "text": [
      "ANCASH\n",
      "APURIMAC\n",
      "AREQUIPA\n",
      "AYACUCHO\n",
      "CAJAMARCA\n",
      "CALLAO\n",
      "CUSCO\n",
      "HUANCAVELICA\n",
      "HUANUCO\n",
      "ICA\n",
      "JUNIN\n",
      "LA LIBERTAD\n",
      "LAMBAYEQUE\n",
      "LIMA\n",
      "LIMA PROVINCIAS\n",
      "LORETO\n",
      "MADRE DE DIOS\n",
      "MOQUEGUA\n",
      "PASCO\n",
      "PIURA\n",
      "PUNO\n",
      "SAN MARTIN\n",
      "TACNA\n",
      "TUMBES\n",
      "UCAYALI\n"
     ]
    }
   ],
   "source": [
    "for index in range(26):\n",
    "    \n",
    "    dpt = Select( driver.find_element_by_id( \"select_departamento\" ) )  \n",
    "    departamento = dpt.options[ index ]\n",
    "    \n",
    "    dpt_name = departamento.text # nombre del departamento\n",
    "    print(dpt_name)\n",
    "    departamento.click()\n",
    "    \n",
    "    # tabla y html\n",
    "    table_path = driver.find_element_by_id('table1')\n",
    "    table_html = table_path.get_attribute('outerHTML')\n",
    "    table = pd.read_html( table_html ) \n",
    "                                           \n",
    "    all_tables[ ubigeo ] = table_clean"
   ]
  },
  {
   "cell_type": "code",
   "execution_count": 98,
   "id": "4c1ad9c3",
   "metadata": {
    "scrolled": true
   },
   "outputs": [
    {
     "data": {
      "text/html": [
       "<div>\n",
       "<style scoped>\n",
       "    .dataframe tbody tr th:only-of-type {\n",
       "        vertical-align: middle;\n",
       "    }\n",
       "\n",
       "    .dataframe tbody tr th {\n",
       "        vertical-align: top;\n",
       "    }\n",
       "\n",
       "    .dataframe thead th {\n",
       "        text-align: right;\n",
       "    }\n",
       "</style>\n",
       "<table border=\"1\" class=\"dataframe\">\n",
       "  <thead>\n",
       "    <tr style=\"text-align: right;\">\n",
       "      <th></th>\n",
       "      <th>organizaciones_políticas</th>\n",
       "      <th>total</th>\n",
       "      <th>share_válidos</th>\n",
       "      <th>share_emitidos</th>\n",
       "      <th>departamento</th>\n",
       "      <th>ubigeo</th>\n",
       "    </tr>\n",
       "  </thead>\n",
       "  <tbody>\n",
       "    <tr>\n",
       "      <th>0</th>\n",
       "      <td>FRENTE POPULAR AGRICOLA FIA DEL PERU - FREPAP</td>\n",
       "      <td>9967</td>\n",
       "      <td>5.802%</td>\n",
       "      <td>3.857%</td>\n",
       "      <td>UCAYALI</td>\n",
       "      <td>D44026</td>\n",
       "    </tr>\n",
       "    <tr>\n",
       "      <th>1</th>\n",
       "      <td>PARTIDO NACIONALISTA PERUANO</td>\n",
       "      <td>2644</td>\n",
       "      <td>1.539%</td>\n",
       "      <td>1.023%</td>\n",
       "      <td>UCAYALI</td>\n",
       "      <td>D44026</td>\n",
       "    </tr>\n",
       "    <tr>\n",
       "      <th>2</th>\n",
       "      <td>PARTIDO MORADO</td>\n",
       "      <td>3672</td>\n",
       "      <td>2.138%</td>\n",
       "      <td>1.421%</td>\n",
       "      <td>UCAYALI</td>\n",
       "      <td>D44026</td>\n",
       "    </tr>\n",
       "    <tr>\n",
       "      <th>3</th>\n",
       "      <td>VICTORIA NACIONAL</td>\n",
       "      <td>9957</td>\n",
       "      <td>5.797%</td>\n",
       "      <td>3.853%</td>\n",
       "      <td>UCAYALI</td>\n",
       "      <td>D44026</td>\n",
       "    </tr>\n",
       "    <tr>\n",
       "      <th>4</th>\n",
       "      <td>ACCION POPULAR</td>\n",
       "      <td>20274</td>\n",
       "      <td>11.803%</td>\n",
       "      <td>7.846%</td>\n",
       "      <td>UCAYALI</td>\n",
       "      <td>D44026</td>\n",
       "    </tr>\n",
       "    <tr>\n",
       "      <th>5</th>\n",
       "      <td>PODEMOS PERU</td>\n",
       "      <td>15619</td>\n",
       "      <td>9.093%</td>\n",
       "      <td>6.045%</td>\n",
       "      <td>UCAYALI</td>\n",
       "      <td>D44026</td>\n",
       "    </tr>\n",
       "    <tr>\n",
       "      <th>6</th>\n",
       "      <td>JUNTOS POR EL PERU</td>\n",
       "      <td>13665</td>\n",
       "      <td>7.955%</td>\n",
       "      <td>5.288%</td>\n",
       "      <td>UCAYALI</td>\n",
       "      <td>D44026</td>\n",
       "    </tr>\n",
       "    <tr>\n",
       "      <th>7</th>\n",
       "      <td>PARTIDO POPULAR CRISTIANO - PPC</td>\n",
       "      <td>3808</td>\n",
       "      <td>2.217%</td>\n",
       "      <td>1.474%</td>\n",
       "      <td>UCAYALI</td>\n",
       "      <td>D44026</td>\n",
       "    </tr>\n",
       "    <tr>\n",
       "      <th>8</th>\n",
       "      <td>FUERZA POPULAR</td>\n",
       "      <td>30098</td>\n",
       "      <td>17.522%</td>\n",
       "      <td>11.648%</td>\n",
       "      <td>UCAYALI</td>\n",
       "      <td>D44026</td>\n",
       "    </tr>\n",
       "    <tr>\n",
       "      <th>9</th>\n",
       "      <td>UNION POR EL PERU</td>\n",
       "      <td>8389</td>\n",
       "      <td>4.884%</td>\n",
       "      <td>3.247%</td>\n",
       "      <td>UCAYALI</td>\n",
       "      <td>D44026</td>\n",
       "    </tr>\n",
       "    <tr>\n",
       "      <th>10</th>\n",
       "      <td>RENOVACION POPULAR</td>\n",
       "      <td>9623</td>\n",
       "      <td>5.602%</td>\n",
       "      <td>3.724%</td>\n",
       "      <td>UCAYALI</td>\n",
       "      <td>D44026</td>\n",
       "    </tr>\n",
       "    <tr>\n",
       "      <th>11</th>\n",
       "      <td>RENACIMIENTO UNIDO NACIONAL</td>\n",
       "      <td>1112</td>\n",
       "      <td>0.647%</td>\n",
       "      <td>0.430%</td>\n",
       "      <td>UCAYALI</td>\n",
       "      <td>D44026</td>\n",
       "    </tr>\n",
       "    <tr>\n",
       "      <th>12</th>\n",
       "      <td>PARTIDO DEMOCRATICO SOMOS PERU</td>\n",
       "      <td>7906</td>\n",
       "      <td>4.603%</td>\n",
       "      <td>3.060%</td>\n",
       "      <td>UCAYALI</td>\n",
       "      <td>D44026</td>\n",
       "    </tr>\n",
       "    <tr>\n",
       "      <th>13</th>\n",
       "      <td>PARTIDO POLITICO NACIONAL PERU LIBRE</td>\n",
       "      <td>17850</td>\n",
       "      <td>10.392%</td>\n",
       "      <td>6.908%</td>\n",
       "      <td>UCAYALI</td>\n",
       "      <td>D44026</td>\n",
       "    </tr>\n",
       "    <tr>\n",
       "      <th>14</th>\n",
       "      <td>ALIANZA PARA EL PROGRESO</td>\n",
       "      <td>17190</td>\n",
       "      <td>10.007%</td>\n",
       "      <td>6.653%</td>\n",
       "      <td>UCAYALI</td>\n",
       "      <td>D44026</td>\n",
       "    </tr>\n",
       "    <tr>\n",
       "      <th>15</th>\n",
       "      <td>TOTAL DE VOTOS VÁLIDOS</td>\n",
       "      <td>171774</td>\n",
       "      <td>100.000%</td>\n",
       "      <td>66.478%</td>\n",
       "      <td>UCAYALI</td>\n",
       "      <td>D44026</td>\n",
       "    </tr>\n",
       "    <tr>\n",
       "      <th>16</th>\n",
       "      <td>VOTOS BLANCOS</td>\n",
       "      <td>37820</td>\n",
       "      <td>NaN</td>\n",
       "      <td>14.637%</td>\n",
       "      <td>UCAYALI</td>\n",
       "      <td>D44026</td>\n",
       "    </tr>\n",
       "    <tr>\n",
       "      <th>17</th>\n",
       "      <td>VOTOS NULOS</td>\n",
       "      <td>48800</td>\n",
       "      <td>NaN</td>\n",
       "      <td>18.886%</td>\n",
       "      <td>UCAYALI</td>\n",
       "      <td>D44026</td>\n",
       "    </tr>\n",
       "    <tr>\n",
       "      <th>18</th>\n",
       "      <td>TOTAL DE VOTOS EMITIDOS</td>\n",
       "      <td>258394</td>\n",
       "      <td>NaN</td>\n",
       "      <td>100.000%</td>\n",
       "      <td>UCAYALI</td>\n",
       "      <td>D44026</td>\n",
       "    </tr>\n",
       "  </tbody>\n",
       "</table>\n",
       "</div>"
      ],
      "text/plain": [
       "                         organizaciones_políticas   total share_válidos  \\\n",
       "0   FRENTE POPULAR AGRICOLA FIA DEL PERU - FREPAP    9967        5.802%   \n",
       "1                    PARTIDO NACIONALISTA PERUANO    2644        1.539%   \n",
       "2                                  PARTIDO MORADO    3672        2.138%   \n",
       "3                               VICTORIA NACIONAL    9957        5.797%   \n",
       "4                                  ACCION POPULAR   20274       11.803%   \n",
       "5                                    PODEMOS PERU   15619        9.093%   \n",
       "6                              JUNTOS POR EL PERU   13665        7.955%   \n",
       "7                 PARTIDO POPULAR CRISTIANO - PPC    3808        2.217%   \n",
       "8                                  FUERZA POPULAR   30098       17.522%   \n",
       "9                               UNION POR EL PERU    8389        4.884%   \n",
       "10                             RENOVACION POPULAR    9623        5.602%   \n",
       "11                    RENACIMIENTO UNIDO NACIONAL    1112        0.647%   \n",
       "12                 PARTIDO DEMOCRATICO SOMOS PERU    7906        4.603%   \n",
       "13           PARTIDO POLITICO NACIONAL PERU LIBRE   17850       10.392%   \n",
       "14                       ALIANZA PARA EL PROGRESO   17190       10.007%   \n",
       "15                         TOTAL DE VOTOS VÁLIDOS  171774      100.000%   \n",
       "16                                  VOTOS BLANCOS   37820           NaN   \n",
       "17                                    VOTOS NULOS   48800           NaN   \n",
       "18                        TOTAL DE VOTOS EMITIDOS  258394           NaN   \n",
       "\n",
       "   share_emitidos departamento  ubigeo  \n",
       "0          3.857%      UCAYALI  D44026  \n",
       "1          1.023%      UCAYALI  D44026  \n",
       "2          1.421%      UCAYALI  D44026  \n",
       "3          3.853%      UCAYALI  D44026  \n",
       "4          7.846%      UCAYALI  D44026  \n",
       "5          6.045%      UCAYALI  D44026  \n",
       "6          5.288%      UCAYALI  D44026  \n",
       "7          1.474%      UCAYALI  D44026  \n",
       "8         11.648%      UCAYALI  D44026  \n",
       "9          3.247%      UCAYALI  D44026  \n",
       "10         3.724%      UCAYALI  D44026  \n",
       "11         0.430%      UCAYALI  D44026  \n",
       "12         3.060%      UCAYALI  D44026  \n",
       "13         6.908%      UCAYALI  D44026  \n",
       "14         6.653%      UCAYALI  D44026  \n",
       "15        66.478%      UCAYALI  D44026  \n",
       "16        14.637%      UCAYALI  D44026  \n",
       "17        18.886%      UCAYALI  D44026  \n",
       "18       100.000%      UCAYALI  D44026  "
      ]
     },
     "execution_count": 98,
     "metadata": {},
     "output_type": "execute_result"
    }
   ],
   "source": [
    "votos = pd.concat( all_tables.values() ).reset_index( drop = True )\n",
    "votos"
   ]
  },
  {
   "cell_type": "code",
   "execution_count": 49,
   "id": "5a3f2c56",
   "metadata": {},
   "outputs": [],
   "source": [
    "votos.to_excel( r'onpe_congreso_grupo_5.xlsx' , index = False )"
   ]
  },
  {
   "cell_type": "code",
   "execution_count": 51,
   "id": "fe5def38",
   "metadata": {},
   "outputs": [],
   "source": [
    "driver.close() "
   ]
  },
  {
   "cell_type": "code",
   "execution_count": null,
   "id": "d9042f70",
   "metadata": {},
   "outputs": [],
   "source": []
  }
 ],
 "metadata": {
  "kernelspec": {
   "display_name": "Python 3 (ipykernel)",
   "language": "python",
   "name": "python3"
  },
  "language_info": {
   "codemirror_mode": {
    "name": "ipython",
    "version": 3
   },
   "file_extension": ".py",
   "mimetype": "text/x-python",
   "name": "python",
   "nbconvert_exporter": "python",
   "pygments_lexer": "ipython3",
   "version": "3.9.7"
  }
 },
 "nbformat": 4,
 "nbformat_minor": 5
}
