{
 "cells": [
  {
   "cell_type": "markdown",
   "id": "63dd6206",
   "metadata": {},
   "source": [
    "## A Crash Course in Good and Bad Controls"
   ]
  },
  {
   "cell_type": "markdown",
   "id": "7a379a24",
   "metadata": {},
   "source": [
    "### Group_2"
   ]
  },
  {
   "cell_type": "code",
   "execution_count": 14,
   "id": "6c9497db",
   "metadata": {},
   "outputs": [],
   "source": [
    "import pandas as pd\n",
    "import numpy as np\n",
    "import random\n",
    "import statsmodels.api as sm\n",
    "import matplotlib.pyplot as plt\n",
    "from matplotlib import colors\n",
    "import math\n",
    "\n",
    "# for OLS\n",
    "\n",
    "import statsmodels.formula.api as smf\n",
    "from statsmodels.iolib.summary2 import summary_col\n",
    "!pip install causalgraphicalmodels"
   ]
  },
  {
   "cell_type": "markdown",
   "id": "03b0df57",
   "metadata": {},
   "source": [
    "Z will represent the variable whose inclusion in the regression equation is to be decided, with\n",
    "“good control” standing for bias reduction, “bad control” standing for bias increase, and\n",
    "“neutral control” when the addition of Z neither increases nor decreases the asymptotic\n",
    "bias."
   ]
  },
  {
   "cell_type": "code",
   "execution_count": 18,
   "id": "71443746",
   "metadata": {},
   "outputs": [],
   "source": [
    "import pandas as pd\n",
    "import numpy as np\n",
    "import random\n",
    "import math\n",
    "import sklearn\n",
    "import scipy as sp\n",
    "import networkx\n",
    "import matplotlib\n",
    "import statsmodels.api as sm\n",
    "import statsmodels.formula.api as smf\n",
    "from statsmodels.iolib.summary2 import summary_col\n",
    "import sympy\n",
    "# import dowhy as dw\n",
    "from causalgraphicalmodels import CausalGraphicalModel"
   ]
  },
  {
   "cell_type": "markdown",
   "id": "2a73742a",
   "metadata": {},
   "source": [
    "### Model 1"
   ]
  },
  {
   "cell_type": "code",
   "execution_count": 6,
   "id": "5524950a",
   "metadata": {},
   "outputs": [],
   "source": [
    "# Set seed\n",
    "\n",
    "np.random.seed(123456)\n",
    "\n",
    "n = 1000     # sample size\n",
    "Z = np.random.normal(0,1,1000).reshape(1000,1)\n",
    "X = Z + np.random.normal(0,1,1000).reshape(1000,1)\n",
    "Y = X + Z + np.random.normal(0,1,1000).reshape(1000,1)\n",
    "\n",
    "# DataFrame\n",
    "\n",
    "D = np.hstack((Z, X, Y))\n",
    "data = pd.DataFrame(D, columns = [\"Z\", \"X\", \"Y\"])\n"
   ]
  },
  {
   "cell_type": "code",
   "execution_count": 7,
   "id": "f2d978d9",
   "metadata": {},
   "outputs": [
    {
     "name": "stdout",
     "output_type": "stream",
     "text": [
      "\n",
      "==================================\n",
      "                  Y I       Y II  \n",
      "----------------------------------\n",
      "Intercept      -0.0252   0.0046   \n",
      "               (0.0396)  (0.0320) \n",
      "R-squared      0.7555    0.8406   \n",
      "R-squared Adj. 0.7552    0.8402   \n",
      "X              1.5070*** 0.9697***\n",
      "               (0.0271)  (0.0320) \n",
      "Z                        1.0314***\n",
      "                         (0.0447) \n",
      "==================================\n",
      "Standard errors in parentheses.\n",
      "* p<.1, ** p<.05, ***p<.01\n"
     ]
    }
   ],
   "source": [
    "# Regressions\n",
    "no_control = \"Y ~ X\"\n",
    "control = \"Y ~ X + Z\"\n",
    "\n",
    "no_control = smf.ols(no_control, data= data).fit()\n",
    "control = smf.ols(control, data=data).fit()\n",
    "\n",
    "# Summary\n",
    "\n",
    "model_1 = summary_col([no_control, control], stars = True)\n",
    "print(model_1)"
   ]
  },
  {
   "cell_type": "code",
   "execution_count": null,
   "id": "3031862b",
   "metadata": {},
   "outputs": [],
   "source": [
    "sprinkler1 = CausalGraphicalModel(nodes=[\"Z\",\"Y\",\"X\"],\n",
    "                                 edges=[(\"Z\",\"Y\"),\n",
    "                                        (\"Z\",\"X\"),\n",
    "                                        (\"X\",\"Y\")])\n",
    "sprinkler1.draw()"
   ]
  },
  {
   "cell_type": "markdown",
   "id": "e9b824b6",
   "metadata": {},
   "source": [
    "In Model 1, Z stands for a common cause of both X and Y . Once we control for Z,\n",
    "we block the back-door path from X to Y , producing an unbiased estimate of the ACE."
   ]
  },
  {
   "cell_type": "markdown",
   "id": "00617bef",
   "metadata": {},
   "source": [
    "### Model 2"
   ]
  },
  {
   "cell_type": "code",
   "execution_count": 8,
   "id": "df50eae9",
   "metadata": {},
   "outputs": [],
   "source": [
    "# Set seed\n",
    "\n",
    "np.random.seed(123456)\n",
    "\n",
    "n = 1000     # sample size\n",
    "U = np.random.normal(0,1,1000).reshape(1000,1)\n",
    "Z = U + np.random.normal(0,1,1000).reshape(1000,1)\n",
    "X = Z + np.random.normal(0,1,1000).reshape(1000,1)\n",
    "Y = X + Z + U + np.random.normal(0,1,1000).reshape(1000,1)\n",
    "\n",
    "# DataFrame\n",
    "\n",
    "D = np.hstack((U, Z, X, Y))\n",
    "data = pd.DataFrame(D, columns = [\"U\", \"Z\", \"X\", \"Y\"])"
   ]
  },
  {
   "cell_type": "code",
   "execution_count": 9,
   "id": "fd53e537",
   "metadata": {},
   "outputs": [
    {
     "name": "stdout",
     "output_type": "stream",
     "text": [
      "\n",
      "==================================\n",
      "                  Y I       Y II  \n",
      "----------------------------------\n",
      "Intercept      -0.0197   0.0001   \n",
      "               (0.0553)  (0.0389) \n",
      "R-squared      0.8054    0.9039   \n",
      "R-squared Adj. 0.8052    0.9037   \n",
      "X              2.0205*** 1.0143***\n",
      "               (0.0314)  (0.0385) \n",
      "Z                        1.4814***\n",
      "                         (0.0463) \n",
      "==================================\n",
      "Standard errors in parentheses.\n",
      "* p<.1, ** p<.05, ***p<.01\n"
     ]
    }
   ],
   "source": [
    "# Regressions\n",
    "no_control = \"Y ~ X\"\n",
    "control = \"Y ~ X + Z\"\n",
    "\n",
    "no_control = smf.ols(no_control, data= data).fit()\n",
    "control = smf.ols(control, data=data).fit()\n",
    "\n",
    "# Summary\n",
    "\n",
    "model_2 = summary_col([no_control, control], stars = True)\n",
    "print(model_2)"
   ]
  },
  {
   "cell_type": "markdown",
   "id": "704d3928",
   "metadata": {},
   "source": [
    "Z is not a common cause of both X and Y , and therefore, not a traditional\n",
    "“confounder” as in Model 1. Nevertheless, controlling for Z blocks the back-door path from\n",
    "X to Y due to the unobserved confounder U. Controling for Z produces an unbiased estimate of\n",
    "the ACE."
   ]
  },
  {
   "cell_type": "code",
   "execution_count": null,
   "id": "5a3f645e",
   "metadata": {},
   "outputs": [],
   "source": [
    "sprinkler2 = CausalGraphicalModel(nodes=[\"U\",\"Z\",\"Y\",\"X\"],\n",
    "                                 edges=[(\"U\",\"Z\"),\n",
    "                                        (\"Z\",\"X\"),\n",
    "                                        (\"U\",\"Y\"),\n",
    "                                        (\"X\",\"Y\")])\n",
    "sprinkler2.draw()"
   ]
  },
  {
   "cell_type": "markdown",
   "id": "e37e8cfe",
   "metadata": {},
   "source": [
    "### Model_3"
   ]
  },
  {
   "cell_type": "code",
   "execution_count": 10,
   "id": "d8a00845",
   "metadata": {},
   "outputs": [],
   "source": [
    "# Set seed\n",
    "\n",
    "np.random.seed(123456)\n",
    "\n",
    "n = 1000     # sample size\n",
    "U = np.random.normal(0,1,1000).reshape(1000,1)\n",
    "Z = U + np.random.normal(0,1,1000).reshape(1000,1)\n",
    "X = U + np.random.normal(0,1,1000).reshape(1000,1)\n",
    "Y = X + Z + np.random.normal(0,1,1000).reshape(1000,1)\n",
    "\n",
    "# DataFrame\n",
    "\n",
    "D = np.hstack((U, Z, X, Y))\n",
    "data = pd.DataFrame(D, columns = [\"U\", \"Z\", \"X\", \"Y\"])"
   ]
  },
  {
   "cell_type": "code",
   "execution_count": 11,
   "id": "c2b6b488",
   "metadata": {},
   "outputs": [
    {
     "name": "stdout",
     "output_type": "stream",
     "text": [
      "\n",
      "==================================\n",
      "                  Y I       Y II  \n",
      "----------------------------------\n",
      "Intercept      0.0174    0.0288   \n",
      "               (0.0505)  (0.0321) \n",
      "R-squared      0.6480    0.8578   \n",
      "R-squared Adj. 0.6477    0.8575   \n",
      "X              1.4894*** 0.9883***\n",
      "               (0.0347)  (0.0257) \n",
      "Z                        0.9806***\n",
      "                         (0.0256) \n",
      "==================================\n",
      "Standard errors in parentheses.\n",
      "* p<.1, ** p<.05, ***p<.01\n"
     ]
    }
   ],
   "source": [
    "# Regressions\n",
    "no_control = \"Y ~ X\"\n",
    "control = \"Y ~ X + Z\"\n",
    "\n",
    "no_control = smf.ols(no_control, data= data).fit()\n",
    "control = smf.ols(control, data=data).fit()\n",
    "\n",
    "# Summary\n",
    "\n",
    "model_3 = summary_col([no_control, control], stars = True)\n",
    "print(model_3)"
   ]
  },
  {
   "cell_type": "markdown",
   "id": "56d40811",
   "metadata": {},
   "source": [
    "Model_3 is analogous for Model_2. Z is not a common couse for both X and Y. Controlling for Z block the back-door path. \n",
    "Controling for Z produces an unbiased estimate of the ACE."
   ]
  },
  {
   "cell_type": "code",
   "execution_count": null,
   "id": "3c1eb18a",
   "metadata": {},
   "outputs": [],
   "source": [
    "sprinkler3 = CausalGraphicalModel(nodes=[\"U\",\"Z\",\"Y\",\"X\"],\n",
    "                                 edges=[(\"U\",\"Z\"),\n",
    "                                        (\"Z\",\"Y\"),\n",
    "                                        (\"U\",\"X\"),\n",
    "                                        (\"X\",\"Y\")])\n",
    "sprinkler3.draw()"
   ]
  },
  {
   "cell_type": "markdown",
   "id": "f912c204",
   "metadata": {},
   "source": [
    "### Model_4"
   ]
  },
  {
   "cell_type": "code",
   "execution_count": 12,
   "id": "253f3648",
   "metadata": {},
   "outputs": [],
   "source": [
    "# Set seed\n",
    "\n",
    "np.random.seed(123456)\n",
    "\n",
    "n = 1000     # sample size\n",
    "Z = np.random.normal(0,1,1000).reshape(1000,1)\n",
    "X = Z + np.random.normal(0,1,1000).reshape(1000,1)\n",
    "M = Z + X + np.random.normal(0,1,1000).reshape(1000,1)\n",
    "Y = M + np.random.normal(0,1,1000).reshape(1000,1)\n",
    "\n",
    "# DataFrame\n",
    "\n",
    "D = np.hstack((M, Z, X, Y))\n",
    "data = pd.DataFrame(D, columns = [\"M\", \"Z\", \"X\", \"Y\"])"
   ]
  },
  {
   "cell_type": "code",
   "execution_count": 13,
   "id": "190c6878",
   "metadata": {},
   "outputs": [
    {
     "name": "stdout",
     "output_type": "stream",
     "text": [
      "\n",
      "==================================\n",
      "                  Y I       Y II  \n",
      "----------------------------------\n",
      "Intercept      0.0038    0.0327   \n",
      "               (0.0506)  (0.0453) \n",
      "R-squared      0.6464    0.7170   \n",
      "R-squared Adj. 0.6461    0.7164   \n",
      "X              1.4816*** 0.9617***\n",
      "               (0.0347)  (0.0453) \n",
      "Z                        0.9983***\n",
      "                         (0.0633) \n",
      "==================================\n",
      "Standard errors in parentheses.\n",
      "* p<.1, ** p<.05, ***p<.01\n"
     ]
    }
   ],
   "source": [
    "# Regressions\n",
    "no_control = \"Y ~ X\"\n",
    "control = \"Y ~ X + Z\"\n",
    "\n",
    "no_control = smf.ols(no_control, data= data).fit()\n",
    "control = smf.ols(control, data=data).fit()\n",
    "\n",
    "# Summary\n",
    "\n",
    "model_4 = summary_col([no_control, control], stars = True)\n",
    "print(model_4)"
   ]
  },
  {
   "cell_type": "markdown",
   "id": "64ea4c92",
   "metadata": {},
   "source": [
    "Common causes of X and any mediator(M) (between X and Y ) also confound the effect of X on Y .Controling for Z blocks the \n",
    "back-door path from X to Y and produces an unbiased estimate of the ACE."
   ]
  },
  {
   "cell_type": "code",
   "execution_count": null,
   "id": "07447d72",
   "metadata": {},
   "outputs": [],
   "source": [
    "sprinkle4r = CausalGraphicalModel(nodes=[\"M\",\"Z\",\"Y\",\"X\"],\n",
    "                                 edges=[(\"Z\",\"X\"),\n",
    "                                        (\"Z\",\"M\"),\n",
    "                                        (\"M\",\"Y\")])\n",
    "sprinkler4.draw()"
   ]
  },
  {
   "cell_type": "markdown",
   "id": "6117bcfe",
   "metadata": {},
   "source": [
    "### Model_5"
   ]
  },
  {
   "cell_type": "code",
   "execution_count": 14,
   "id": "fff73c35",
   "metadata": {},
   "outputs": [],
   "source": [
    "# Set seed\n",
    "\n",
    "np.random.seed(123456)\n",
    "\n",
    "n = 1000     # sample size\n",
    "U = np.random.normal(0,1,1000).reshape(1000,1)\n",
    "Z = U + np.random.normal(0,1,1000).reshape(1000,1)\n",
    "X = Z + np.random.normal(0,1,1000).reshape(1000,1)\n",
    "M = U + X + np.random.normal(0,1,1000).reshape(1000,1)\n",
    "Y = M + np.random.normal(0,1,1000).reshape(1000,1)\n",
    "\n",
    "# DataFrame\n",
    "\n",
    "D = np.hstack((M, U, Z, X, Y))\n",
    "data = pd.DataFrame(D, columns = [\"M\", \"U\", \"Z\", \"X\", \"Y\"])"
   ]
  },
  {
   "cell_type": "code",
   "execution_count": 15,
   "id": "a63f5b99",
   "metadata": {},
   "outputs": [
    {
     "name": "stdout",
     "output_type": "stream",
     "text": [
      "\n",
      "==================================\n",
      "                  Y I       Y II  \n",
      "----------------------------------\n",
      "Intercept      -0.0298   -0.0234  \n",
      "               (0.0503)  (0.0487) \n",
      "R-squared      0.6874    0.7074   \n",
      "R-squared Adj. 0.6871    0.7068   \n",
      "X              1.3392*** 1.0137***\n",
      "               (0.0286)  (0.0481) \n",
      "Z                        0.4792***\n",
      "                         (0.0580) \n",
      "==================================\n",
      "Standard errors in parentheses.\n",
      "* p<.1, ** p<.05, ***p<.01\n"
     ]
    }
   ],
   "source": [
    "# Regressions\n",
    "no_control = \"Y ~ X\"\n",
    "control = \"Y ~ X + Z\"\n",
    "\n",
    "no_control = smf.ols(no_control, data= data).fit()\n",
    "control = smf.ols(control, data=data).fit()\n",
    "\n",
    "# Summary\n",
    "\n",
    "model_5 = summary_col([no_control, control], stars = True)\n",
    "print(model_5)"
   ]
  },
  {
   "cell_type": "markdown",
   "id": "0c5d39cf",
   "metadata": {},
   "source": [
    "Z is not a common cause of both X,  Y or the Mediator. Controlling for Z produces unbiased ACE."
   ]
  },
  {
   "cell_type": "code",
   "execution_count": null,
   "id": "8748bdc4",
   "metadata": {},
   "outputs": [],
   "source": [
    "sprinkler5 = CausalGraphicalModel(nodes=[\"M\",\"U\",\"Z\",\"Y\",\"X\"],\n",
    "                                 edges=[(\"U\",\"Z\"),\n",
    "                                        (\"U\",\"M\"),\n",
    "                                        (\"Z\",\"X\"),\n",
    "                                        (\"X\",\"M\"),\n",
    "                                        (\"M\",\"Y\")])\n",
    "sprinkler5.draw()"
   ]
  },
  {
   "cell_type": "markdown",
   "id": "feffbc26",
   "metadata": {},
   "source": [
    "### Model_6"
   ]
  },
  {
   "cell_type": "code",
   "execution_count": 16,
   "id": "93d00665",
   "metadata": {},
   "outputs": [],
   "source": [
    "# Set seed\n",
    "\n",
    "np.random.seed(123456)\n",
    "\n",
    "n = 1000     # sample size\n",
    "U = np.random.normal(0,1,1000).reshape(1000,1)\n",
    "X = U + np.random.normal(0,1,1000).reshape(1000,1)\n",
    "Z = U + np.random.normal(0,1,1000).reshape(1000,1)\n",
    "M = Z + X + np.random.normal(0,1,1000).reshape(1000,1)\n",
    "Y = M + np.random.normal(0,1,1000).reshape(1000,1)\n",
    "\n",
    "# DataFrame\n",
    "\n",
    "D = np.hstack((M, U, Z, X, Y))\n",
    "data = pd.DataFrame(D, columns = [\"M\", \"U\", \"Z\", \"X\", \"Y\"])"
   ]
  },
  {
   "cell_type": "code",
   "execution_count": 17,
   "id": "4158577d",
   "metadata": {},
   "outputs": [
    {
     "name": "stdout",
     "output_type": "stream",
     "text": [
      "\n",
      "==================================\n",
      "                  Y I       Y II  \n",
      "----------------------------------\n",
      "Intercept      -0.0197   0.0050   \n",
      "               (0.0584)  (0.0438) \n",
      "R-squared      0.5773    0.7635   \n",
      "R-squared Adj. 0.5769    0.7630   \n",
      "X              1.4788*** 0.9823***\n",
      "               (0.0401)  (0.0348) \n",
      "Z                        0.9794***\n",
      "                         (0.0350) \n",
      "==================================\n",
      "Standard errors in parentheses.\n",
      "* p<.1, ** p<.05, ***p<.01\n"
     ]
    }
   ],
   "source": [
    "# Regressions\n",
    "no_control = \"Y ~ X\"\n",
    "control = \"Y ~ X + Z\"\n",
    "\n",
    "no_control = smf.ols(no_control, data= data).fit()\n",
    "control = smf.ols(control, data=data).fit()\n",
    "\n",
    "# Summary\n",
    "\n",
    "model_6 = summary_col([no_control, control], stars = True)\n",
    "print(model_6)"
   ]
  },
  {
   "cell_type": "markdown",
   "id": "4f18a309",
   "metadata": {},
   "source": [
    "Analogous case of Model_5. Z is not a common cause of both X and Y. Controling for Z produces unbiased ACE."
   ]
  },
  {
   "cell_type": "code",
   "execution_count": null,
   "id": "8397f3da",
   "metadata": {},
   "outputs": [],
   "source": [
    "sprinkler6 = CausalGraphicalModel(nodes=[\"M\",\"U\",\"Z\",\"Y\",\"X\"],\n",
    "                                 edges=[(\"U\",\"Z\"),\n",
    "                                        (\"Z\",\"M\"),\n",
    "                                        (\"U\",\"X\"),\n",
    "                                        (\"X\",\"M\"), (\"M\",\"Y\")])\n",
    "sprinkler6.draw()"
   ]
  },
  {
   "cell_type": "markdown",
   "id": "ba1a7519",
   "metadata": {},
   "source": [
    "### Model_7"
   ]
  },
  {
   "cell_type": "code",
   "execution_count": 18,
   "id": "3d03e064",
   "metadata": {},
   "outputs": [],
   "source": [
    "# Set seed\n",
    "\n",
    "np.random.seed(123456)\n",
    "\n",
    "n = 1000     # sample size\n",
    "U1 = np.random.normal(0,1,1000).reshape(1000,1)\n",
    "U2 = np.random.normal(0,1,1000).reshape(1000,1)\n",
    "Z = U1 + U2 + np.random.normal(0,1,1000).reshape(1000,1)\n",
    "X = U1 + np.random.normal(0,1,1000).reshape(1000,1)\n",
    "Y = U2 + X +np.random.normal(0,1,1000).reshape(1000,1)\n",
    "\n",
    "# DataFrame\n",
    "\n",
    "D = np.hstack((U1, U2, Z, X, Y))\n",
    "data = pd.DataFrame(D, columns = [\"U1\", \"U2\", \"Z\", \"X\", \"Y\"])"
   ]
  },
  {
   "cell_type": "code",
   "execution_count": 19,
   "id": "d5fb4937",
   "metadata": {},
   "outputs": [
    {
     "name": "stdout",
     "output_type": "stream",
     "text": [
      "\n",
      "==================================\n",
      "                  Y I       Y II  \n",
      "----------------------------------\n",
      "Intercept      -0.0107   -0.0026  \n",
      "               (0.0446)  (0.0399) \n",
      "R-squared      0.4936    0.5956   \n",
      "R-squared Adj. 0.4931    0.5948   \n",
      "X              0.9764*** 0.7702***\n",
      "               (0.0313)  (0.0309) \n",
      "Z                        0.3965***\n",
      "                         (0.0250) \n",
      "==================================\n",
      "Standard errors in parentheses.\n",
      "* p<.1, ** p<.05, ***p<.01\n"
     ]
    }
   ],
   "source": [
    "# Regressions\n",
    "no_control = \"Y ~ X\"\n",
    "control = \"Y ~ X + Z\"\n",
    "\n",
    "no_control = smf.ols(no_control, data= data).fit()\n",
    "control = smf.ols(control, data=data).fit()\n",
    "\n",
    "# Summary\n",
    "\n",
    "model_7 = summary_col([no_control, control], stars = True)\n",
    "print(model_7)"
   ]
  },
  {
   "cell_type": "markdown",
   "id": "a2de07b9",
   "metadata": {},
   "source": [
    "In this case controling for Z causes bias results. Here Z is correlated with the treatment and\n",
    "the outcome and it is also a “pre-treatment” variable. This structure is know as \"M-Bias\" where controlling for Z will induce bias by opening the back-door path X ← U1 → Z ← U2 → Y , thus spoiling a previously unbiased estimate of the ACE. "
   ]
  },
  {
   "cell_type": "code",
   "execution_count": null,
   "id": "8f58f9b9",
   "metadata": {},
   "outputs": [],
   "source": [
    "sprinkler7 = CausalGraphicalModel(nodes=[\"U1\",\"U2\",\"Z\",\"Y\",\"X\"],\n",
    "                                 edges=[(\"U1\",\"Z\"),\n",
    "                                        (\"U2\",\"Z\"),\n",
    "                                        (\"U1\",\"X\"),\n",
    "                                        (\"U2\",\"Y\"), (\"X\",\"Y\")])\n",
    "sprinkler7.draw()"
   ]
  },
  {
   "cell_type": "markdown",
   "id": "ee06b87e",
   "metadata": {},
   "source": [
    "### Model_7 variation"
   ]
  },
  {
   "cell_type": "code",
   "execution_count": 20,
   "id": "67bb5510",
   "metadata": {},
   "outputs": [],
   "source": [
    "# Set seed\n",
    "\n",
    "np.random.seed(123456)\n",
    "\n",
    "n = 1000     # sample size\n",
    "U1 = np.random.normal(0,1,1000).reshape(1000,1)\n",
    "U2 = np.random.normal(0,1,1000).reshape(1000,1)\n",
    "Z = U1 + U2 + np.random.normal(0,1,1000).reshape(1000,1)\n",
    "X = U1 + np.random.normal(0,1,1000).reshape(1000,1)\n",
    "Y = U2 + X + Z + np.random.normal(0,1,1000).reshape(1000,1)\n",
    "\n",
    "# DataFrame\n",
    "\n",
    "D = np.hstack((U1, U2, Z, X, Y))\n",
    "data = pd.DataFrame(D, columns = [\"U1\", \"U2\", \"Z\", \"X\", \"Y\"])"
   ]
  },
  {
   "cell_type": "code",
   "execution_count": 21,
   "id": "840771a5",
   "metadata": {},
   "outputs": [
    {
     "name": "stdout",
     "output_type": "stream",
     "text": [
      "\n",
      "==================================\n",
      "                  Y I       Y II  \n",
      "----------------------------------\n",
      "Intercept      -0.0312   -0.0026  \n",
      "               (0.0810)  (0.0399) \n",
      "R-squared      0.4098    0.8570   \n",
      "R-squared Adj. 0.4092    0.8568   \n",
      "X              1.4964*** 0.7702***\n",
      "               (0.0568)  (0.0309) \n",
      "Z                        1.3965***\n",
      "                         (0.0250) \n",
      "==================================\n",
      "Standard errors in parentheses.\n",
      "* p<.1, ** p<.05, ***p<.01\n"
     ]
    }
   ],
   "source": [
    "# Regressions\n",
    "no_control = \"Y ~ X\"\n",
    "control = \"Y ~ X + Z\"\n",
    "\n",
    "no_control = smf.ols(no_control, data= data).fit()\n",
    "control = smf.ols(control, data=data).fit()\n",
    "\n",
    "# Summary\n",
    "\n",
    "model_7b = summary_col([no_control, control], stars = True)\n",
    "print(model_7b)"
   ]
  },
  {
   "cell_type": "markdown",
   "id": "5a8a73f4",
   "metadata": {},
   "source": [
    "While adjusting for Z closes this back-door path, it also opens back-door the path X ← U1 → Z ← U2 → Y , as we had in our previous example (Model_7). The causal effect is not defined."
   ]
  },
  {
   "cell_type": "code",
   "execution_count": null,
   "id": "07d3e064",
   "metadata": {},
   "outputs": [],
   "source": [
    "sprinkler7b = CausalGraphicalModel(nodes=[\"U1\",\"U2\",\"Z\",\"Y\",\"X\"],\n",
    "                                 edges=[(\"U1\",\"Z\"),\n",
    "                                        (\"U2\",\"Z\"),\n",
    "                                        (\"U1\",\"X\"),\n",
    "                                        (\"U2\",\"Y\"), (\"X\",\"Y\"),\n",
    "                                        (\"Z\",\"Y\")])\n",
    "sprinkler7b.draw()"
   ]
  },
  {
   "cell_type": "markdown",
   "id": "89442147",
   "metadata": {},
   "source": [
    "### Model_8"
   ]
  },
  {
   "cell_type": "code",
   "execution_count": 22,
   "id": "617b69e6",
   "metadata": {},
   "outputs": [],
   "source": [
    "# Set seed\n",
    "\n",
    "np.random.seed(123456)\n",
    "\n",
    "n = 1000     # sample size\n",
    "Z = np.random.normal(0,1,1000).reshape(1000,1)\n",
    "X = np.random.normal(0,1,1000).reshape(1000,1)\n",
    "Y = X + Z + np.random.normal(0,1,1000).reshape(1000,1)\n",
    "\n",
    "# DataFrame\n",
    "\n",
    "D = np.hstack((Z, X, Y))\n",
    "data = pd.DataFrame(D, columns = [\"Z\", \"X\", \"Y\"])"
   ]
  },
  {
   "cell_type": "code",
   "execution_count": 23,
   "id": "82cf9078",
   "metadata": {},
   "outputs": [
    {
     "name": "stdout",
     "output_type": "stream",
     "text": [
      "\n",
      "==================================\n",
      "                  Y I       Y II  \n",
      "----------------------------------\n",
      "Intercept      -0.0418   0.0046   \n",
      "               (0.0460)  (0.0320) \n",
      "R-squared      0.3168    0.6699   \n",
      "R-squared Adj. 0.3161    0.6693   \n",
      "X              0.9892*** 0.9697***\n",
      "               (0.0460)  (0.0320) \n",
      "Z                        1.0011***\n",
      "                         (0.0307) \n",
      "==================================\n",
      "Standard errors in parentheses.\n",
      "* p<.1, ** p<.05, ***p<.01\n"
     ]
    }
   ],
   "source": [
    "# Regressions\n",
    "no_control = \"Y ~ X\"\n",
    "control = \"Y ~ X + Z\"\n",
    "\n",
    "no_control = smf.ols(no_control, data= data).fit()\n",
    "control = smf.ols(control, data=data).fit()\n",
    "\n",
    "# Summary\n",
    "\n",
    "model_8 = summary_col([no_control, control], stars = True)\n",
    "print(model_8)"
   ]
  },
  {
   "cell_type": "markdown",
   "id": "10393170",
   "metadata": {},
   "source": [
    "Z is not a confounder nor does it block any back-door paths. Controlling for Z does not open any back-door paths from X to Y.\n",
    "Z is a “neutral control.” Analysis shows, however, that controlling for Z reduces the variation of the outcome variable Y , and helps to improve the precision of the ACE estimate in finite samples."
   ]
  },
  {
   "cell_type": "code",
   "execution_count": null,
   "id": "04827eba",
   "metadata": {},
   "outputs": [],
   "source": [
    "sprinkler8 = CausalGraphicalModel(nodes=[\"Z\",\"Y\",\"X\"],\n",
    "                                 edges=[(\"X\",\"Z\"),\n",
    "                                        (\"Z\",\"Y\")])\n",
    "sprinkler8.draw()"
   ]
  },
  {
   "cell_type": "markdown",
   "id": "67ed37c6",
   "metadata": {},
   "source": [
    "### Model_9"
   ]
  },
  {
   "cell_type": "code",
   "execution_count": 24,
   "id": "a15e9615",
   "metadata": {},
   "outputs": [],
   "source": [
    "# Set seed\n",
    "\n",
    "np.random.seed(123456)\n",
    "\n",
    "n = 1000     # sample size\n",
    "Z = np.random.normal(0,1,1000).reshape(1000,1)\n",
    "X = Z + np.random.normal(0,1,1000).reshape(1000,1)\n",
    "Y = X + np.random.normal(0,1,1000).reshape(1000,1)\n",
    "\n",
    "# DataFrame\n",
    "\n",
    "D = np.hstack((Z, X, Y))\n",
    "data = pd.DataFrame(D, columns = [\"Z\", \"X\", \"Y\"])"
   ]
  },
  {
   "cell_type": "code",
   "execution_count": 25,
   "id": "b76bfb92",
   "metadata": {},
   "outputs": [
    {
     "name": "stdout",
     "output_type": "stream",
     "text": [
      "\n",
      "==================================\n",
      "                  Y I       Y II  \n",
      "----------------------------------\n",
      "Intercept      0.0036    0.0046   \n",
      "               (0.0320)  (0.0320) \n",
      "R-squared      0.6698    0.6699   \n",
      "R-squared Adj. 0.6694    0.6693   \n",
      "X              0.9861*** 0.9697***\n",
      "               (0.0219)  (0.0320) \n",
      "Z                        0.0314   \n",
      "                         (0.0447) \n",
      "==================================\n",
      "Standard errors in parentheses.\n",
      "* p<.1, ** p<.05, ***p<.01\n"
     ]
    }
   ],
   "source": [
    "# Regressions\n",
    "no_control = \"Y ~ X\"\n",
    "control = \"Y ~ X + Z\"\n",
    "\n",
    "no_control = smf.ols(no_control, data= data).fit()\n",
    "control = smf.ols(control, data=data).fit()\n",
    "\n",
    "# Summary\n",
    "\n",
    "model_9 = summary_col([no_control, control], stars = True)\n",
    "print(model_9)"
   ]
  },
  {
   "cell_type": "markdown",
   "id": "8236d448",
   "metadata": {},
   "source": [
    "Same as Model_8, Z is a neutral variable."
   ]
  },
  {
   "cell_type": "code",
   "execution_count": null,
   "id": "348c18b4",
   "metadata": {},
   "outputs": [],
   "source": [
    "sprinkler9 = CausalGraphicalModel(nodes=[\"Z\",\"Y\",\"X\"],\n",
    "                                 edges=[(\"Z\",\"X\"),\n",
    "                                        (\"X\",\"Y\")])\n",
    "sprinkler9.draw()"
   ]
  },
  {
   "cell_type": "markdown",
   "id": "ce1f5dfa",
   "metadata": {},
   "source": [
    "### Model_10"
   ]
  },
  {
   "cell_type": "code",
   "execution_count": 26,
   "id": "950e5bca",
   "metadata": {},
   "outputs": [],
   "source": [
    "# Set seed\n",
    "\n",
    "np.random.seed(123456)\n",
    "\n",
    "n = 1000     # sample size\n",
    "U = np.random.normal(0,1,1000).reshape(1000,1)\n",
    "Z = np.random.normal(0,1,1000).reshape(1000,1)\n",
    "X = Z + U + np.random.normal(0,1,1000).reshape(1000,1)\n",
    "Y = X + U + np.random.normal(0,1,1000).reshape(1000,1)\n",
    "\n",
    "# DataFrame\n",
    "\n",
    "D = np.hstack((U, Z, X, Y))\n",
    "data = pd.DataFrame(D, columns = [\"U\", \"Z\", \"X\", \"Y\"])"
   ]
  },
  {
   "cell_type": "code",
   "execution_count": 27,
   "id": "ca9516e4",
   "metadata": {},
   "outputs": [
    {
     "name": "stdout",
     "output_type": "stream",
     "text": [
      "\n",
      "===================================\n",
      "                  Y I       Y II   \n",
      "-----------------------------------\n",
      "Intercept      -0.0063   0.0044    \n",
      "               (0.0409)  (0.0390)  \n",
      "R-squared      0.7692    0.7908    \n",
      "R-squared Adj. 0.7689    0.7904    \n",
      "X              1.3413*** 1.4946*** \n",
      "               (0.0233)  (0.0268)  \n",
      "Z                        -0.4787***\n",
      "                         (0.0471)  \n",
      "===================================\n",
      "Standard errors in parentheses.\n",
      "* p<.1, ** p<.05, ***p<.01\n"
     ]
    }
   ],
   "source": [
    "# Regressions\n",
    "no_control = \"Y ~ X\"\n",
    "control = \"Y ~ X + Z\"\n",
    "\n",
    "no_control = smf.ols(no_control, data= data).fit()\n",
    "control = smf.ols(control, data=data).fit()\n",
    "\n",
    "# Summary\n",
    "\n",
    "model_10 = summary_col([no_control, control], stars = True)\n",
    "print(model_10)"
   ]
  },
  {
   "cell_type": "markdown",
   "id": "597022cd",
   "metadata": {},
   "source": [
    "Z only causes X. Naive control for Z in this model will not only fail to deconfound the effect of X on Y , but, in linear models, will amplify any existing bias. This is called \"bias amplification\"."
   ]
  },
  {
   "cell_type": "code",
   "execution_count": null,
   "id": "b51c22f8",
   "metadata": {},
   "outputs": [],
   "source": [
    "sprinkler10 = CausalGraphicalModel(nodes=[\"U\",\"Z\",\"Y\",\"X\"],\n",
    "                                 edges=[(\"Z\",\"X\"),\n",
    "                                        (\"X\",\"Y\"),\n",
    "                                        (\"U\",\"X\"),\n",
    "                                        (\"U\",\"Y\")])\n",
    "sprinkler10.draw()"
   ]
  },
  {
   "cell_type": "markdown",
   "id": "779da495",
   "metadata": {},
   "source": [
    "### Model_11"
   ]
  },
  {
   "cell_type": "code",
   "execution_count": 28,
   "id": "a143afe2",
   "metadata": {},
   "outputs": [],
   "source": [
    "# Set seed\n",
    "\n",
    "np.random.seed(123456)\n",
    "\n",
    "n = 1000     # sample size\n",
    "X = np.random.normal(0,1,1000).reshape(1000,1)\n",
    "Z = X + np.random.normal(0,1,1000).reshape(1000,1)\n",
    "Y = Z + np.random.normal(0,1,1000).reshape(1000,1)\n",
    "\n",
    "# DataFrame\n",
    "\n",
    "D = np.hstack((Z, X, Y))\n",
    "data = pd.DataFrame(D, columns = [\"Z\", \"X\", \"Y\"])"
   ]
  },
  {
   "cell_type": "code",
   "execution_count": 29,
   "id": "765bca6e",
   "metadata": {},
   "outputs": [
    {
     "name": "stdout",
     "output_type": "stream",
     "text": [
      "\n",
      "==================================\n",
      "                  Y I       Y II  \n",
      "----------------------------------\n",
      "Intercept      0.0180    0.0046   \n",
      "               (0.0444)  (0.0320) \n",
      "R-squared      0.3656    0.6699   \n",
      "R-squared Adj. 0.3650    0.6693   \n",
      "X              1.0185*** 0.0314   \n",
      "               (0.0425)  (0.0447) \n",
      "Z                        0.9697***\n",
      "                         (0.0320) \n",
      "==================================\n",
      "Standard errors in parentheses.\n",
      "* p<.1, ** p<.05, ***p<.01\n"
     ]
    }
   ],
   "source": [
    "# Regressions\n",
    "no_control = \"Y ~ X\"\n",
    "control = \"Y ~ X + Z\"\n",
    "\n",
    "no_control = smf.ols(no_control, data= data).fit()\n",
    "control = smf.ols(control, data=data).fit()\n",
    "\n",
    "# Summary\n",
    "\n",
    "model_11 = summary_col([no_control, control], stars = True)\n",
    "print(model_11)"
   ]
  },
  {
   "cell_type": "markdown",
   "id": "5bd3171b",
   "metadata": {},
   "source": [
    "In Model 11, Z is a mediator of the causal effect of X on Y . Controlling for Z will block the very effect we want to estimate"
   ]
  },
  {
   "cell_type": "code",
   "execution_count": null,
   "id": "c9efe347",
   "metadata": {},
   "outputs": [],
   "source": [
    "sprinkler11 = CausalGraphicalModel(nodes=[\"Z\",\"Y\",\"X\"],\n",
    "                                 edges=[(\"X\",\"Z\"),\n",
    "                                        (\"Z\",\"Y\")])\n",
    "sprinkler11.draw()"
   ]
  },
  {
   "cell_type": "markdown",
   "id": "5965a938",
   "metadata": {},
   "source": [
    "### Model_12"
   ]
  },
  {
   "cell_type": "code",
   "execution_count": 30,
   "id": "4f574bc6",
   "metadata": {},
   "outputs": [],
   "source": [
    "# Set seed\n",
    "\n",
    "np.random.seed(123456)\n",
    "\n",
    "n = 1000     # sample size\n",
    "X = np.random.normal(0,1,1000).reshape(1000,1)\n",
    "M = X + np.random.normal(0,1,1000).reshape(1000,1)\n",
    "Z = M + np.random.normal(0,1,1000).reshape(1000,1)\n",
    "Y = M + np.random.normal(0,1,1000).reshape(1000,1)\n",
    "\n",
    "# DataFrame\n",
    "\n",
    "D = np.hstack((M, Z, X, Y))\n",
    "data = pd.DataFrame(D, columns = [\"M\", \"Z\", \"X\", \"Y\"])"
   ]
  },
  {
   "cell_type": "code",
   "execution_count": 31,
   "id": "d3aa604c",
   "metadata": {},
   "outputs": [
    {
     "name": "stdout",
     "output_type": "stream",
     "text": [
      "\n",
      "==================================\n",
      "                  Y I       Y II  \n",
      "----------------------------------\n",
      "Intercept      0.0419    0.0330   \n",
      "               (0.0449)  (0.0393) \n",
      "R-squared      0.3405    0.4950   \n",
      "R-squared Adj. 0.3399    0.4940   \n",
      "X              0.9765*** 0.4773***\n",
      "               (0.0430)  (0.0473) \n",
      "Z                        0.4902***\n",
      "                         (0.0281) \n",
      "==================================\n",
      "Standard errors in parentheses.\n",
      "* p<.1, ** p<.05, ***p<.01\n"
     ]
    }
   ],
   "source": [
    "# Regressions\n",
    "no_control = \"Y ~ X\"\n",
    "control = \"Y ~ X + Z\"\n",
    "\n",
    "no_control = smf.ols(no_control, data= data).fit()\n",
    "control = smf.ols(control, data=data).fit()\n",
    "\n",
    "# Summary\n",
    "\n",
    "model_12 = summary_col([no_control, control], stars = True)\n",
    "print(model_12)"
   ]
  },
  {
   "cell_type": "markdown",
   "id": "f35a5597",
   "metadata": {},
   "source": [
    "In Model 12, although Z is not itself a mediator of the causal effect of X on Y , controlling for\n",
    "Z is equivalent to partially controlling for the mediator M, and will thus bias our estimates."
   ]
  },
  {
   "cell_type": "code",
   "execution_count": null,
   "id": "0ad08989",
   "metadata": {},
   "outputs": [],
   "source": [
    "sprinkler12 = CausalGraphicalModel(nodes=[\"M\",\"Z\",\"Y\",\"X\"],\n",
    "                                 edges=[(\"X\",\"M\"),\n",
    "                                        (\"M\",\"Y\"),\n",
    "                                        (\"Z\",\"M\")])\n",
    "sprinkler12.draw()"
   ]
  },
  {
   "cell_type": "markdown",
   "id": "fb993ceb",
   "metadata": {},
   "source": [
    "### Model_13"
   ]
  },
  {
   "cell_type": "code",
   "execution_count": 32,
   "id": "0e667517",
   "metadata": {},
   "outputs": [],
   "source": [
    "# Set seed\n",
    "\n",
    "np.random.seed(123456)\n",
    "\n",
    "n = 1000     # sample size\n",
    "X = np.random.normal(0,1,1000).reshape(1000,1)\n",
    "Z = np.random.normal(0,1,1000).reshape(1000,1)\n",
    "M = X + Z + np.random.normal(0,1,1000).reshape(1000,1)\n",
    "Y = M + np.random.normal(0,1,1000).reshape(1000,1)\n",
    "\n",
    "# DataFrame\n",
    "\n",
    "D = np.hstack((M, Z, X, Y))\n",
    "data = pd.DataFrame(D, columns = [\"M\", \"Z\", \"X\", \"Y\"])"
   ]
  },
  {
   "cell_type": "code",
   "execution_count": 33,
   "id": "e044e783",
   "metadata": {},
   "outputs": [
    {
     "name": "stdout",
     "output_type": "stream",
     "text": [
      "\n",
      "==================================\n",
      "                  Y I       Y II  \n",
      "----------------------------------\n",
      "Intercept      0.0460    0.0327   \n",
      "               (0.0546)  (0.0453) \n",
      "R-squared      0.2593    0.4899   \n",
      "R-squared Adj. 0.2586    0.4889   \n",
      "X              0.9771*** 0.9600***\n",
      "               (0.0523)  (0.0434) \n",
      "Z                        0.9617***\n",
      "                         (0.0453) \n",
      "==================================\n",
      "Standard errors in parentheses.\n",
      "* p<.1, ** p<.05, ***p<.01\n"
     ]
    }
   ],
   "source": [
    "# Regressions\n",
    "no_control = \"Y ~ X\"\n",
    "control = \"Y ~ X + Z\"\n",
    "\n",
    "no_control = smf.ols(no_control, data= data).fit()\n",
    "control = smf.ols(control, data=data).fit()\n",
    "\n",
    "# Summary\n",
    "\n",
    "model_13 = summary_col([no_control, control], stars = True)\n",
    "print(model_13)"
   ]
  },
  {
   "cell_type": "markdown",
   "id": "f41065ae",
   "metadata": {},
   "source": [
    "Neutral effect.  Z is a cause, not an effect, of the mediator (and,consequently, also a cause of Y ). Thus, Model 13 is analogous to Model 8, and so controlling for Z will be neutral in terms of bias and may increase the precision of the ACE."
   ]
  },
  {
   "cell_type": "code",
   "execution_count": null,
   "id": "7130f911",
   "metadata": {},
   "outputs": [],
   "source": []
  },
  {
   "cell_type": "markdown",
   "id": "4eba34e2",
   "metadata": {},
   "source": [
    "### Model_14"
   ]
  },
  {
   "cell_type": "code",
   "execution_count": 34,
   "id": "c1bdca89",
   "metadata": {},
   "outputs": [],
   "source": [
    "# Set seed\n",
    "\n",
    "np.random.seed(123456)\n",
    "\n",
    "n = 1000     # sample size\n",
    "X = np.random.normal(0,1,1000).reshape(1000,1)\n",
    "Z = X + np.random.normal(0,1,1000).reshape(1000,1)\n",
    "Y = X + np.random.normal(0,1,1000).reshape(1000,1)\n",
    "\n",
    "# DataFrame\n",
    "\n",
    "D = np.hstack((Z, X, Y))\n",
    "data = pd.DataFrame(D, columns = [\"Z\", \"X\", \"Y\"])"
   ]
  },
  {
   "cell_type": "code",
   "execution_count": 35,
   "id": "b814170b",
   "metadata": {},
   "outputs": [
    {
     "name": "stdout",
     "output_type": "stream",
     "text": [
      "\n",
      "==================================\n",
      "                  Y I       Y II  \n",
      "----------------------------------\n",
      "Intercept      0.0041    0.0046   \n",
      "               (0.0320)  (0.0320) \n",
      "R-squared      0.5165    0.5169   \n",
      "R-squared Adj. 0.5160    0.5159   \n",
      "X              1.0006*** 1.0314***\n",
      "               (0.0306)  (0.0447) \n",
      "Z                        -0.0303  \n",
      "                         (0.0320) \n",
      "==================================\n",
      "Standard errors in parentheses.\n",
      "* p<.1, ** p<.05, ***p<.01\n"
     ]
    }
   ],
   "source": [
    "# Regressions\n",
    "no_control = \"Y ~ X\"\n",
    "control = \"Y ~ X + Z\"\n",
    "\n",
    "no_control = smf.ols(no_control, data= data).fit()\n",
    "control = smf.ols(control, data=data).fit()\n",
    "\n",
    "# Summary\n",
    "\n",
    "model_14 = summary_col([no_control, control], stars = True)\n",
    "print(model_14)"
   ]
  },
  {
   "cell_type": "markdown",
   "id": "badf3482",
   "metadata": {},
   "source": [
    "In Models 14 and 15 controlling for Z does not open any confounding paths between X and\n",
    "Y . Thus, Z is neutral in terms of bias. However, controlling for Z does reduce the variation\n",
    "of the treatment variable X and so may hurt the precision of the ACE estimate in finite\n",
    "samples."
   ]
  },
  {
   "cell_type": "markdown",
   "id": "f368f5a3",
   "metadata": {},
   "source": [
    "### Model_15"
   ]
  },
  {
   "cell_type": "code",
   "execution_count": 36,
   "id": "d1b5c55a",
   "metadata": {},
   "outputs": [],
   "source": [
    "# Set seed\n",
    "\n",
    "np.random.seed(123456)\n",
    "\n",
    "n = 1000     # sample size\n",
    "X = np.random.normal(0,1,1000).reshape(1000,1)\n",
    "U = np.random.normal(0,1,1000).reshape(1000,1)\n",
    "Z = X + np.random.normal(0,1,1000).reshape(1000,1)\n",
    "W = Z + U + np.random.normal(0,1,1000).reshape(1000,1)\n",
    "Y = X + U + np.random.normal(0,1,1000).reshape(1000,1)\n",
    "\n",
    "# DataFrame\n",
    "\n",
    "D = np.hstack((W, U, Z, X, Y))\n",
    "data = pd.DataFrame(D, columns = [\"W\", \"U\", \"Z\", \"X\", \"Y\"])"
   ]
  },
  {
   "cell_type": "code",
   "execution_count": 37,
   "id": "7a783656",
   "metadata": {},
   "outputs": [
    {
     "name": "stdout",
     "output_type": "stream",
     "text": [
      "\n",
      "==================================\n",
      "                  Y I       Y II  \n",
      "----------------------------------\n",
      "Intercept      -0.0102   -0.0101  \n",
      "               (0.0446)  (0.0447) \n",
      "R-squared      0.3556    0.3559   \n",
      "R-squared Adj. 0.3549    0.3546   \n",
      "X              1.0028*** 1.0330***\n",
      "               (0.0427)  (0.0615) \n",
      "Z                        -0.0302  \n",
      "                         (0.0442) \n",
      "==================================\n",
      "Standard errors in parentheses.\n",
      "* p<.1, ** p<.05, ***p<.01\n"
     ]
    }
   ],
   "source": [
    "# Regressions\n",
    "no_control = \"Y ~ X\"\n",
    "control = \"Y ~ X + Z\"\n",
    "\n",
    "no_control = smf.ols(no_control, data= data).fit()\n",
    "control = smf.ols(control, data=data).fit()\n",
    "\n",
    "# Summary\n",
    "\n",
    "model_15 = summary_col([no_control, control], stars = True)\n",
    "print(model_15)"
   ]
  },
  {
   "cell_type": "markdown",
   "id": "896aed62",
   "metadata": {},
   "source": [
    "In Model 15, suppose one has only samples with W = w recorded (a case of selection bias). In this case, controlling for Z can help to obtain the W-specific effect of X on Y by blocking the colliding path due to W. In linear models, controlling for Z actually fully recovers the ACE"
   ]
  },
  {
   "cell_type": "markdown",
   "id": "535c6248",
   "metadata": {},
   "source": [
    "### Model_16"
   ]
  },
  {
   "cell_type": "code",
   "execution_count": 38,
   "id": "f5daa264",
   "metadata": {},
   "outputs": [],
   "source": [
    "# Set seed\n",
    "\n",
    "np.random.seed(123456)\n",
    "\n",
    "n = 1000     # sample size\n",
    "X = np.random.normal(0,1,1000).reshape(1000,1)\n",
    "U = np.random.normal(0,1,1000).reshape(1000,1)\n",
    "Z = X + U + np.random.normal(0,1,1000).reshape(1000,1)\n",
    "Y = X + U + np.random.normal(0,1,1000).reshape(1000,1)\n",
    "\n",
    "# DataFrame\n",
    "\n",
    "D = np.hstack((U, Z, X, Y))\n",
    "data = pd.DataFrame(D, columns = [\"U\", \"Z\", \"X\", \"Y\"])"
   ]
  },
  {
   "cell_type": "code",
   "execution_count": 39,
   "id": "cc96ed71",
   "metadata": {},
   "outputs": [
    {
     "name": "stdout",
     "output_type": "stream",
     "text": [
      "\n",
      "==================================\n",
      "                  Y I       Y II  \n",
      "----------------------------------\n",
      "Intercept      0.0419    0.0330   \n",
      "               (0.0449)  (0.0393) \n",
      "R-squared      0.3405    0.4950   \n",
      "R-squared Adj. 0.3399    0.4940   \n",
      "X              0.9765*** 0.4773***\n",
      "               (0.0430)  (0.0473) \n",
      "Z                        0.4902***\n",
      "                         (0.0281) \n",
      "==================================\n",
      "Standard errors in parentheses.\n",
      "* p<.1, ** p<.05, ***p<.01\n"
     ]
    }
   ],
   "source": [
    "# Regressions\n",
    "no_control = \"Y ~ X\"\n",
    "control = \"Y ~ X + Z\"\n",
    "\n",
    "no_control = smf.ols(no_control, data= data).fit()\n",
    "control = smf.ols(control, data=data).fit()\n",
    "\n",
    "# Summary\n",
    "\n",
    "model_16 = summary_col([no_control, control], stars = True)\n",
    "print(model_16)"
   ]
  },
  {
   "cell_type": "markdown",
   "id": "4a790311",
   "metadata": {},
   "source": [
    "Z is a bad control.  Adjusting for Z in Model_16 opens the colliding path X → Z ← U → Y and so biases the ACE."
   ]
  },
  {
   "cell_type": "markdown",
   "id": "8fb5ae3d",
   "metadata": {},
   "source": [
    "### Model_17"
   ]
  },
  {
   "cell_type": "code",
   "execution_count": 40,
   "id": "ce29096f",
   "metadata": {},
   "outputs": [],
   "source": [
    "# Set seed\n",
    "\n",
    "np.random.seed(123456)\n",
    "\n",
    "n = 1000     # sample size\n",
    "X = np.random.normal(0,1,1000).reshape(1000,1)\n",
    "Y = X + np.random.normal(0,1,1000).reshape(1000,1)\n",
    "Z = X + Y + np.random.normal(0,1,1000).reshape(1000,1)\n",
    "\n",
    "# DataFrame\n",
    "\n",
    "D = np.hstack((Z, X, Y))\n",
    "data = pd.DataFrame(D, columns = [\"Z\", \"X\", \"Y\"])"
   ]
  },
  {
   "cell_type": "code",
   "execution_count": 41,
   "id": "854f8f88",
   "metadata": {},
   "outputs": [
    {
     "name": "stdout",
     "output_type": "stream",
     "text": [
      "\n",
      "==================================\n",
      "                  Y I       Y II  \n",
      "----------------------------------\n",
      "Intercept      0.0139    0.0050   \n",
      "               (0.0317)  (0.0229) \n",
      "R-squared      0.5302    0.7555   \n",
      "R-squared Adj. 0.5297    0.7551   \n",
      "X              1.0179*** 0.0194   \n",
      "               (0.0303)  (0.0395) \n",
      "Z                        0.4947***\n",
      "                         (0.0163) \n",
      "==================================\n",
      "Standard errors in parentheses.\n",
      "* p<.1, ** p<.05, ***p<.01\n"
     ]
    }
   ],
   "source": [
    "# Regressions\n",
    "no_control = \"Y ~ X\"\n",
    "control = \"Y ~ X + Z\"\n",
    "\n",
    "no_control = smf.ols(no_control, data= data).fit()\n",
    "control = smf.ols(control, data=data).fit()\n",
    "\n",
    "# Summary\n",
    "\n",
    "model_17 = summary_col([no_control, control], stars = True)\n",
    "print(model_17)"
   ]
  },
  {
   "cell_type": "markdown",
   "id": "3c727b37",
   "metadata": {},
   "source": [
    "In Model_17, adjusting for Z not only opens the path X → Z ← Y , but also the colliding\n",
    "path due to the latent parents of Y , thus biasing the ACE"
   ]
  },
  {
   "cell_type": "markdown",
   "id": "f84b8248",
   "metadata": {},
   "source": [
    "### Model_18"
   ]
  },
  {
   "cell_type": "code",
   "execution_count": 42,
   "id": "04278d1b",
   "metadata": {},
   "outputs": [],
   "source": [
    "# Set seed\n",
    "\n",
    "np.random.seed(123456)\n",
    "\n",
    "n = 1000     # sample size\n",
    "X = np.random.normal(0,1,1000).reshape(1000,1)\n",
    "Y = X + np.random.normal(0,1,1000).reshape(1000,1)\n",
    "Z = Y + np.random.normal(0,1,1000).reshape(1000,1)\n",
    "\n",
    "# DataFrame\n",
    "\n",
    "D = np.hstack((Z, X, Y))\n",
    "data = pd.DataFrame(D, columns = [\"Z\", \"X\", \"Y\"])"
   ]
  },
  {
   "cell_type": "code",
   "execution_count": 43,
   "id": "d928a521",
   "metadata": {},
   "outputs": [
    {
     "name": "stdout",
     "output_type": "stream",
     "text": [
      "\n",
      "==================================\n",
      "                  Y I       Y II  \n",
      "----------------------------------\n",
      "Intercept      0.0139    0.0050   \n",
      "               (0.0317)  (0.0229) \n",
      "R-squared      0.5302    0.7555   \n",
      "R-squared Adj. 0.5297    0.7551   \n",
      "X              1.0179*** 0.5141***\n",
      "               (0.0303)  (0.0275) \n",
      "Z                        0.4947***\n",
      "                         (0.0163) \n",
      "==================================\n",
      "Standard errors in parentheses.\n",
      "* p<.1, ** p<.05, ***p<.01\n"
     ]
    }
   ],
   "source": [
    "# Regressions\n",
    "no_control = \"Y ~ X\"\n",
    "control = \"Y ~ X + Z\"\n",
    "\n",
    "no_control = smf.ols(no_control, data= data).fit()\n",
    "control = smf.ols(control, data=data).fit()\n",
    "\n",
    "# Summary\n",
    "\n",
    "model_18 = summary_col([no_control, control], stars = True)\n",
    "print(model_18)"
   ]
  },
  {
   "cell_type": "markdown",
   "id": "a4faff81",
   "metadata": {},
   "source": [
    "Z is a bad control. Z is not in the causal pathway from X to Y , Z is not a direct cause\n",
    "of X, and Z is connected to Y . However, controlling for the effects of the outcome Y will induce bias in the estimate of the ACE, even without the direct arrow X → Z, thus making Z a “bad control.” This happens\n",
    "because Z is in fact a descendant of a collider: the outcome Y itself. "
   ]
  },
  {
   "cell_type": "code",
   "execution_count": null,
   "id": "ec4bc55f",
   "metadata": {},
   "outputs": [],
   "source": []
  }
 ],
 "metadata": {
  "kernelspec": {
   "display_name": "Python 3 (ipykernel)",
   "language": "python",
   "name": "python3"
  },
  "language_info": {
   "codemirror_mode": {
    "name": "ipython",
    "version": 3
   },
   "file_extension": ".py",
   "mimetype": "text/x-python",
   "name": "python",
   "nbconvert_exporter": "python",
   "pygments_lexer": "ipython3",
   "version": "3.9.12"
  }
 },
 "nbformat": 4,
 "nbformat_minor": 5
}
