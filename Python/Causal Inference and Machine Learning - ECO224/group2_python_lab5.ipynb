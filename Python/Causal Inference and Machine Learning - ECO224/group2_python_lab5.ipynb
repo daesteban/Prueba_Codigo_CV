{
 "cells": [
  {
   "cell_type": "markdown",
   "id": "505a3cee",
   "metadata": {},
   "source": [
    "# Bootstrapping"
   ]
  },
  {
   "cell_type": "code",
   "execution_count": 209,
   "id": "f9bbc54a",
   "metadata": {},
   "outputs": [],
   "source": [
    "import pandas as pd\n",
    "import numpy as np\n",
    "from sklearn.preprocessing import PolynomialFeatures\n",
    "from sklearn.linear_model import LinearRegression\n",
    "from sklearn.model_selection import train_test_split,cross_val_score\n",
    "from sklearn.metrics import mean_squared_error\n",
    "import statsmodels.api as sm\n",
    "import matplotlib.pyplot as plt"
   ]
  },
  {
   "cell_type": "code",
   "execution_count": 139,
   "id": "fa9a0c75",
   "metadata": {},
   "outputs": [
    {
     "data": {
      "text/html": [
       "<div>\n",
       "<style scoped>\n",
       "    .dataframe tbody tr th:only-of-type {\n",
       "        vertical-align: middle;\n",
       "    }\n",
       "\n",
       "    .dataframe tbody tr th {\n",
       "        vertical-align: top;\n",
       "    }\n",
       "\n",
       "    .dataframe thead th {\n",
       "        text-align: right;\n",
       "    }\n",
       "</style>\n",
       "<table border=\"1\" class=\"dataframe\">\n",
       "  <thead>\n",
       "    <tr style=\"text-align: right;\">\n",
       "      <th></th>\n",
       "      <th>abdt</th>\n",
       "      <th>tg</th>\n",
       "      <th>inuidur1</th>\n",
       "      <th>inuidur2</th>\n",
       "      <th>female</th>\n",
       "      <th>black</th>\n",
       "      <th>hispanic</th>\n",
       "      <th>othrace</th>\n",
       "      <th>dep</th>\n",
       "      <th>q1</th>\n",
       "      <th>...</th>\n",
       "      <th>q5</th>\n",
       "      <th>q6</th>\n",
       "      <th>recall</th>\n",
       "      <th>agelt35</th>\n",
       "      <th>agegt54</th>\n",
       "      <th>durable</th>\n",
       "      <th>nondurable</th>\n",
       "      <th>lusd</th>\n",
       "      <th>husd</th>\n",
       "      <th>muld</th>\n",
       "    </tr>\n",
       "  </thead>\n",
       "  <tbody>\n",
       "    <tr>\n",
       "      <th>0</th>\n",
       "      <td>10824</td>\n",
       "      <td>0</td>\n",
       "      <td>18</td>\n",
       "      <td>18</td>\n",
       "      <td>0</td>\n",
       "      <td>0</td>\n",
       "      <td>0</td>\n",
       "      <td>0</td>\n",
       "      <td>2</td>\n",
       "      <td>0</td>\n",
       "      <td>...</td>\n",
       "      <td>0</td>\n",
       "      <td>0</td>\n",
       "      <td>0</td>\n",
       "      <td>0</td>\n",
       "      <td>0</td>\n",
       "      <td>0</td>\n",
       "      <td>0</td>\n",
       "      <td>1</td>\n",
       "      <td>0</td>\n",
       "      <td>NaN</td>\n",
       "    </tr>\n",
       "    <tr>\n",
       "      <th>1</th>\n",
       "      <td>10635</td>\n",
       "      <td>2</td>\n",
       "      <td>7</td>\n",
       "      <td>3</td>\n",
       "      <td>0</td>\n",
       "      <td>0</td>\n",
       "      <td>0</td>\n",
       "      <td>0</td>\n",
       "      <td>0</td>\n",
       "      <td>0</td>\n",
       "      <td>...</td>\n",
       "      <td>0</td>\n",
       "      <td>0</td>\n",
       "      <td>1</td>\n",
       "      <td>0</td>\n",
       "      <td>0</td>\n",
       "      <td>0</td>\n",
       "      <td>1</td>\n",
       "      <td>0</td>\n",
       "      <td>0</td>\n",
       "      <td>NaN</td>\n",
       "    </tr>\n",
       "    <tr>\n",
       "      <th>2</th>\n",
       "      <td>10551</td>\n",
       "      <td>5</td>\n",
       "      <td>18</td>\n",
       "      <td>6</td>\n",
       "      <td>1</td>\n",
       "      <td>0</td>\n",
       "      <td>0</td>\n",
       "      <td>0</td>\n",
       "      <td>0</td>\n",
       "      <td>0</td>\n",
       "      <td>...</td>\n",
       "      <td>0</td>\n",
       "      <td>1</td>\n",
       "      <td>0</td>\n",
       "      <td>1</td>\n",
       "      <td>0</td>\n",
       "      <td>0</td>\n",
       "      <td>0</td>\n",
       "      <td>0</td>\n",
       "      <td>0</td>\n",
       "      <td>NaN</td>\n",
       "    </tr>\n",
       "    <tr>\n",
       "      <th>3</th>\n",
       "      <td>10824</td>\n",
       "      <td>0</td>\n",
       "      <td>1</td>\n",
       "      <td>1</td>\n",
       "      <td>0</td>\n",
       "      <td>0</td>\n",
       "      <td>0</td>\n",
       "      <td>0</td>\n",
       "      <td>0</td>\n",
       "      <td>0</td>\n",
       "      <td>...</td>\n",
       "      <td>0</td>\n",
       "      <td>0</td>\n",
       "      <td>0</td>\n",
       "      <td>0</td>\n",
       "      <td>0</td>\n",
       "      <td>0</td>\n",
       "      <td>1</td>\n",
       "      <td>0</td>\n",
       "      <td>0</td>\n",
       "      <td>NaN</td>\n",
       "    </tr>\n",
       "    <tr>\n",
       "      <th>4</th>\n",
       "      <td>10747</td>\n",
       "      <td>0</td>\n",
       "      <td>27</td>\n",
       "      <td>27</td>\n",
       "      <td>0</td>\n",
       "      <td>0</td>\n",
       "      <td>0</td>\n",
       "      <td>0</td>\n",
       "      <td>0</td>\n",
       "      <td>0</td>\n",
       "      <td>...</td>\n",
       "      <td>0</td>\n",
       "      <td>0</td>\n",
       "      <td>0</td>\n",
       "      <td>0</td>\n",
       "      <td>0</td>\n",
       "      <td>0</td>\n",
       "      <td>1</td>\n",
       "      <td>0</td>\n",
       "      <td>0</td>\n",
       "      <td>NaN</td>\n",
       "    </tr>\n",
       "    <tr>\n",
       "      <th>...</th>\n",
       "      <td>...</td>\n",
       "      <td>...</td>\n",
       "      <td>...</td>\n",
       "      <td>...</td>\n",
       "      <td>...</td>\n",
       "      <td>...</td>\n",
       "      <td>...</td>\n",
       "      <td>...</td>\n",
       "      <td>...</td>\n",
       "      <td>...</td>\n",
       "      <td>...</td>\n",
       "      <td>...</td>\n",
       "      <td>...</td>\n",
       "      <td>...</td>\n",
       "      <td>...</td>\n",
       "      <td>...</td>\n",
       "      <td>...</td>\n",
       "      <td>...</td>\n",
       "      <td>...</td>\n",
       "      <td>...</td>\n",
       "      <td>...</td>\n",
       "    </tr>\n",
       "    <tr>\n",
       "      <th>13908</th>\n",
       "      <td>10831</td>\n",
       "      <td>5</td>\n",
       "      <td>27</td>\n",
       "      <td>27</td>\n",
       "      <td>0</td>\n",
       "      <td>0</td>\n",
       "      <td>0</td>\n",
       "      <td>0</td>\n",
       "      <td>0</td>\n",
       "      <td>0</td>\n",
       "      <td>...</td>\n",
       "      <td>0</td>\n",
       "      <td>1</td>\n",
       "      <td>0</td>\n",
       "      <td>1</td>\n",
       "      <td>1</td>\n",
       "      <td>0</td>\n",
       "      <td>0</td>\n",
       "      <td>1</td>\n",
       "      <td>0</td>\n",
       "      <td>NaN</td>\n",
       "    </tr>\n",
       "    <tr>\n",
       "      <th>13909</th>\n",
       "      <td>10677</td>\n",
       "      <td>2</td>\n",
       "      <td>4</td>\n",
       "      <td>4</td>\n",
       "      <td>1</td>\n",
       "      <td>0</td>\n",
       "      <td>0</td>\n",
       "      <td>0</td>\n",
       "      <td>0</td>\n",
       "      <td>0</td>\n",
       "      <td>...</td>\n",
       "      <td>0</td>\n",
       "      <td>0</td>\n",
       "      <td>0</td>\n",
       "      <td>1</td>\n",
       "      <td>0</td>\n",
       "      <td>0</td>\n",
       "      <td>1</td>\n",
       "      <td>0</td>\n",
       "      <td>0</td>\n",
       "      <td>NaN</td>\n",
       "    </tr>\n",
       "    <tr>\n",
       "      <th>13910</th>\n",
       "      <td>10817</td>\n",
       "      <td>4</td>\n",
       "      <td>4</td>\n",
       "      <td>4</td>\n",
       "      <td>0</td>\n",
       "      <td>0</td>\n",
       "      <td>0</td>\n",
       "      <td>0</td>\n",
       "      <td>0</td>\n",
       "      <td>0</td>\n",
       "      <td>...</td>\n",
       "      <td>0</td>\n",
       "      <td>0</td>\n",
       "      <td>0</td>\n",
       "      <td>1</td>\n",
       "      <td>0</td>\n",
       "      <td>0</td>\n",
       "      <td>0</td>\n",
       "      <td>0</td>\n",
       "      <td>0</td>\n",
       "      <td>NaN</td>\n",
       "    </tr>\n",
       "    <tr>\n",
       "      <th>13911</th>\n",
       "      <td>10691</td>\n",
       "      <td>0</td>\n",
       "      <td>27</td>\n",
       "      <td>27</td>\n",
       "      <td>0</td>\n",
       "      <td>0</td>\n",
       "      <td>0</td>\n",
       "      <td>0</td>\n",
       "      <td>0</td>\n",
       "      <td>0</td>\n",
       "      <td>...</td>\n",
       "      <td>0</td>\n",
       "      <td>0</td>\n",
       "      <td>0</td>\n",
       "      <td>1</td>\n",
       "      <td>1</td>\n",
       "      <td>0</td>\n",
       "      <td>1</td>\n",
       "      <td>0</td>\n",
       "      <td>0</td>\n",
       "      <td>NaN</td>\n",
       "    </tr>\n",
       "    <tr>\n",
       "      <th>13912</th>\n",
       "      <td>10677</td>\n",
       "      <td>5</td>\n",
       "      <td>25</td>\n",
       "      <td>25</td>\n",
       "      <td>0</td>\n",
       "      <td>0</td>\n",
       "      <td>0</td>\n",
       "      <td>0</td>\n",
       "      <td>0</td>\n",
       "      <td>0</td>\n",
       "      <td>...</td>\n",
       "      <td>0</td>\n",
       "      <td>0</td>\n",
       "      <td>0</td>\n",
       "      <td>1</td>\n",
       "      <td>0</td>\n",
       "      <td>1</td>\n",
       "      <td>0</td>\n",
       "      <td>1</td>\n",
       "      <td>0</td>\n",
       "      <td>NaN</td>\n",
       "    </tr>\n",
       "  </tbody>\n",
       "</table>\n",
       "<p>13913 rows × 24 columns</p>\n",
       "</div>"
      ],
      "text/plain": [
       "        abdt  tg  inuidur1  inuidur2  female  black  hispanic  othrace  dep  \\\n",
       "0      10824   0        18        18       0      0         0        0    2   \n",
       "1      10635   2         7         3       0      0         0        0    0   \n",
       "2      10551   5        18         6       1      0         0        0    0   \n",
       "3      10824   0         1         1       0      0         0        0    0   \n",
       "4      10747   0        27        27       0      0         0        0    0   \n",
       "...      ...  ..       ...       ...     ...    ...       ...      ...  ...   \n",
       "13908  10831   5        27        27       0      0         0        0    0   \n",
       "13909  10677   2         4         4       1      0         0        0    0   \n",
       "13910  10817   4         4         4       0      0         0        0    0   \n",
       "13911  10691   0        27        27       0      0         0        0    0   \n",
       "13912  10677   5        25        25       0      0         0        0    0   \n",
       "\n",
       "       q1  ...  q5  q6  recall  agelt35  agegt54  durable  nondurable  lusd  \\\n",
       "0       0  ...   0   0       0        0        0        0           0     1   \n",
       "1       0  ...   0   0       1        0        0        0           1     0   \n",
       "2       0  ...   0   1       0        1        0        0           0     0   \n",
       "3       0  ...   0   0       0        0        0        0           1     0   \n",
       "4       0  ...   0   0       0        0        0        0           1     0   \n",
       "...    ..  ...  ..  ..     ...      ...      ...      ...         ...   ...   \n",
       "13908   0  ...   0   1       0        1        1        0           0     1   \n",
       "13909   0  ...   0   0       0        1        0        0           1     0   \n",
       "13910   0  ...   0   0       0        1        0        0           0     0   \n",
       "13911   0  ...   0   0       0        1        1        0           1     0   \n",
       "13912   0  ...   0   0       0        1        0        1           0     1   \n",
       "\n",
       "       husd  muld  \n",
       "0         0   NaN  \n",
       "1         0   NaN  \n",
       "2         0   NaN  \n",
       "3         0   NaN  \n",
       "4         0   NaN  \n",
       "...     ...   ...  \n",
       "13908     0   NaN  \n",
       "13909     0   NaN  \n",
       "13910     0   NaN  \n",
       "13911     0   NaN  \n",
       "13912     0   NaN  \n",
       "\n",
       "[13913 rows x 24 columns]"
      ]
     },
     "execution_count": 139,
     "metadata": {},
     "output_type": "execute_result"
    }
   ],
   "source": [
    "# Data\n",
    "## loading the data\n",
    "\n",
    "Penn = pd.read_csv(\"C:/Users/Alvaro/Documents/PUCP/Ciclo 2022-1/ML.2022.1/data/penn_jae.dat\" , sep=\"\\s\", engine=\"python\")\n",
    "Penn"
   ]
  },
  {
   "cell_type": "code",
   "execution_count": 193,
   "id": "653b6861",
   "metadata": {},
   "outputs": [
    {
     "name": "stdout",
     "output_type": "stream",
     "text": [
      "(5099, 26)\n"
     ]
    }
   ],
   "source": [
    "# Subset T4\n",
    "\n",
    "Penn = Penn[ (Penn[\"tg\"] == 4) | (Penn[\"tg\"] == 0) ]\n",
    "print(Penn.shape)"
   ]
  },
  {
   "cell_type": "code",
   "execution_count": 194,
   "id": "5c3dc5b5",
   "metadata": {},
   "outputs": [
    {
     "data": {
      "text/plain": [
       "abdt            float64\n",
       "tg              float64\n",
       "inuidur1        float64\n",
       "inuidur2        float64\n",
       "female          float64\n",
       "black           float64\n",
       "hispanic        float64\n",
       "othrace         float64\n",
       "dep             float64\n",
       "q1              float64\n",
       "q2              float64\n",
       "q3              float64\n",
       "q4              float64\n",
       "Unnamed: 13     float64\n",
       "q5              float64\n",
       "q6              float64\n",
       "recall          float64\n",
       "agelt35         float64\n",
       "agegt54         float64\n",
       "durable         float64\n",
       "nondurable      float64\n",
       "lusd            float64\n",
       "husd            float64\n",
       "muld            float64\n",
       "log_inuidur1    float64\n",
       "T4                int32\n",
       "dtype: object"
      ]
     },
     "execution_count": 194,
     "metadata": {},
     "output_type": "execute_result"
    }
   ],
   "source": [
    "Penn.dtypes"
   ]
  },
  {
   "cell_type": "code",
   "execution_count": 195,
   "id": "6066ce9d",
   "metadata": {},
   "outputs": [
    {
     "data": {
      "text/html": [
       "<div>\n",
       "<style scoped>\n",
       "    .dataframe tbody tr th:only-of-type {\n",
       "        vertical-align: middle;\n",
       "    }\n",
       "\n",
       "    .dataframe tbody tr th {\n",
       "        vertical-align: top;\n",
       "    }\n",
       "\n",
       "    .dataframe thead th {\n",
       "        text-align: right;\n",
       "    }\n",
       "</style>\n",
       "<table border=\"1\" class=\"dataframe\">\n",
       "  <thead>\n",
       "    <tr style=\"text-align: right;\">\n",
       "      <th></th>\n",
       "      <th>abdt</th>\n",
       "      <th>tg</th>\n",
       "      <th>inuidur1</th>\n",
       "      <th>inuidur2</th>\n",
       "      <th>female</th>\n",
       "      <th>black</th>\n",
       "      <th>hispanic</th>\n",
       "      <th>othrace</th>\n",
       "      <th>dep</th>\n",
       "      <th>q1</th>\n",
       "      <th>...</th>\n",
       "      <th>recall</th>\n",
       "      <th>agelt35</th>\n",
       "      <th>agegt54</th>\n",
       "      <th>durable</th>\n",
       "      <th>nondurable</th>\n",
       "      <th>lusd</th>\n",
       "      <th>husd</th>\n",
       "      <th>muld</th>\n",
       "      <th>log_inuidur1</th>\n",
       "      <th>T4</th>\n",
       "    </tr>\n",
       "  </thead>\n",
       "  <tbody>\n",
       "    <tr>\n",
       "      <th>0</th>\n",
       "      <td>10824.0</td>\n",
       "      <td>0.0</td>\n",
       "      <td>18.0</td>\n",
       "      <td>18.0</td>\n",
       "      <td>0.0</td>\n",
       "      <td>0.0</td>\n",
       "      <td>0.0</td>\n",
       "      <td>0.0</td>\n",
       "      <td>2.0</td>\n",
       "      <td>0.0</td>\n",
       "      <td>...</td>\n",
       "      <td>0.0</td>\n",
       "      <td>0.0</td>\n",
       "      <td>0.0</td>\n",
       "      <td>0.0</td>\n",
       "      <td>0.0</td>\n",
       "      <td>1.0</td>\n",
       "      <td>0.0</td>\n",
       "      <td>NaN</td>\n",
       "      <td>2.890372</td>\n",
       "      <td>0</td>\n",
       "    </tr>\n",
       "    <tr>\n",
       "      <th>3</th>\n",
       "      <td>10824.0</td>\n",
       "      <td>0.0</td>\n",
       "      <td>1.0</td>\n",
       "      <td>1.0</td>\n",
       "      <td>0.0</td>\n",
       "      <td>0.0</td>\n",
       "      <td>0.0</td>\n",
       "      <td>0.0</td>\n",
       "      <td>0.0</td>\n",
       "      <td>0.0</td>\n",
       "      <td>...</td>\n",
       "      <td>0.0</td>\n",
       "      <td>0.0</td>\n",
       "      <td>0.0</td>\n",
       "      <td>0.0</td>\n",
       "      <td>1.0</td>\n",
       "      <td>0.0</td>\n",
       "      <td>0.0</td>\n",
       "      <td>NaN</td>\n",
       "      <td>0.000000</td>\n",
       "      <td>0</td>\n",
       "    </tr>\n",
       "    <tr>\n",
       "      <th>4</th>\n",
       "      <td>10747.0</td>\n",
       "      <td>0.0</td>\n",
       "      <td>27.0</td>\n",
       "      <td>27.0</td>\n",
       "      <td>0.0</td>\n",
       "      <td>0.0</td>\n",
       "      <td>0.0</td>\n",
       "      <td>0.0</td>\n",
       "      <td>0.0</td>\n",
       "      <td>0.0</td>\n",
       "      <td>...</td>\n",
       "      <td>0.0</td>\n",
       "      <td>0.0</td>\n",
       "      <td>0.0</td>\n",
       "      <td>0.0</td>\n",
       "      <td>1.0</td>\n",
       "      <td>0.0</td>\n",
       "      <td>0.0</td>\n",
       "      <td>NaN</td>\n",
       "      <td>3.295837</td>\n",
       "      <td>0</td>\n",
       "    </tr>\n",
       "    <tr>\n",
       "      <th>11</th>\n",
       "      <td>10607.0</td>\n",
       "      <td>4.0</td>\n",
       "      <td>9.0</td>\n",
       "      <td>9.0</td>\n",
       "      <td>0.0</td>\n",
       "      <td>0.0</td>\n",
       "      <td>0.0</td>\n",
       "      <td>0.0</td>\n",
       "      <td>0.0</td>\n",
       "      <td>0.0</td>\n",
       "      <td>...</td>\n",
       "      <td>1.0</td>\n",
       "      <td>0.0</td>\n",
       "      <td>0.0</td>\n",
       "      <td>0.0</td>\n",
       "      <td>0.0</td>\n",
       "      <td>0.0</td>\n",
       "      <td>1.0</td>\n",
       "      <td>NaN</td>\n",
       "      <td>2.197225</td>\n",
       "      <td>1</td>\n",
       "    </tr>\n",
       "    <tr>\n",
       "      <th>12</th>\n",
       "      <td>10831.0</td>\n",
       "      <td>0.0</td>\n",
       "      <td>27.0</td>\n",
       "      <td>27.0</td>\n",
       "      <td>0.0</td>\n",
       "      <td>0.0</td>\n",
       "      <td>0.0</td>\n",
       "      <td>0.0</td>\n",
       "      <td>1.0</td>\n",
       "      <td>0.0</td>\n",
       "      <td>...</td>\n",
       "      <td>0.0</td>\n",
       "      <td>1.0</td>\n",
       "      <td>1.0</td>\n",
       "      <td>0.0</td>\n",
       "      <td>1.0</td>\n",
       "      <td>0.0</td>\n",
       "      <td>0.0</td>\n",
       "      <td>NaN</td>\n",
       "      <td>3.295837</td>\n",
       "      <td>0</td>\n",
       "    </tr>\n",
       "  </tbody>\n",
       "</table>\n",
       "<p>5 rows × 26 columns</p>\n",
       "</div>"
      ],
      "text/plain": [
       "       abdt   tg  inuidur1  inuidur2  female  black  hispanic  othrace  dep  \\\n",
       "0   10824.0  0.0      18.0      18.0     0.0    0.0       0.0      0.0  2.0   \n",
       "3   10824.0  0.0       1.0       1.0     0.0    0.0       0.0      0.0  0.0   \n",
       "4   10747.0  0.0      27.0      27.0     0.0    0.0       0.0      0.0  0.0   \n",
       "11  10607.0  4.0       9.0       9.0     0.0    0.0       0.0      0.0  0.0   \n",
       "12  10831.0  0.0      27.0      27.0     0.0    0.0       0.0      0.0  1.0   \n",
       "\n",
       "     q1  ...  recall  agelt35  agegt54  durable  nondurable  lusd  husd  muld  \\\n",
       "0   0.0  ...     0.0      0.0      0.0      0.0         0.0   1.0   0.0   NaN   \n",
       "3   0.0  ...     0.0      0.0      0.0      0.0         1.0   0.0   0.0   NaN   \n",
       "4   0.0  ...     0.0      0.0      0.0      0.0         1.0   0.0   0.0   NaN   \n",
       "11  0.0  ...     1.0      0.0      0.0      0.0         0.0   0.0   1.0   NaN   \n",
       "12  0.0  ...     0.0      1.0      1.0      0.0         1.0   0.0   0.0   NaN   \n",
       "\n",
       "    log_inuidur1  T4  \n",
       "0       2.890372   0  \n",
       "3       0.000000   0  \n",
       "4       3.295837   0  \n",
       "11      2.197225   1  \n",
       "12      3.295837   0  \n",
       "\n",
       "[5 rows x 26 columns]"
      ]
     },
     "execution_count": 195,
     "metadata": {},
     "output_type": "execute_result"
    }
   ],
   "source": [
    "# Transform inuidur1 to log\n",
    "Penn[\"log_inuidur1\"] = np.log(Penn[\"inuidur1\"])\n",
    "Penn['T4']=(Penn[['tg']]==4).astype(int)\n",
    "\n",
    "Penn.head()"
   ]
  },
  {
   "cell_type": "code",
   "execution_count": 196,
   "id": "64a9998d",
   "metadata": {},
   "outputs": [
    {
     "data": {
      "text/plain": [
       "abdt            float64\n",
       "tg              float64\n",
       "inuidur1        float64\n",
       "inuidur2        float64\n",
       "female          float64\n",
       "black           float64\n",
       "hispanic        float64\n",
       "othrace         float64\n",
       "dep             float64\n",
       "q1              float64\n",
       "q2              float64\n",
       "q3              float64\n",
       "q4              float64\n",
       "Unnamed: 13     float64\n",
       "q5              float64\n",
       "q6              float64\n",
       "recall          float64\n",
       "agelt35         float64\n",
       "agegt54         float64\n",
       "durable         float64\n",
       "nondurable      float64\n",
       "lusd            float64\n",
       "husd            float64\n",
       "muld            float64\n",
       "log_inuidur1    float64\n",
       "T4                int32\n",
       "dtype: object"
      ]
     },
     "execution_count": 196,
     "metadata": {},
     "output_type": "execute_result"
    }
   ],
   "source": [
    "Penn.dtypes"
   ]
  },
  {
   "cell_type": "code",
   "execution_count": 197,
   "id": "3b325c3e",
   "metadata": {},
   "outputs": [],
   "source": [
    "# Function to get sample.\n",
    "\n",
    "def get_indices(Penn,num_samples):\n",
    "    return  np.random.choice(Penn.index, num_samples, replace=True)"
   ]
  },
  {
   "cell_type": "code",
   "execution_count": 200,
   "id": "b0b87de9",
   "metadata": {},
   "outputs": [
    {
     "data": {
      "text/plain": [
       "array([4110, 8512, 4372, ..., 13047, 6845, 10049], dtype=object)"
      ]
     },
     "execution_count": 200,
     "metadata": {},
     "output_type": "execute_result"
    }
   ],
   "source": [
    "get_indices(Penn,Penn.shape[0])"
   ]
  },
  {
   "cell_type": "code",
   "execution_count": 228,
   "id": "f353a412",
   "metadata": {},
   "outputs": [],
   "source": [
    "# Define function to get estimates from our model equation.\n",
    "\n",
    "def get_estimates(Penn,index):\n",
    "    X = Penn[[\"T4\",\"female\",\"black\",\"othrace\",\"dep\",\"q2\",\"q3\",\"q4\",\"q5\",\"q6\",\"agelt35\",\"agegt54\",\"durable\",\"lusd\",\"husd\"]].loc[index]\n",
    "    y = Penn[\"log_inuidur1\"].loc[index]\n",
    "    \n",
    "    lr = LinearRegression()\n",
    "    lr.fit(X,y)\n",
    "    coef = lr.coef_\n",
    "    return [coef]"
   ]
  },
  {
   "cell_type": "code",
   "execution_count": 295,
   "id": "0ffca943",
   "metadata": {},
   "outputs": [],
   "source": [
    "# Bootstrap process\n",
    "\n",
    "def boot(Penn,func,R):\n",
    "\n",
    "    #We create empty list of the variables of interest\n",
    "    T4 = []\n",
    "    female = []  \n",
    "    black = []\n",
    "\n",
    "    # Loop for each variable\n",
    "    for i in range(R):\n",
    "        T4.append(func(Penn,get_indices(Penn,Penn.shape[0]))[0][0]) # index [] represents position in equation\n",
    "        female.append(func(Penn,get_indices(Penn,Penn.shape[0]))[0][1]) \n",
    "        black.append(func(Penn,get_indices(Penn,Penn.shape[0]))[0][2]) \n",
    "\n",
    "        \n",
    "    T4_statistics = {\"estimated_mean\":np.mean(T4),\"std_error\":np.std(T4)}   \n",
    "    female_statistics = {\"estimated_mean\":np.mean(female),\"std_error\":np.std(female)}\n",
    "    black_statistics = {\"estimated_mean\":np.mean(black),\"std_error\":np.std(black)}   \n",
    "\n",
    "    return {\"T4_estimator\":T4_statistics,\"female_estimator\":female_statistics, \"black_estimator\": black_statistics} "
   ]
  },
  {
   "cell_type": "code",
   "execution_count": 296,
   "id": "9f2db3a5",
   "metadata": {},
   "outputs": [
    {
     "data": {
      "text/plain": [
       "{'T4_estimator': {'estimated_mean': -0.07427484885314675,\n",
       "  'std_error': 0.03538551432205863},\n",
       " 'female_estimator': {'estimated_mean': 0.13787475708232586,\n",
       "  'std_error': 0.03436176800231909},\n",
       " 'black_estimator': {'estimated_mean': -0.308672141930314,\n",
       "  'std_error': 0.06108714482162613}}"
      ]
     },
     "execution_count": 296,
     "metadata": {},
     "output_type": "execute_result"
    }
   ],
   "source": [
    "# 1000 bootstraps\n",
    "\n",
    "results = boot(Penn,get_estimates,1000)\n",
    "results"
   ]
  },
  {
   "cell_type": "code",
   "execution_count": 306,
   "id": "0de63002",
   "metadata": {},
   "outputs": [
    {
     "data": {
      "text/html": [
       "<div>\n",
       "<style scoped>\n",
       "    .dataframe tbody tr th:only-of-type {\n",
       "        vertical-align: middle;\n",
       "    }\n",
       "\n",
       "    .dataframe tbody tr th {\n",
       "        vertical-align: top;\n",
       "    }\n",
       "\n",
       "    .dataframe thead th {\n",
       "        text-align: right;\n",
       "    }\n",
       "</style>\n",
       "<table border=\"1\" class=\"dataframe\">\n",
       "  <thead>\n",
       "    <tr style=\"text-align: right;\">\n",
       "      <th></th>\n",
       "      <th>estimated_mean</th>\n",
       "      <th>std_error</th>\n",
       "    </tr>\n",
       "  </thead>\n",
       "  <tbody>\n",
       "    <tr>\n",
       "      <th>T4_estimator</th>\n",
       "      <td>-0.074275</td>\n",
       "      <td>0.035386</td>\n",
       "    </tr>\n",
       "    <tr>\n",
       "      <th>female_estimator</th>\n",
       "      <td>0.137875</td>\n",
       "      <td>0.034362</td>\n",
       "    </tr>\n",
       "    <tr>\n",
       "      <th>black_estimator</th>\n",
       "      <td>-0.308672</td>\n",
       "      <td>0.061087</td>\n",
       "    </tr>\n",
       "  </tbody>\n",
       "</table>\n",
       "</div>"
      ],
      "text/plain": [
       "                  estimated_mean  std_error\n",
       "T4_estimator           -0.074275   0.035386\n",
       "female_estimator        0.137875   0.034362\n",
       "black_estimator        -0.308672   0.061087"
      ]
     },
     "execution_count": 306,
     "metadata": {},
     "output_type": "execute_result"
    }
   ],
   "source": [
    "# Table of results\n",
    "\n",
    "df =pd.DataFrame.from_dict(results,orient='index')\n",
    "df"
   ]
  },
  {
   "cell_type": "markdown",
   "id": "557303bf",
   "metadata": {},
   "source": [
    "# Comparative models"
   ]
  },
  {
   "cell_type": "code",
   "execution_count": 1,
   "id": "50cdc045",
   "metadata": {},
   "outputs": [],
   "source": [
    "import pyreadr\n",
    "import math\n",
    "import matplotlib.pyplot as plt\n",
    "import random"
   ]
  },
  {
   "cell_type": "code",
   "execution_count": 2,
   "id": "f105ba5e",
   "metadata": {},
   "outputs": [
    {
     "data": {
      "text/plain": [
       "(29217, 23)"
      ]
     },
     "execution_count": 2,
     "metadata": {},
     "output_type": "execute_result"
    }
   ],
   "source": [
    "rdata_read = pyreadr.read_r(\"cps2012.Rdata\")\n",
    "\n",
    "# Extracting the data frame from rdata_read\n",
    "data = rdata_read[ 'data' ]\n",
    "\n",
    "data.shape"
   ]
  },
  {
   "cell_type": "code",
   "execution_count": 6,
   "id": "0bbc50f9",
   "metadata": {},
   "outputs": [],
   "source": [
    "data = data.drop( 'year', axis = 1)"
   ]
  },
  {
   "cell_type": "code",
   "execution_count": 7,
   "id": "9072d004",
   "metadata": {},
   "outputs": [
    {
     "data": {
      "text/html": [
       "<div>\n",
       "<style scoped>\n",
       "    .dataframe tbody tr th:only-of-type {\n",
       "        vertical-align: middle;\n",
       "    }\n",
       "\n",
       "    .dataframe tbody tr th {\n",
       "        vertical-align: top;\n",
       "    }\n",
       "\n",
       "    .dataframe thead th {\n",
       "        text-align: right;\n",
       "    }\n",
       "</style>\n",
       "<table border=\"1\" class=\"dataframe\">\n",
       "  <thead>\n",
       "    <tr style=\"text-align: right;\">\n",
       "      <th></th>\n",
       "      <th>lnw</th>\n",
       "      <th>female</th>\n",
       "      <th>widowed</th>\n",
       "      <th>divorced</th>\n",
       "      <th>separated</th>\n",
       "      <th>nevermarried</th>\n",
       "      <th>hsd08</th>\n",
       "      <th>hsd911</th>\n",
       "      <th>hsg</th>\n",
       "      <th>cg</th>\n",
       "      <th>...</th>\n",
       "      <th>so</th>\n",
       "      <th>we</th>\n",
       "      <th>exp1</th>\n",
       "      <th>exp2</th>\n",
       "      <th>exp3</th>\n",
       "      <th>exp4</th>\n",
       "      <th>weight</th>\n",
       "      <th>married</th>\n",
       "      <th>ne</th>\n",
       "      <th>sc</th>\n",
       "    </tr>\n",
       "  </thead>\n",
       "  <tbody>\n",
       "    <tr>\n",
       "      <th>0</th>\n",
       "      <td>1.909543</td>\n",
       "      <td>1.0</td>\n",
       "      <td>0.0</td>\n",
       "      <td>0.0</td>\n",
       "      <td>0.0</td>\n",
       "      <td>0.0</td>\n",
       "      <td>0.0</td>\n",
       "      <td>0.0</td>\n",
       "      <td>0.0</td>\n",
       "      <td>0.0</td>\n",
       "      <td>...</td>\n",
       "      <td>0.0</td>\n",
       "      <td>0.0</td>\n",
       "      <td>22.0</td>\n",
       "      <td>4.84</td>\n",
       "      <td>10.648</td>\n",
       "      <td>23.4256</td>\n",
       "      <td>569.43</td>\n",
       "      <td>True</td>\n",
       "      <td>True</td>\n",
       "      <td>True</td>\n",
       "    </tr>\n",
       "    <tr>\n",
       "      <th>1</th>\n",
       "      <td>1.365773</td>\n",
       "      <td>1.0</td>\n",
       "      <td>0.0</td>\n",
       "      <td>0.0</td>\n",
       "      <td>0.0</td>\n",
       "      <td>0.0</td>\n",
       "      <td>0.0</td>\n",
       "      <td>1.0</td>\n",
       "      <td>0.0</td>\n",
       "      <td>0.0</td>\n",
       "      <td>...</td>\n",
       "      <td>0.0</td>\n",
       "      <td>0.0</td>\n",
       "      <td>30.0</td>\n",
       "      <td>9.00</td>\n",
       "      <td>27.000</td>\n",
       "      <td>81.0000</td>\n",
       "      <td>625.96</td>\n",
       "      <td>True</td>\n",
       "      <td>True</td>\n",
       "      <td>False</td>\n",
       "    </tr>\n",
       "    <tr>\n",
       "      <th>2</th>\n",
       "      <td>2.540223</td>\n",
       "      <td>0.0</td>\n",
       "      <td>0.0</td>\n",
       "      <td>0.0</td>\n",
       "      <td>0.0</td>\n",
       "      <td>0.0</td>\n",
       "      <td>0.0</td>\n",
       "      <td>0.0</td>\n",
       "      <td>1.0</td>\n",
       "      <td>0.0</td>\n",
       "      <td>...</td>\n",
       "      <td>0.0</td>\n",
       "      <td>0.0</td>\n",
       "      <td>19.0</td>\n",
       "      <td>3.61</td>\n",
       "      <td>6.859</td>\n",
       "      <td>13.0321</td>\n",
       "      <td>264.22</td>\n",
       "      <td>True</td>\n",
       "      <td>True</td>\n",
       "      <td>False</td>\n",
       "    </tr>\n",
       "    <tr>\n",
       "      <th>3</th>\n",
       "      <td>1.801091</td>\n",
       "      <td>1.0</td>\n",
       "      <td>0.0</td>\n",
       "      <td>0.0</td>\n",
       "      <td>0.0</td>\n",
       "      <td>0.0</td>\n",
       "      <td>0.0</td>\n",
       "      <td>0.0</td>\n",
       "      <td>1.0</td>\n",
       "      <td>0.0</td>\n",
       "      <td>...</td>\n",
       "      <td>0.0</td>\n",
       "      <td>0.0</td>\n",
       "      <td>14.0</td>\n",
       "      <td>1.96</td>\n",
       "      <td>2.744</td>\n",
       "      <td>3.8416</td>\n",
       "      <td>256.81</td>\n",
       "      <td>True</td>\n",
       "      <td>True</td>\n",
       "      <td>False</td>\n",
       "    </tr>\n",
       "    <tr>\n",
       "      <th>4</th>\n",
       "      <td>3.349904</td>\n",
       "      <td>0.0</td>\n",
       "      <td>0.0</td>\n",
       "      <td>0.0</td>\n",
       "      <td>0.0</td>\n",
       "      <td>0.0</td>\n",
       "      <td>0.0</td>\n",
       "      <td>0.0</td>\n",
       "      <td>0.0</td>\n",
       "      <td>1.0</td>\n",
       "      <td>...</td>\n",
       "      <td>0.0</td>\n",
       "      <td>0.0</td>\n",
       "      <td>15.0</td>\n",
       "      <td>2.25</td>\n",
       "      <td>3.375</td>\n",
       "      <td>5.0625</td>\n",
       "      <td>256.81</td>\n",
       "      <td>True</td>\n",
       "      <td>True</td>\n",
       "      <td>False</td>\n",
       "    </tr>\n",
       "  </tbody>\n",
       "</table>\n",
       "<p>5 rows × 22 columns</p>\n",
       "</div>"
      ],
      "text/plain": [
       "        lnw  female  widowed  divorced  separated  nevermarried  hsd08  \\\n",
       "0  1.909543     1.0      0.0       0.0        0.0           0.0    0.0   \n",
       "1  1.365773     1.0      0.0       0.0        0.0           0.0    0.0   \n",
       "2  2.540223     0.0      0.0       0.0        0.0           0.0    0.0   \n",
       "3  1.801091     1.0      0.0       0.0        0.0           0.0    0.0   \n",
       "4  3.349904     0.0      0.0       0.0        0.0           0.0    0.0   \n",
       "\n",
       "   hsd911  hsg   cg  ...   so   we  exp1  exp2    exp3     exp4  weight  \\\n",
       "0     0.0  0.0  0.0  ...  0.0  0.0  22.0  4.84  10.648  23.4256  569.43   \n",
       "1     1.0  0.0  0.0  ...  0.0  0.0  30.0  9.00  27.000  81.0000  625.96   \n",
       "2     0.0  1.0  0.0  ...  0.0  0.0  19.0  3.61   6.859  13.0321  264.22   \n",
       "3     0.0  1.0  0.0  ...  0.0  0.0  14.0  1.96   2.744   3.8416  256.81   \n",
       "4     0.0  0.0  1.0  ...  0.0  0.0  15.0  2.25   3.375   5.0625  256.81   \n",
       "\n",
       "   married    ne     sc  \n",
       "0     True  True   True  \n",
       "1     True  True  False  \n",
       "2     True  True  False  \n",
       "3     True  True  False  \n",
       "4     True  True  False  \n",
       "\n",
       "[5 rows x 22 columns]"
      ]
     },
     "execution_count": 7,
     "metadata": {},
     "output_type": "execute_result"
    }
   ],
   "source": [
    "data.head()"
   ]
  },
  {
   "cell_type": "code",
   "execution_count": 24,
   "id": "1cadc323",
   "metadata": {},
   "outputs": [
    {
     "data": {
      "text/plain": [
       "(0.0, 20000.0)"
      ]
     },
     "execution_count": 24,
     "metadata": {},
     "output_type": "execute_result"
    },
    {
     "data": {
      "image/png": "[encoded data removed]",
      "text/plain": [
       "<Figure size 432x288 with 1 Axes>"
      ]
     },
     "metadata": {
      "needs_background": "light"
     },
     "output_type": "display_data"
    }
   ],
   "source": [
    "# Log Wage\n",
    "plt.hist(data.lnw , bins = np.arange(0, 8, 1) )\n",
    "plt.xlabel('hourly wage')\n",
    "plt.ylabel('Frequency')\n",
    "plt.title( 'Empirical wage distribution from the US survey data' )\n",
    "plt.ylim((0, 20000))"
   ]
  },
  {
   "cell_type": "markdown",
   "id": "1d693283",
   "metadata": {},
   "source": [
    "### Analysis\n",
    "\n",
    "1. Data splitting process"
   ]
  },
  {
   "cell_type": "code",
   "execution_count": 26,
   "id": "cfbdaaca",
   "metadata": {},
   "outputs": [],
   "source": [
    "from numpy.random import default_rng"
   ]
  },
  {
   "cell_type": "code",
   "execution_count": 27,
   "id": "5f7b2137",
   "metadata": {},
   "outputs": [],
   "source": [
    "nrow = data.shape[0]\n",
    "length = int(nrow*(3/4)) #  divide 75% for train and 25% for test"
   ]
  },
  {
   "cell_type": "code",
   "execution_count": 28,
   "id": "6607a802",
   "metadata": {},
   "outputs": [],
   "source": [
    "\n",
    "random.seed(30)\n",
    "rng = default_rng()\n",
    "\n",
    "#size = length to use all values from sample train\n",
    "training = rng.choice(nrow, size = length, replace=False) # random sample\n",
    "training_bool = data.index.isin( training )\n",
    "\n",
    "#data_train = data.iloc[training,:] # Alternative\n",
    "\n",
    "data_train = data[training_bool]\n",
    "data_test = data[~training_bool] # for test use the complement of the data"
   ]
  },
  {
   "cell_type": "code",
   "execution_count": 33,
   "id": "6f766964",
   "metadata": {},
   "outputs": [
    {
     "data": {
      "text/plain": [
       "(21912, 22)"
      ]
     },
     "execution_count": 33,
     "metadata": {},
     "output_type": "execute_result"
    }
   ],
   "source": [
    "data_train.shape"
   ]
  },
  {
   "cell_type": "code",
   "execution_count": 34,
   "id": "b8f56b83",
   "metadata": {},
   "outputs": [
    {
     "data": {
      "text/plain": [
       "(7305, 22)"
      ]
     },
     "execution_count": 34,
     "metadata": {},
     "output_type": "execute_result"
    }
   ],
   "source": [
    "data_test.shape"
   ]
  },
  {
   "cell_type": "markdown",
   "id": "50abe138",
   "metadata": {},
   "source": [
    "2. Make matrix of results\n"
   ]
  },
  {
   "cell_type": "code",
   "execution_count": 37,
   "id": "af57d207",
   "metadata": {},
   "outputs": [],
   "source": [
    "\n",
    "import statsmodels.api as sm\n",
    "import statsmodels.formula.api as smf\n",
    "import patsy   # modelmatrix version of phyton"
   ]
  },
  {
   "cell_type": "code",
   "execution_count": 55,
   "id": "b11a7358",
   "metadata": {},
   "outputs": [],
   "source": [
    "# Define Basic Model and Flex Model\n",
    "\n",
    "formula_basic = \"lnw ~ female + female : (widowed + divorced + separated + nevermarried + hsd08 + hsd911 + hsg + cg + ad + mw + so + we + exp1 + exp2 + exp3)\"\n",
    "    \n",
    "formula_flex = \"lnw ~ female + female : (widowed + divorced + separated + nevermarried + hsd08 + hsd911 + hsg + cg + ad + mw + so + we + exp1 + exp2 + exp3) + (widowed + divorced + separated + nevermarried + hsd08 + hsd911 + hsg + cg + ad + mw + so +we + exp1 + exp2 + exp3)**2\"\n"
   ]
  },
  {
   "cell_type": "code",
   "execution_count": 44,
   "id": "b31afb1b",
   "metadata": {},
   "outputs": [],
   "source": [
    "# BASIC MODEL\n",
    "\n",
    "#get matrix of y an x for train data\n",
    "y_basic_train, model_X_basic_train = patsy.dmatrices(formula_basic, data_train, return_type='dataframe')\n",
    "\n",
    "#get matrix of y and X for for test data\n",
    "y_basic_test, model_X_basic_test = patsy.dmatrices(formula_basic, data_test, return_type='dataframe')\n",
    "p_basic = model_X_basic_train.shape[ 1 ]"
   ]
  },
  {
   "cell_type": "code",
   "execution_count": 56,
   "id": "2c18fab4",
   "metadata": {},
   "outputs": [],
   "source": [
    "# FLEX MODEL\n",
    "\n",
    "#get matrix of y an X for train data\n",
    "y_flex_train, model_X_flex_train = patsy.dmatrices(formula_flex, data_train, return_type='dataframe')\n",
    "\n",
    "#get matrix of y and x for test data\n",
    "y_flex_test, model_X_flex_test = patsy.dmatrices(formula_flex, data_test, return_type='dataframe')\n",
    "p_flex = model_X_flex_train.shape[ 1 ]"
   ]
  },
  {
   "cell_type": "code",
   "execution_count": 58,
   "id": "0d9a6387",
   "metadata": {},
   "outputs": [
    {
     "name": "stdout",
     "output_type": "stream",
     "text": [
      "17\n",
      "137\n"
     ]
    }
   ],
   "source": [
    "# Number of regressor per model\n",
    "print(p_basic)\n",
    "print(p_flex)"
   ]
  },
  {
   "cell_type": "code",
   "execution_count": 60,
   "id": "9c5a72fe",
   "metadata": {},
   "outputs": [],
   "source": [
    "# Y is the same for both models basic and flex.\n",
    "\n",
    "Y_train = data_train['lnw']\n",
    "Y_test = data_test['lnw']"
   ]
  },
  {
   "cell_type": "markdown",
   "id": "eef13638",
   "metadata": {},
   "source": [
    "### Linear Models\n",
    "\n",
    "In this section we present the basic and flex regressions on the following linear models:\n",
    "OLS, Lasso (HDM), Lasso - CV ,Elastic Net - CV, Ridge lasso - CV."
   ]
  },
  {
   "cell_type": "markdown",
   "id": "42f36382",
   "metadata": {},
   "source": [
    "#### OLS"
   ]
  },
  {
   "cell_type": "code",
   "execution_count": 61,
   "id": "64ea2749",
   "metadata": {},
   "outputs": [
    {
     "name": "stdout",
     "output_type": "stream",
     "text": [
      "The mean squared error (MSE) using the basic model is equal to , 0.3690577832952085 \n"
     ]
    }
   ],
   "source": [
    "#Basic Model\n",
    "\n",
    "lm_basic = sm.OLS( Y_train, model_X_basic_train )\n",
    "fit_lm_basic = lm_basic.fit()\n",
    "\n",
    "# Compute the Out-Of-Sample Performance (capacidad de ajuste o prediccion)\n",
    "yhat_lm_basic = fit_lm_basic.predict( model_X_basic_test )\n",
    "\n",
    "print( f\"The mean squared error (MSE) using the basic model is equal to , {np.mean((Y_test-yhat_lm_basic)**2)} \") # MSE OLS (basic model)    "
   ]
  },
  {
   "cell_type": "code",
   "execution_count": 62,
   "id": "1320bbb0",
   "metadata": {},
   "outputs": [
    {
     "data": {
      "text/plain": [
       "Coef.       0.369058\n",
       "Std.Err.    0.013780\n",
       "Name: const, dtype: float64"
      ]
     },
     "execution_count": 62,
     "metadata": {},
     "output_type": "execute_result"
    }
   ],
   "source": [
    "# MSE and standard error\n",
    "\n",
    "resid_basic = (Y_test-yhat_lm_basic)**2 #residuals squared\n",
    "\n",
    "MSE_lm_basic = sm.OLS( resid_basic , np.ones( resid_basic.shape[0] ) ).fit().summary2().tables[1].iloc[0, 0:2]\n",
    "MSE_lm_basic"
   ]
  },
  {
   "cell_type": "code",
   "execution_count": 63,
   "id": "3c730de2",
   "metadata": {},
   "outputs": [
    {
     "name": "stdout",
     "output_type": "stream",
     "text": [
      "The R^2 using the basic model is equal to, 0.12243154645125243\n"
     ]
    }
   ],
   "source": [
    "# R-squared\n",
    "R2_lm_basic = 1 - ( MSE_lm_basic[0]/Y_test.var() ) # R square formula\n",
    "print( f\"The R^2 using the basic model is equal to, {R2_lm_basic}\" )  "
   ]
  },
  {
   "cell_type": "code",
   "execution_count": 65,
   "id": "4614275a",
   "metadata": {},
   "outputs": [
    {
     "name": "stdout",
     "output_type": "stream",
     "text": [
      "The mean squared error (MSE) using theflexible model is equal to , 0.31680225105756443 \n"
     ]
    }
   ],
   "source": [
    "# OLS\n",
    "# Flex Model\n",
    "\n",
    "lm_flex = sm.OLS( Y_train, model_X_flex_train )\n",
    "fit_lm_flex = lm_flex.fit()\n",
    "\n",
    "yhat_lm_flex = fit_lm_flex.predict( model_X_flex_test )\n",
    "\n",
    "print( f\"The mean squared error (MSE) using theflexible model is equal to , {np.mean((Y_test-yhat_lm_flex)**2)} \") "
   ]
  },
  {
   "cell_type": "code",
   "execution_count": 66,
   "id": "487f2faa",
   "metadata": {},
   "outputs": [
    {
     "data": {
      "text/plain": [
       "Coef.       0.316802\n",
       "Std.Err.    0.013016\n",
       "Name: const, dtype: float64"
      ]
     },
     "execution_count": 66,
     "metadata": {},
     "output_type": "execute_result"
    }
   ],
   "source": [
    "# MSE and Standard error\n",
    "\n",
    "resid_flex = (Y_test-yhat_lm_flex)**2\n",
    "\n",
    "MSE_lm_flex = sm.OLS( resid_flex , np.ones( resid_flex.shape[0] ) ).fit().summary2().tables[1].iloc[0, 0:2]\n",
    "MSE_lm_flex"
   ]
  },
  {
   "cell_type": "code",
   "execution_count": 67,
   "id": "b17d6428",
   "metadata": {},
   "outputs": [
    {
     "name": "stdout",
     "output_type": "stream",
     "text": [
      "The R^2 using the flex model is equal to, 0.24668798728743813\n"
     ]
    }
   ],
   "source": [
    "R2_lm_flex = 1 - ( MSE_lm_flex[0]/Y_test.var() )\n",
    "\n",
    "print( f\"The R^2 using the flex model is equal to, {R2_lm_flex}\" ) "
   ]
  },
  {
   "cell_type": "markdown",
   "id": "feda2cb3",
   "metadata": {},
   "source": [
    "#### Lasso, Ridge and Elastic Net"
   ]
  },
  {
   "cell_type": "code",
   "execution_count": 69,
   "id": "20ec66b2",
   "metadata": {},
   "outputs": [],
   "source": [
    "import hdmpy"
   ]
  },
  {
   "cell_type": "code",
   "execution_count": 70,
   "id": "d7fc8029",
   "metadata": {},
   "outputs": [
    {
     "name": "stderr",
     "output_type": "stream",
     "text": [
      "C:\\Users\\Alvaro\\anaconda3\\lib\\site-packages\\numpy\\lib\\function_base.py:2642: RuntimeWarning: invalid value encountered in true_divide\n",
      "  c /= stddev[:, None]\n",
      "C:\\Users\\Alvaro\\anaconda3\\lib\\site-packages\\numpy\\lib\\function_base.py:2643: RuntimeWarning: invalid value encountered in true_divide\n",
      "  c /= stddev[None, :]\n",
      "C:\\Users\\Alvaro\\anaconda3\\lib\\site-packages\\numpy\\lib\\function_base.py:2642: RuntimeWarning: invalid value encountered in true_divide\n",
      "  c /= stddev[:, None]\n",
      "C:\\Users\\Alvaro\\anaconda3\\lib\\site-packages\\numpy\\lib\\function_base.py:2643: RuntimeWarning: invalid value encountered in true_divide\n",
      "  c /= stddev[None, :]\n",
      "C:\\Users\\Alvaro\\anaconda3\\lib\\site-packages\\numpy\\lib\\function_base.py:2642: RuntimeWarning: invalid value encountered in true_divide\n",
      "  c /= stddev[:, None]\n",
      "C:\\Users\\Alvaro\\anaconda3\\lib\\site-packages\\numpy\\lib\\function_base.py:2643: RuntimeWarning: invalid value encountered in true_divide\n",
      "  c /= stddev[None, :]\n",
      "C:\\Users\\Alvaro\\anaconda3\\lib\\site-packages\\numpy\\lib\\function_base.py:2642: RuntimeWarning: invalid value encountered in true_divide\n",
      "  c /= stddev[:, None]\n",
      "C:\\Users\\Alvaro\\anaconda3\\lib\\site-packages\\numpy\\lib\\function_base.py:2643: RuntimeWarning: invalid value encountered in true_divide\n",
      "  c /= stddev[None, :]\n",
      "C:\\Users\\Alvaro\\anaconda3\\lib\\site-packages\\numpy\\lib\\function_base.py:2642: RuntimeWarning: invalid value encountered in true_divide\n",
      "  c /= stddev[:, None]\n",
      "C:\\Users\\Alvaro\\anaconda3\\lib\\site-packages\\numpy\\lib\\function_base.py:2643: RuntimeWarning: invalid value encountered in true_divide\n",
      "  c /= stddev[None, :]\n",
      "C:\\Users\\Alvaro\\anaconda3\\lib\\site-packages\\numpy\\lib\\function_base.py:2642: RuntimeWarning: invalid value encountered in true_divide\n",
      "  c /= stddev[:, None]\n",
      "C:\\Users\\Alvaro\\anaconda3\\lib\\site-packages\\numpy\\lib\\function_base.py:2643: RuntimeWarning: invalid value encountered in true_divide\n",
      "  c /= stddev[None, :]\n",
      "C:\\Users\\Alvaro\\anaconda3\\lib\\site-packages\\numpy\\lib\\function_base.py:2642: RuntimeWarning: invalid value encountered in true_divide\n",
      "  c /= stddev[:, None]\n",
      "C:\\Users\\Alvaro\\anaconda3\\lib\\site-packages\\numpy\\lib\\function_base.py:2643: RuntimeWarning: invalid value encountered in true_divide\n",
      "  c /= stddev[None, :]\n",
      "C:\\Users\\Alvaro\\anaconda3\\lib\\site-packages\\numpy\\lib\\function_base.py:2642: RuntimeWarning: invalid value encountered in true_divide\n",
      "  c /= stddev[:, None]\n",
      "C:\\Users\\Alvaro\\anaconda3\\lib\\site-packages\\numpy\\lib\\function_base.py:2643: RuntimeWarning: invalid value encountered in true_divide\n",
      "  c /= stddev[None, :]\n"
     ]
    }
   ],
   "source": [
    "# Lasso HDM\n",
    "fit_rlasso = hdmpy.rlasso( model_X_basic_train.to_numpy() , Y_train.to_numpy().reshape( Y_train.size , 1 ) , post = False )\n",
    "fit_rlasso_post = hdmpy.rlasso( model_X_basic_train.to_numpy() , Y_train.to_numpy().reshape( Y_train.size , 1 ) , post = True )\n"
   ]
  },
  {
   "cell_type": "markdown",
   "id": "6459fc56",
   "metadata": {},
   "source": [
    "#### Basic Model\n",
    "\n",
    "Lasso and Post-Lasso"
   ]
  },
  {
   "cell_type": "code",
   "execution_count": 71,
   "id": "5295e209",
   "metadata": {},
   "outputs": [],
   "source": [
    "# We have to normalize the varibles. \n",
    "# this always do when working with data with significant different ragen such as age and wealth. \n",
    "# to do that we dierenciate the betas with their mean. \n",
    "\n",
    "# Getting mean of each variable (column)\n",
    "meanx = model_X_basic_test.mean( axis = 0 ).values.\\\n",
    "                        reshape( model_X_basic_test.shape[ 1 ] , 1 )\n",
    "\n",
    "# Reducing the mean (standarize)\n",
    "new_x1 = model_X_basic_test.to_numpy() - \\\n",
    "                    (np.ones( ( model_X_basic_test.shape[ 0 ] , 1 ) ) @ meanx.T) # each column has the mean for aeach varialbe\n",
    "\n",
    "# Getting the significant variables\n",
    "x1_est_rlasso = new_x1[ :, fit_rlasso.est['index'].iloc[:, 0].to_list()]\n",
    "\n",
    "# Getting the coef. from significant variables (betas different from zero)\n",
    "beta_rlasso = fit_rlasso.est['beta'].loc[ fit_rlasso.est['index'].\\\n",
    "                                     iloc[:, 0].to_list(), ].to_numpy()\n",
    "\n",
    "# yhat\n",
    "yhat_rlasso = (x1_est_rlasso @ beta_rlasso) + np.mean( Y_test.to_numpy() )\n",
    "residuals_rlasso = Y_test.to_numpy().reshape( Y_test.to_numpy().size, 1)  - yhat_rlasso"
   ]
  },
  {
   "cell_type": "code",
   "execution_count": 74,
   "id": "115d2231",
   "metadata": {},
   "outputs": [],
   "source": [
    "# Post Lasso\n",
    "# same process for Post Lasso\n",
    "\n",
    "# Getting mean of each variable\n",
    "meanx = model_X_basic_test.mean( axis = 0 ).values.\\\n",
    "                        reshape( model_X_basic_test.shape[ 1 ] , 1 )\n",
    "\n",
    "# Reducing the mean\n",
    "new_x1 = model_X_basic_test.to_numpy() - \\\n",
    "                    (np.ones( ( model_X_basic_test.shape[ 0 ] , 1 ) ) @ meanx.T)\n",
    "\n",
    "# Getting the significant variables\n",
    "x1_est_rlasso_post = new_x1[ :, fit_rlasso_post.est['index'].iloc[:, 0].to_list()]\n",
    "\n",
    "# Getting the coef. from significant variables\n",
    "beta_rlasso_post = fit_rlasso_post.est['beta'].loc[ fit_rlasso_post.est['index'].\\\n",
    "                                     iloc[:, 0].to_list(), ].to_numpy()\n",
    "\n",
    "# yhat\n",
    "yhat_rlasso_post = (x1_est_rlasso_post @ beta_rlasso_post) + np.mean( Y_test.to_numpy() )\n",
    "residuals_rlasso_post = Y_test.to_numpy().reshape( Y_test.to_numpy().size, 1)  - yhat_rlasso_post"
   ]
  },
  {
   "cell_type": "code",
   "execution_count": 77,
   "id": "86403ec9",
   "metadata": {},
   "outputs": [],
   "source": [
    "# MSE for lasso and post lasso of Basic Model\n",
    "\n",
    "MSE_lasso = sm.OLS( ( residuals_rlasso )**2 , np.ones( yhat_rlasso.size )  ).fit().summary2().tables[1].round(3)\n",
    "MSE_lasso_post = sm.OLS( ( residuals_rlasso_post )**2  , np.ones( yhat_rlasso_post.size )  ).fit().summary2().tables[1].round(3)"
   ]
  },
  {
   "cell_type": "code",
   "execution_count": 76,
   "id": "fd1dc451",
   "metadata": {},
   "outputs": [
    {
     "name": "stdout",
     "output_type": "stream",
     "text": [
      "The R^2 using the basic model is equal to 0.11769244196341644,for lasso and 0.11769244196341644 for post-lasso\n"
     ]
    }
   ],
   "source": [
    "# R squared for lasso and post lasso of Basic Model\n",
    "\n",
    "R2_lasso = 1 - MSE_lasso.iloc[0, 0]/ np.var( Y_test )\n",
    "R2_lasso_post = 1 - MSE_lasso_post.iloc[0, 0]/ np.var( Y_test )\n",
    "\n",
    "print( f\"The R^2 using the basic model is equal to {R2_lasso},for lasso and {R2_lasso_post} for post-lasso\") # R^2 lasso/post-lasso (basic model) "
   ]
  },
  {
   "cell_type": "markdown",
   "id": "c0b91cbb",
   "metadata": {},
   "source": [
    "#### Flex Model\n",
    "\n",
    "Lasso and Post-Lasso"
   ]
  },
  {
   "cell_type": "code",
   "execution_count": 78,
   "id": "704a8b9c",
   "metadata": {},
   "outputs": [
    {
     "name": "stderr",
     "output_type": "stream",
     "text": [
      "C:\\Users\\Alvaro\\anaconda3\\lib\\site-packages\\numpy\\lib\\function_base.py:2642: RuntimeWarning: invalid value encountered in true_divide\n",
      "  c /= stddev[:, None]\n",
      "C:\\Users\\Alvaro\\anaconda3\\lib\\site-packages\\numpy\\lib\\function_base.py:2643: RuntimeWarning: invalid value encountered in true_divide\n",
      "  c /= stddev[None, :]\n",
      "C:\\Users\\Alvaro\\anaconda3\\lib\\site-packages\\numpy\\lib\\function_base.py:2642: RuntimeWarning: invalid value encountered in true_divide\n",
      "  c /= stddev[:, None]\n",
      "C:\\Users\\Alvaro\\anaconda3\\lib\\site-packages\\numpy\\lib\\function_base.py:2643: RuntimeWarning: invalid value encountered in true_divide\n",
      "  c /= stddev[None, :]\n",
      "C:\\Users\\Alvaro\\anaconda3\\lib\\site-packages\\numpy\\lib\\function_base.py:2642: RuntimeWarning: invalid value encountered in true_divide\n",
      "  c /= stddev[:, None]\n",
      "C:\\Users\\Alvaro\\anaconda3\\lib\\site-packages\\numpy\\lib\\function_base.py:2643: RuntimeWarning: invalid value encountered in true_divide\n",
      "  c /= stddev[None, :]\n",
      "C:\\Users\\Alvaro\\anaconda3\\lib\\site-packages\\numpy\\lib\\function_base.py:2642: RuntimeWarning: invalid value encountered in true_divide\n",
      "  c /= stddev[:, None]\n",
      "C:\\Users\\Alvaro\\anaconda3\\lib\\site-packages\\numpy\\lib\\function_base.py:2643: RuntimeWarning: invalid value encountered in true_divide\n",
      "  c /= stddev[None, :]\n",
      "C:\\Users\\Alvaro\\anaconda3\\lib\\site-packages\\numpy\\lib\\function_base.py:2642: RuntimeWarning: invalid value encountered in true_divide\n",
      "  c /= stddev[:, None]\n",
      "C:\\Users\\Alvaro\\anaconda3\\lib\\site-packages\\numpy\\lib\\function_base.py:2643: RuntimeWarning: invalid value encountered in true_divide\n",
      "  c /= stddev[None, :]\n",
      "C:\\Users\\Alvaro\\anaconda3\\lib\\site-packages\\numpy\\lib\\function_base.py:2642: RuntimeWarning: invalid value encountered in true_divide\n",
      "  c /= stddev[:, None]\n",
      "C:\\Users\\Alvaro\\anaconda3\\lib\\site-packages\\numpy\\lib\\function_base.py:2643: RuntimeWarning: invalid value encountered in true_divide\n",
      "  c /= stddev[None, :]\n",
      "C:\\Users\\Alvaro\\anaconda3\\lib\\site-packages\\numpy\\lib\\function_base.py:2642: RuntimeWarning: invalid value encountered in true_divide\n",
      "  c /= stddev[:, None]\n",
      "C:\\Users\\Alvaro\\anaconda3\\lib\\site-packages\\numpy\\lib\\function_base.py:2643: RuntimeWarning: invalid value encountered in true_divide\n",
      "  c /= stddev[None, :]\n",
      "C:\\Users\\Alvaro\\anaconda3\\lib\\site-packages\\numpy\\lib\\function_base.py:2642: RuntimeWarning: invalid value encountered in true_divide\n",
      "  c /= stddev[:, None]\n",
      "C:\\Users\\Alvaro\\anaconda3\\lib\\site-packages\\numpy\\lib\\function_base.py:2643: RuntimeWarning: invalid value encountered in true_divide\n",
      "  c /= stddev[None, :]\n",
      "C:\\Users\\Alvaro\\anaconda3\\lib\\site-packages\\numpy\\lib\\function_base.py:2642: RuntimeWarning: invalid value encountered in true_divide\n",
      "  c /= stddev[:, None]\n",
      "C:\\Users\\Alvaro\\anaconda3\\lib\\site-packages\\numpy\\lib\\function_base.py:2643: RuntimeWarning: invalid value encountered in true_divide\n",
      "  c /= stddev[None, :]\n"
     ]
    }
   ],
   "source": [
    "fit_rlasso_flex = hdmpy.rlasso( model_X_flex_train.to_numpy() , Y_train.to_numpy().reshape( Y_train.size , 1 ) , post = False )\n",
    "fit_rlasso_post_flex = hdmpy.rlasso( model_X_flex_train.to_numpy() , Y_train.to_numpy().reshape( Y_train.size , 1 ) , post = True )"
   ]
  },
  {
   "cell_type": "code",
   "execution_count": 79,
   "id": "581bef97",
   "metadata": {},
   "outputs": [],
   "source": [
    "# Lasso for flex model\n",
    "\n",
    "# Getting mean of each variable\n",
    "meanx = model_X_flex_test.mean( axis = 0 ).values.\\\n",
    "                        reshape( model_X_flex_test.shape[ 1 ] , 1 )\n",
    "\n",
    "# Reducing the mean\n",
    "new_x1 = model_X_flex_test.to_numpy() - \\\n",
    "                    (np.ones( ( model_X_flex_test.shape[ 0 ] , 1 ) ) @ meanx.T)\n",
    "\n",
    "# Getting the significant variables\n",
    "x1_est_rlasso_flex = new_x1[ :, fit_rlasso_flex.est['index'].iloc[:, 0].to_list()]\n",
    "\n",
    "# Getting the coef. from significant variables\n",
    "beta_rlasso_flex = fit_rlasso_flex.est['beta'].loc[ fit_rlasso_flex.est['index'].\\\n",
    "                                     iloc[:, 0].to_list(), ].to_numpy()\n",
    "\n",
    "# yhat\n",
    "yhat_rlasso_flex = (x1_est_rlasso_flex @ beta_rlasso_flex) + np.mean( Y_test.to_numpy() )\n",
    "residuals_rlasso_flex = Y_test.to_numpy().reshape( Y_test.to_numpy().size, 1)  - yhat_rlasso_flex"
   ]
  },
  {
   "cell_type": "code",
   "execution_count": 80,
   "id": "65cf4cf0",
   "metadata": {},
   "outputs": [],
   "source": [
    "# Post lasso for flex model\n",
    "\n",
    "# Getting mean of each variable\n",
    "meanx = model_X_flex_test.mean( axis = 0 ).values.\\\n",
    "                        reshape( model_X_flex_test.shape[ 1 ] , 1 )\n",
    "\n",
    "# Reducing the mean\n",
    "new_x1 = model_X_flex_test.to_numpy() - \\\n",
    "                    (np.ones( ( model_X_flex_test.shape[ 0 ] , 1 ) ) @ meanx.T)\n",
    "\n",
    "# Getting the significant variables\n",
    "x1_est_rlasso_post_flex = new_x1[ :, fit_rlasso_post_flex.est['index'].iloc[:, 0].to_list()]\n",
    "\n",
    "# Getting the coef. from significant variables\n",
    "beta_rlasso_post_flex = fit_rlasso_post_flex.est['beta'].loc[ fit_rlasso_post_flex.est['index'].\\\n",
    "                                     iloc[:, 0].to_list(), ].to_numpy()\n",
    "\n",
    "# yhat\n",
    "yhat_rlasso_post_flex = (x1_est_rlasso_post_flex @ beta_rlasso_post_flex) + np.mean( Y_test.to_numpy() )\n",
    "residuals_rlasso_post_flex = Y_test.to_numpy().reshape( Y_test.to_numpy().size, 1)  - yhat_rlasso_post_flex"
   ]
  },
  {
   "cell_type": "code",
   "execution_count": 82,
   "id": "8b82d71e",
   "metadata": {},
   "outputs": [],
   "source": [
    "# MSE for lasso and post lasso of Flex Model\n",
    "MSE_lasso_flex = sm.OLS( ( residuals_rlasso_flex )**2 , np.ones( yhat_rlasso_flex.size )  ).fit().summary2().tables[1].round(3)\n",
    "MSE_lasso_post_flex = sm.OLS( ( residuals_rlasso_post_flex )**2  , np.ones( yhat_rlasso_post_flex.size )  ).fit().summary2().tables[1].round(3)"
   ]
  },
  {
   "cell_type": "code",
   "execution_count": 83,
   "id": "5a791aa4",
   "metadata": {},
   "outputs": [
    {
     "name": "stdout",
     "output_type": "stream",
     "text": [
      "The R^2 using the basic model is equal to 0.11769244196341644 for lasso and 0.24611456631375472 for post-lasso\n"
     ]
    }
   ],
   "source": [
    "# R squared for lasso and post lasso of Flex Model\n",
    "R2_lasso_flex = 1 - MSE_lasso.iloc[0, 0]/ np.var( Y_test )\n",
    "R2_lasso_post_flex = 1 - MSE_lasso_post_flex.iloc[0, 0]/ np.var( Y_test )\n",
    "\n",
    "print( f\"The R^2 using the basic model is equal to {R2_lasso_flex} for lasso and {R2_lasso_post_flex} for post-lasso\")\n"
   ]
  },
  {
   "cell_type": "markdown",
   "id": "98b1dc37",
   "metadata": {},
   "source": [
    "### Lasso CV, Ridge Lasso and Elastic Net"
   ]
  },
  {
   "cell_type": "code",
   "execution_count": 84,
   "id": "2f6023de",
   "metadata": {},
   "outputs": [],
   "source": [
    "from sklearn.linear_model import LassoCV\n",
    "from sklearn.preprocessing import StandardScaler\n",
    "from sklearn.linear_model import RidgeCV, ElasticNetCV\n",
    "import statsmodels.api as sm"
   ]
  },
  {
   "cell_type": "code",
   "execution_count": 85,
   "id": "942edb9d",
   "metadata": {},
   "outputs": [
    {
     "data": {
      "text/plain": [
       "array([[-1.32232997],\n",
       "       [-0.3766169 ],\n",
       "       [-1.4849546 ],\n",
       "       ...,\n",
       "       [-0.09861292],\n",
       "       [ 0.52615172],\n",
       "       [-0.53647947]])"
      ]
     },
     "execution_count": 85,
     "metadata": {},
     "output_type": "execute_result"
    }
   ],
   "source": [
    "# this pkg. does the same process to standarize the Y \n",
    "# equal as previous code\n",
    "\n",
    "Y_vec = Y_train.to_numpy().reshape( Y_train.to_numpy().size, 1)\n",
    "\n",
    "# Scalar distribution\n",
    "\n",
    "scaler = StandardScaler()\n",
    "scaler.fit( Y_vec )\n",
    "std_Y = scaler.transform( Y_vec ) #standarize\n",
    "\n",
    "std_Y "
   ]
  },
  {
   "cell_type": "markdown",
   "id": "c217e155",
   "metadata": {},
   "source": [
    "#### Basic Model"
   ]
  },
  {
   "cell_type": "code",
   "execution_count": 86,
   "id": "9a218511",
   "metadata": {},
   "outputs": [
    {
     "name": "stderr",
     "output_type": "stream",
     "text": [
      "C:\\Users\\Alvaro\\anaconda3\\lib\\site-packages\\sklearn\\linear_model\\_coordinate_descent.py:1571: DataConversionWarning: A column-vector y was passed when a 1d array was expected. Please change the shape of y to (n_samples, ), for example using ravel().\n",
      "  y = column_or_1d(y, warn=True)\n",
      "C:\\Users\\Alvaro\\anaconda3\\lib\\site-packages\\sklearn\\linear_model\\_coordinate_descent.py:633: ConvergenceWarning: Objective did not converge. You might want to increase the number of iterations. Duality gap: 4.207397852762369, tolerance: 1.9873272633479093\n",
      "  model = cd_fast.enet_coordinate_descent_gram(\n",
      "C:\\Users\\Alvaro\\anaconda3\\lib\\site-packages\\sklearn\\linear_model\\_coordinate_descent.py:633: ConvergenceWarning: Objective did not converge. You might want to increase the number of iterations. Duality gap: 8.862676885353721, tolerance: 1.9873272633479093\n",
      "  model = cd_fast.enet_coordinate_descent_gram(\n",
      "C:\\Users\\Alvaro\\anaconda3\\lib\\site-packages\\sklearn\\linear_model\\_coordinate_descent.py:633: ConvergenceWarning: Objective did not converge. You might want to increase the number of iterations. Duality gap: 11.46979223226299, tolerance: 1.9873272633479093\n",
      "  model = cd_fast.enet_coordinate_descent_gram(\n",
      "C:\\Users\\Alvaro\\anaconda3\\lib\\site-packages\\sklearn\\linear_model\\_coordinate_descent.py:633: ConvergenceWarning: Objective did not converge. You might want to increase the number of iterations. Duality gap: 6.962519858028827, tolerance: 1.9441240529517354\n",
      "  model = cd_fast.enet_coordinate_descent_gram(\n",
      "C:\\Users\\Alvaro\\anaconda3\\lib\\site-packages\\sklearn\\linear_model\\_coordinate_descent.py:633: ConvergenceWarning: Objective did not converge. You might want to increase the number of iterations. Duality gap: 10.549979231363977, tolerance: 1.9441240529517354\n",
      "  model = cd_fast.enet_coordinate_descent_gram(\n",
      "C:\\Users\\Alvaro\\anaconda3\\lib\\site-packages\\sklearn\\linear_model\\_coordinate_descent.py:633: ConvergenceWarning: Objective did not converge. You might want to increase the number of iterations. Duality gap: 12.398348753784376, tolerance: 1.9441240529517354\n",
      "  model = cd_fast.enet_coordinate_descent_gram(\n",
      "C:\\Users\\Alvaro\\anaconda3\\lib\\site-packages\\sklearn\\linear_model\\_coordinate_descent.py:633: ConvergenceWarning: Objective did not converge. You might want to increase the number of iterations. Duality gap: 7.081898495533096, tolerance: 1.9816610862107646\n",
      "  model = cd_fast.enet_coordinate_descent_gram(\n",
      "C:\\Users\\Alvaro\\anaconda3\\lib\\site-packages\\sklearn\\linear_model\\_coordinate_descent.py:633: ConvergenceWarning: Objective did not converge. You might want to increase the number of iterations. Duality gap: 10.285570482519688, tolerance: 1.9816610862107646\n",
      "  model = cd_fast.enet_coordinate_descent_gram(\n",
      "C:\\Users\\Alvaro\\anaconda3\\lib\\site-packages\\sklearn\\linear_model\\_coordinate_descent.py:633: ConvergenceWarning: Objective did not converge. You might want to increase the number of iterations. Duality gap: 2.3262158468460257, tolerance: 1.9941543038026583\n",
      "  model = cd_fast.enet_coordinate_descent_gram(\n",
      "C:\\Users\\Alvaro\\anaconda3\\lib\\site-packages\\sklearn\\linear_model\\_coordinate_descent.py:633: ConvergenceWarning: Objective did not converge. You might want to increase the number of iterations. Duality gap: 7.391690819036739, tolerance: 1.9941543038026583\n",
      "  model = cd_fast.enet_coordinate_descent_gram(\n",
      "C:\\Users\\Alvaro\\anaconda3\\lib\\site-packages\\sklearn\\linear_model\\_coordinate_descent.py:633: ConvergenceWarning: Objective did not converge. You might want to increase the number of iterations. Duality gap: 10.492660763418826, tolerance: 1.9941543038026583\n",
      "  model = cd_fast.enet_coordinate_descent_gram(\n",
      "C:\\Users\\Alvaro\\anaconda3\\lib\\site-packages\\sklearn\\linear_model\\_coordinate_descent.py:633: ConvergenceWarning: Objective did not converge. You might want to increase the number of iterations. Duality gap: 12.024802141113469, tolerance: 1.9941543038026583\n",
      "  model = cd_fast.enet_coordinate_descent_gram(\n",
      "C:\\Users\\Alvaro\\anaconda3\\lib\\site-packages\\sklearn\\linear_model\\_coordinate_descent.py:633: ConvergenceWarning: Objective did not converge. You might want to increase the number of iterations. Duality gap: 5.701124740386149, tolerance: 1.9791625533645683\n",
      "  model = cd_fast.enet_coordinate_descent_gram(\n",
      "C:\\Users\\Alvaro\\anaconda3\\lib\\site-packages\\sklearn\\linear_model\\_coordinate_descent.py:633: ConvergenceWarning: Objective did not converge. You might want to increase the number of iterations. Duality gap: 9.920574555548228, tolerance: 1.9791625533645683\n",
      "  model = cd_fast.enet_coordinate_descent_gram(\n",
      "C:\\Users\\Alvaro\\anaconda3\\lib\\site-packages\\sklearn\\linear_model\\_coordinate_descent.py:633: ConvergenceWarning: Objective did not converge. You might want to increase the number of iterations. Duality gap: 12.185153268237627, tolerance: 1.9791625533645683\n",
      "  model = cd_fast.enet_coordinate_descent_gram(\n",
      "C:\\Users\\Alvaro\\anaconda3\\lib\\site-packages\\sklearn\\linear_model\\_coordinate_descent.py:633: ConvergenceWarning: Objective did not converge. You might want to increase the number of iterations. Duality gap: 2.173820720461663, tolerance: 1.9533859766351234\n",
      "  model = cd_fast.enet_coordinate_descent_gram(\n",
      "C:\\Users\\Alvaro\\anaconda3\\lib\\site-packages\\sklearn\\linear_model\\_coordinate_descent.py:633: ConvergenceWarning: Objective did not converge. You might want to increase the number of iterations. Duality gap: 7.749950301335048, tolerance: 1.9533859766351234\n",
      "  model = cd_fast.enet_coordinate_descent_gram(\n",
      "C:\\Users\\Alvaro\\anaconda3\\lib\\site-packages\\sklearn\\linear_model\\_coordinate_descent.py:633: ConvergenceWarning: Objective did not converge. You might want to increase the number of iterations. Duality gap: 11.404535696052335, tolerance: 1.9533859766351234\n",
      "  model = cd_fast.enet_coordinate_descent_gram(\n",
      "C:\\Users\\Alvaro\\anaconda3\\lib\\site-packages\\sklearn\\linear_model\\_coordinate_descent.py:633: ConvergenceWarning: Objective did not converge. You might want to increase the number of iterations. Duality gap: 5.965122844929283, tolerance: 1.9914503607282474\n",
      "  model = cd_fast.enet_coordinate_descent_gram(\n",
      "C:\\Users\\Alvaro\\anaconda3\\lib\\site-packages\\sklearn\\linear_model\\_coordinate_descent.py:633: ConvergenceWarning: Objective did not converge. You might want to increase the number of iterations. Duality gap: 10.045077707472956, tolerance: 1.9914503607282474\n",
      "  model = cd_fast.enet_coordinate_descent_gram(\n",
      "C:\\Users\\Alvaro\\anaconda3\\lib\\site-packages\\sklearn\\linear_model\\_coordinate_descent.py:633: ConvergenceWarning: Objective did not converge. You might want to increase the number of iterations. Duality gap: 2.3783500126955914, tolerance: 1.9914503607282474\n",
      "  model = cd_fast.enet_coordinate_descent_gram(\n",
      "C:\\Users\\Alvaro\\anaconda3\\lib\\site-packages\\sklearn\\linear_model\\_coordinate_descent.py:633: ConvergenceWarning: Objective did not converge. You might want to increase the number of iterations. Duality gap: 20.69999567229752, tolerance: 1.9914503607282474\n",
      "  model = cd_fast.enet_coordinate_descent_gram(\n",
      "C:\\Users\\Alvaro\\anaconda3\\lib\\site-packages\\sklearn\\linear_model\\_coordinate_descent.py:633: ConvergenceWarning: Objective did not converge. You might want to increase the number of iterations. Duality gap: 34.194968778290786, tolerance: 1.9914503607282474\n",
      "  model = cd_fast.enet_coordinate_descent_gram(\n",
      "C:\\Users\\Alvaro\\anaconda3\\lib\\site-packages\\sklearn\\linear_model\\_coordinate_descent.py:633: ConvergenceWarning: Objective did not converge. You might want to increase the number of iterations. Duality gap: 41.248209548055456, tolerance: 1.9914503607282474\n",
      "  model = cd_fast.enet_coordinate_descent_gram(\n",
      "C:\\Users\\Alvaro\\anaconda3\\lib\\site-packages\\sklearn\\linear_model\\_coordinate_descent.py:633: ConvergenceWarning: Objective did not converge. You might want to increase the number of iterations. Duality gap: 6.516813896680105, tolerance: 1.9649249397568096\n",
      "  model = cd_fast.enet_coordinate_descent_gram(\n",
      "C:\\Users\\Alvaro\\anaconda3\\lib\\site-packages\\sklearn\\linear_model\\_coordinate_descent.py:633: ConvergenceWarning: Objective did not converge. You might want to increase the number of iterations. Duality gap: 10.262311923925154, tolerance: 1.9649249397568096\n",
      "  model = cd_fast.enet_coordinate_descent_gram(\n",
      "C:\\Users\\Alvaro\\anaconda3\\lib\\site-packages\\sklearn\\linear_model\\_coordinate_descent.py:633: ConvergenceWarning: Objective did not converge. You might want to increase the number of iterations. Duality gap: 2.047482779613347, tolerance: 1.9649249397568096\n",
      "  model = cd_fast.enet_coordinate_descent_gram(\n",
      "C:\\Users\\Alvaro\\anaconda3\\lib\\site-packages\\sklearn\\linear_model\\_coordinate_descent.py:633: ConvergenceWarning: Objective did not converge. You might want to increase the number of iterations. Duality gap: 20.02459813002133, tolerance: 1.9649249397568096\n",
      "  model = cd_fast.enet_coordinate_descent_gram(\n",
      "C:\\Users\\Alvaro\\anaconda3\\lib\\site-packages\\sklearn\\linear_model\\_coordinate_descent.py:633: ConvergenceWarning: Objective did not converge. You might want to increase the number of iterations. Duality gap: 2.47407547507828, tolerance: 1.9756524665988804\n",
      "  model = cd_fast.enet_coordinate_descent_gram(\n",
      "C:\\Users\\Alvaro\\anaconda3\\lib\\site-packages\\sklearn\\linear_model\\_coordinate_descent.py:633: ConvergenceWarning: Objective did not converge. You might want to increase the number of iterations. Duality gap: 7.618893547849439, tolerance: 1.9756524665988804\n",
      "  model = cd_fast.enet_coordinate_descent_gram(\n",
      "C:\\Users\\Alvaro\\anaconda3\\lib\\site-packages\\sklearn\\linear_model\\_coordinate_descent.py:633: ConvergenceWarning: Objective did not converge. You might want to increase the number of iterations. Duality gap: 10.783054393843486, tolerance: 1.9756524665988804\n",
      "  model = cd_fast.enet_coordinate_descent_gram(\n",
      "C:\\Users\\Alvaro\\anaconda3\\lib\\site-packages\\sklearn\\linear_model\\_coordinate_descent.py:633: ConvergenceWarning: Objective did not converge. You might want to increase the number of iterations. Duality gap: 2.921347408362635, tolerance: 1.9444896330434223\n",
      "  model = cd_fast.enet_coordinate_descent_gram(\n"
     ]
    },
    {
     "name": "stderr",
     "output_type": "stream",
     "text": [
      "C:\\Users\\Alvaro\\anaconda3\\lib\\site-packages\\sklearn\\linear_model\\_coordinate_descent.py:633: ConvergenceWarning: Objective did not converge. You might want to increase the number of iterations. Duality gap: 7.794492163040559, tolerance: 1.9444896330434223\n",
      "  model = cd_fast.enet_coordinate_descent_gram(\n",
      "C:\\Users\\Alvaro\\anaconda3\\lib\\site-packages\\sklearn\\linear_model\\_coordinate_descent.py:633: ConvergenceWarning: Objective did not converge. You might want to increase the number of iterations. Duality gap: 10.675806674618798, tolerance: 1.9444896330434223\n",
      "  model = cd_fast.enet_coordinate_descent_gram(\n",
      "C:\\Users\\Alvaro\\anaconda3\\lib\\site-packages\\sklearn\\linear_model\\_coordinate_descent.py:633: ConvergenceWarning: Objective did not converge. You might want to increase the number of iterations. Duality gap: 9.591271941117157, tolerance: 1.9444896330434223\n",
      "  model = cd_fast.enet_coordinate_descent_gram(\n",
      "C:\\Users\\Alvaro\\anaconda3\\lib\\site-packages\\sklearn\\linear_model\\_base.py:141: FutureWarning: 'normalize' was deprecated in version 1.0 and will be removed in 1.2.\n",
      "If you wish to scale the data, use Pipeline with a StandardScaler in a preprocessing stage. To reproduce the previous behavior:\n",
      "\n",
      "from sklearn.pipeline import make_pipeline\n",
      "\n",
      "model = make_pipeline(StandardScaler(with_mean=False), Lasso())\n",
      "\n",
      "If you wish to pass a sample_weight parameter, you need to pass it as a fit parameter to each step of the pipeline as follows:\n",
      "\n",
      "kwargs = {s[0] + '__sample_weight': sample_weight for s in model.steps}\n",
      "model.fit(X, y, **kwargs)\n",
      "\n",
      "Set parameter alpha to: original_alpha * np.sqrt(n_samples). \n",
      "  warnings.warn(\n",
      "C:\\Users\\Alvaro\\anaconda3\\lib\\site-packages\\sklearn\\linear_model\\_coordinate_descent.py:647: ConvergenceWarning: Objective did not converge. You might want to increase the number of iterations, check the scale of the features or consider increasing regularisation. Duality gap: 4.945e+01, tolerance: 2.191e+00\n",
      "  model = cd_fast.enet_coordinate_descent(\n",
      "C:\\Users\\Alvaro\\anaconda3\\lib\\site-packages\\sklearn\\linear_model\\_coordinate_descent.py:1571: DataConversionWarning: A column-vector y was passed when a 1d array was expected. Please change the shape of y to (n_samples, ), for example using ravel().\n",
      "  y = column_or_1d(y, warn=True)\n",
      "C:\\Users\\Alvaro\\anaconda3\\lib\\site-packages\\sklearn\\linear_model\\_base.py:141: FutureWarning: 'normalize' was deprecated in version 1.0 and will be removed in 1.2.\n",
      "If you wish to scale the data, use Pipeline with a StandardScaler in a preprocessing stage. To reproduce the previous behavior:\n",
      "\n",
      "from sklearn.pipeline import make_pipeline\n",
      "\n",
      "model = make_pipeline(StandardScaler(with_mean=False), ElasticNet())\n",
      "\n",
      "If you wish to pass a sample_weight parameter, you need to pass it as a fit parameter to each step of the pipeline as follows:\n",
      "\n",
      "kwargs = {s[0] + '__sample_weight': sample_weight for s in model.steps}\n",
      "model.fit(X, y, **kwargs)\n",
      "\n",
      "Set parameter alpha to original_alpha * np.sqrt(n_samples) if l1_ratio is 1, and to original_alpha * n_samples if l1_ratio is 0. For other values of l1_ratio, no analytic formula is available.\n",
      "  warnings.warn(\n",
      "C:\\Users\\Alvaro\\anaconda3\\lib\\site-packages\\sklearn\\linear_model\\_coordinate_descent.py:1571: DataConversionWarning: A column-vector y was passed when a 1d array was expected. Please change the shape of y to (n_samples, ), for example using ravel().\n",
      "  y = column_or_1d(y, warn=True)\n",
      "C:\\Users\\Alvaro\\anaconda3\\lib\\site-packages\\sklearn\\linear_model\\_base.py:141: FutureWarning: 'normalize' was deprecated in version 1.0 and will be removed in 1.2.\n",
      "If you wish to scale the data, use Pipeline with a StandardScaler in a preprocessing stage. To reproduce the previous behavior:\n",
      "\n",
      "from sklearn.pipeline import make_pipeline\n",
      "\n",
      "model = make_pipeline(StandardScaler(with_mean=False), ElasticNet())\n",
      "\n",
      "If you wish to pass a sample_weight parameter, you need to pass it as a fit parameter to each step of the pipeline as follows:\n",
      "\n",
      "kwargs = {s[0] + '__sample_weight': sample_weight for s in model.steps}\n",
      "model.fit(X, y, **kwargs)\n",
      "\n",
      "Set parameter alpha to original_alpha * np.sqrt(n_samples) if l1_ratio is 1, and to original_alpha * n_samples if l1_ratio is 0. For other values of l1_ratio, no analytic formula is available.\n",
      "  warnings.warn(\n"
     ]
    }
   ],
   "source": [
    "# now stadarrize X\n",
    "\n",
    "# Reshaping Y variable\n",
    "Y_vec = Y_train.to_numpy().reshape(-1, 1)\n",
    "\n",
    "# Scalar distribution\n",
    "scaler = StandardScaler()\n",
    "scaler.fit( Y_vec )  # mean and standar deviation\n",
    "std_Y = scaler.transform( Y_vec )  # scale \n",
    "\n",
    "# Regressions cv = Cross Validation (10 folds)\n",
    "fit_lasso_cv_basic = LassoCV(cv = 10 , random_state = 0 , normalize = True ).fit( model_X_basic_train, std_Y )\n",
    "\n",
    "#these two models require theory not seen in class\n",
    "fit_ridge_basic = ElasticNetCV( cv = 10 , normalize = True , random_state = 0 , l1_ratio = 0.0001 ).fit( model_X_basic_train , std_Y )\n",
    "fit_elnet_basic = ElasticNetCV( cv = 10 , normalize = True , random_state = 0 , l1_ratio = 0.5, max_iter = 100000 ).fit( model_X_basic_train , std_Y )\n",
    "\n",
    "# Predictions using test data\n",
    "\n",
    "yhat_lasso_cv_basic = scaler.inverse_transform( fit_lasso_cv_basic.predict( model_X_basic_test ).reshape(-1, 1) )\n",
    "yhat_ridge_basic = scaler.inverse_transform( fit_ridge_basic.predict( model_X_basic_test ).reshape(-1, 1) )\n",
    "yhat_elnet_basic = scaler.inverse_transform( fit_elnet_basic.predict( model_X_basic_test ).reshape(-1, 1) )"
   ]
  },
  {
   "cell_type": "code",
   "execution_count": 87,
   "id": "62349e84",
   "metadata": {},
   "outputs": [],
   "source": [
    "# MSE for each method\n",
    "\n",
    "MSE_lasso_cv_basic = sm.OLS( ((Y_test.to_numpy().reshape(-1,1) - yhat_lasso_cv_basic)**2 ) , np.ones( yhat_lasso_cv_basic.shape )  ).fit().summary2().tables[1].round(3)\n",
    "MSE_ridge_basic = sm.OLS( ((Y_test.to_numpy().reshape(-1,1) - yhat_ridge_basic)**2 ) , np.ones( yhat_ridge_basic.size )  ).fit().summary2().tables[1].round(3)\n",
    "MSE_elnet_basic = sm.OLS( ((Y_test.to_numpy().reshape(-1,1) - yhat_elnet_basic)**2 ) , np.ones( yhat_elnet_basic.size )  ).fit().summary2().tables[1].round(3)"
   ]
  },
  {
   "cell_type": "code",
   "execution_count": 89,
   "id": "9318b6ff",
   "metadata": {},
   "outputs": [
    {
     "name": "stdout",
     "output_type": "stream",
     "text": [
      "R^2 using cross-validation for lasso, ridge and elastic net in the basic model: 0.0011612550529243038,0.12244881693935483,0.12007062945138558\n"
     ]
    }
   ],
   "source": [
    "# R Squared for each method\n",
    "\n",
    "R2_lasso_cv_basic = 1- MSE_ridge_basic.iloc[0,0] / np.var( Y_test )\n",
    "R2_ridge_basic = 1- MSE_lasso_cv_basic.iloc[0,0] / np.var( Y_test )\n",
    "R2_elnet_basic = 1- MSE_elnet_basic.iloc[0,0] / np.var( Y_test )\n",
    "print( f\"R^2 using cross-validation for lasso, ridge and elastic net in the basic model: {R2_lasso_cv_basic},{R2_ridge_basic},{R2_elnet_basic}\")\n"
   ]
  },
  {
   "cell_type": "markdown",
   "id": "5e0e65bb",
   "metadata": {},
   "source": [
    "#### Flex Model"
   ]
  },
  {
   "cell_type": "code",
   "execution_count": 90,
   "id": "39399945",
   "metadata": {},
   "outputs": [
    {
     "name": "stderr",
     "output_type": "stream",
     "text": [
      "C:\\Users\\Alvaro\\anaconda3\\lib\\site-packages\\sklearn\\linear_model\\_coordinate_descent.py:1571: DataConversionWarning: A column-vector y was passed when a 1d array was expected. Please change the shape of y to (n_samples, ), for example using ravel().\n",
      "  y = column_or_1d(y, warn=True)\n",
      "C:\\Users\\Alvaro\\anaconda3\\lib\\site-packages\\sklearn\\linear_model\\_coordinate_descent.py:633: ConvergenceWarning: Objective did not converge. You might want to increase the number of iterations. Duality gap: 3.274025464874285, tolerance: 1.9873272633479093\n",
      "  model = cd_fast.enet_coordinate_descent_gram(\n",
      "C:\\Users\\Alvaro\\anaconda3\\lib\\site-packages\\sklearn\\linear_model\\_coordinate_descent.py:633: ConvergenceWarning: Objective did not converge. You might want to increase the number of iterations. Duality gap: 3.760125633822099, tolerance: 1.9873272633479093\n",
      "  model = cd_fast.enet_coordinate_descent_gram(\n",
      "C:\\Users\\Alvaro\\anaconda3\\lib\\site-packages\\sklearn\\linear_model\\_coordinate_descent.py:633: ConvergenceWarning: Objective did not converge. You might want to increase the number of iterations. Duality gap: 3.7809803530071804, tolerance: 1.9873272633479093\n",
      "  model = cd_fast.enet_coordinate_descent_gram(\n",
      "C:\\Users\\Alvaro\\anaconda3\\lib\\site-packages\\sklearn\\linear_model\\_coordinate_descent.py:633: ConvergenceWarning: Objective did not converge. You might want to increase the number of iterations. Duality gap: 3.506759299656551, tolerance: 1.9873272633479093\n",
      "  model = cd_fast.enet_coordinate_descent_gram(\n",
      "C:\\Users\\Alvaro\\anaconda3\\lib\\site-packages\\sklearn\\linear_model\\_coordinate_descent.py:633: ConvergenceWarning: Objective did not converge. You might want to increase the number of iterations. Duality gap: 4.323150184216502, tolerance: 1.9873272633479093\n",
      "  model = cd_fast.enet_coordinate_descent_gram(\n",
      "C:\\Users\\Alvaro\\anaconda3\\lib\\site-packages\\sklearn\\linear_model\\_coordinate_descent.py:633: ConvergenceWarning: Objective did not converge. You might want to increase the number of iterations. Duality gap: 4.794757856201613, tolerance: 1.9873272633479093\n",
      "  model = cd_fast.enet_coordinate_descent_gram(\n",
      "C:\\Users\\Alvaro\\anaconda3\\lib\\site-packages\\sklearn\\linear_model\\_coordinate_descent.py:633: ConvergenceWarning: Objective did not converge. You might want to increase the number of iterations. Duality gap: 5.076759057017625, tolerance: 1.9873272633479093\n",
      "  model = cd_fast.enet_coordinate_descent_gram(\n",
      "C:\\Users\\Alvaro\\anaconda3\\lib\\site-packages\\sklearn\\linear_model\\_coordinate_descent.py:633: ConvergenceWarning: Objective did not converge. You might want to increase the number of iterations. Duality gap: 5.181897062184362, tolerance: 1.9873272633479093\n",
      "  model = cd_fast.enet_coordinate_descent_gram(\n",
      "C:\\Users\\Alvaro\\anaconda3\\lib\\site-packages\\sklearn\\linear_model\\_coordinate_descent.py:633: ConvergenceWarning: Objective did not converge. You might want to increase the number of iterations. Duality gap: 3.1194762209815963, tolerance: 1.9441240529517354\n",
      "  model = cd_fast.enet_coordinate_descent_gram(\n",
      "C:\\Users\\Alvaro\\anaconda3\\lib\\site-packages\\sklearn\\linear_model\\_coordinate_descent.py:633: ConvergenceWarning: Objective did not converge. You might want to increase the number of iterations. Duality gap: 3.6916556723845133, tolerance: 1.9441240529517354\n",
      "  model = cd_fast.enet_coordinate_descent_gram(\n",
      "C:\\Users\\Alvaro\\anaconda3\\lib\\site-packages\\sklearn\\linear_model\\_coordinate_descent.py:633: ConvergenceWarning: Objective did not converge. You might want to increase the number of iterations. Duality gap: 2.78799635453106, tolerance: 1.9441240529517354\n",
      "  model = cd_fast.enet_coordinate_descent_gram(\n",
      "C:\\Users\\Alvaro\\anaconda3\\lib\\site-packages\\sklearn\\linear_model\\_coordinate_descent.py:633: ConvergenceWarning: Objective did not converge. You might want to increase the number of iterations. Duality gap: 4.5234975739113, tolerance: 1.9441240529517354\n",
      "  model = cd_fast.enet_coordinate_descent_gram(\n",
      "C:\\Users\\Alvaro\\anaconda3\\lib\\site-packages\\sklearn\\linear_model\\_coordinate_descent.py:633: ConvergenceWarning: Objective did not converge. You might want to increase the number of iterations. Duality gap: 5.204934322402551, tolerance: 1.9441240529517354\n",
      "  model = cd_fast.enet_coordinate_descent_gram(\n",
      "C:\\Users\\Alvaro\\anaconda3\\lib\\site-packages\\sklearn\\linear_model\\_coordinate_descent.py:633: ConvergenceWarning: Objective did not converge. You might want to increase the number of iterations. Duality gap: 5.457271305105678, tolerance: 1.9441240529517354\n",
      "  model = cd_fast.enet_coordinate_descent_gram(\n",
      "C:\\Users\\Alvaro\\anaconda3\\lib\\site-packages\\sklearn\\linear_model\\_coordinate_descent.py:633: ConvergenceWarning: Objective did not converge. You might want to increase the number of iterations. Duality gap: 5.6129320795062085, tolerance: 1.9441240529517354\n",
      "  model = cd_fast.enet_coordinate_descent_gram(\n",
      "C:\\Users\\Alvaro\\anaconda3\\lib\\site-packages\\sklearn\\linear_model\\_coordinate_descent.py:633: ConvergenceWarning: Objective did not converge. You might want to increase the number of iterations. Duality gap: 2.6468733744095516, tolerance: 1.9816610862107646\n",
      "  model = cd_fast.enet_coordinate_descent_gram(\n",
      "C:\\Users\\Alvaro\\anaconda3\\lib\\site-packages\\sklearn\\linear_model\\_coordinate_descent.py:633: ConvergenceWarning: Objective did not converge. You might want to increase the number of iterations. Duality gap: 3.3077623482240597, tolerance: 1.9816610862107646\n",
      "  model = cd_fast.enet_coordinate_descent_gram(\n",
      "C:\\Users\\Alvaro\\anaconda3\\lib\\site-packages\\sklearn\\linear_model\\_coordinate_descent.py:633: ConvergenceWarning: Objective did not converge. You might want to increase the number of iterations. Duality gap: 3.665646982470207, tolerance: 1.9816610862107646\n",
      "  model = cd_fast.enet_coordinate_descent_gram(\n",
      "C:\\Users\\Alvaro\\anaconda3\\lib\\site-packages\\sklearn\\linear_model\\_coordinate_descent.py:633: ConvergenceWarning: Objective did not converge. You might want to increase the number of iterations. Duality gap: 2.2855627467852173, tolerance: 1.9816610862107646\n",
      "  model = cd_fast.enet_coordinate_descent_gram(\n",
      "C:\\Users\\Alvaro\\anaconda3\\lib\\site-packages\\sklearn\\linear_model\\_coordinate_descent.py:633: ConvergenceWarning: Objective did not converge. You might want to increase the number of iterations. Duality gap: 4.028842695552157, tolerance: 1.9816610862107646\n",
      "  model = cd_fast.enet_coordinate_descent_gram(\n",
      "C:\\Users\\Alvaro\\anaconda3\\lib\\site-packages\\sklearn\\linear_model\\_coordinate_descent.py:633: ConvergenceWarning: Objective did not converge. You might want to increase the number of iterations. Duality gap: 5.059922731690676, tolerance: 1.9816610862107646\n",
      "  model = cd_fast.enet_coordinate_descent_gram(\n",
      "C:\\Users\\Alvaro\\anaconda3\\lib\\site-packages\\sklearn\\linear_model\\_coordinate_descent.py:633: ConvergenceWarning: Objective did not converge. You might want to increase the number of iterations. Duality gap: 5.78399090314997, tolerance: 1.9816610862107646\n",
      "  model = cd_fast.enet_coordinate_descent_gram(\n",
      "C:\\Users\\Alvaro\\anaconda3\\lib\\site-packages\\sklearn\\linear_model\\_coordinate_descent.py:633: ConvergenceWarning: Objective did not converge. You might want to increase the number of iterations. Duality gap: 6.218251780710489, tolerance: 1.9816610862107646\n",
      "  model = cd_fast.enet_coordinate_descent_gram(\n",
      "C:\\Users\\Alvaro\\anaconda3\\lib\\site-packages\\sklearn\\linear_model\\_coordinate_descent.py:633: ConvergenceWarning: Objective did not converge. You might want to increase the number of iterations. Duality gap: 3.2766620069833152, tolerance: 1.9941543038026583\n",
      "  model = cd_fast.enet_coordinate_descent_gram(\n",
      "C:\\Users\\Alvaro\\anaconda3\\lib\\site-packages\\sklearn\\linear_model\\_coordinate_descent.py:633: ConvergenceWarning: Objective did not converge. You might want to increase the number of iterations. Duality gap: 4.159557326092909, tolerance: 1.9941543038026583\n",
      "  model = cd_fast.enet_coordinate_descent_gram(\n",
      "C:\\Users\\Alvaro\\anaconda3\\lib\\site-packages\\sklearn\\linear_model\\_coordinate_descent.py:633: ConvergenceWarning: Objective did not converge. You might want to increase the number of iterations. Duality gap: 4.567758831943138, tolerance: 1.9941543038026583\n",
      "  model = cd_fast.enet_coordinate_descent_gram(\n",
      "C:\\Users\\Alvaro\\anaconda3\\lib\\site-packages\\sklearn\\linear_model\\_coordinate_descent.py:633: ConvergenceWarning: Objective did not converge. You might want to increase the number of iterations. Duality gap: 2.5788522657894646, tolerance: 1.9941543038026583\n",
      "  model = cd_fast.enet_coordinate_descent_gram(\n",
      "C:\\Users\\Alvaro\\anaconda3\\lib\\site-packages\\sklearn\\linear_model\\_coordinate_descent.py:633: ConvergenceWarning: Objective did not converge. You might want to increase the number of iterations. Duality gap: 4.223532728483406, tolerance: 1.9941543038026583\n",
      "  model = cd_fast.enet_coordinate_descent_gram(\n",
      "C:\\Users\\Alvaro\\anaconda3\\lib\\site-packages\\sklearn\\linear_model\\_coordinate_descent.py:633: ConvergenceWarning: Objective did not converge. You might want to increase the number of iterations. Duality gap: 5.089396617990133, tolerance: 1.9941543038026583\n",
      "  model = cd_fast.enet_coordinate_descent_gram(\n",
      "C:\\Users\\Alvaro\\anaconda3\\lib\\site-packages\\sklearn\\linear_model\\_coordinate_descent.py:633: ConvergenceWarning: Objective did not converge. You might want to increase the number of iterations. Duality gap: 5.483428114997878, tolerance: 1.9941543038026583\n",
      "  model = cd_fast.enet_coordinate_descent_gram(\n",
      "C:\\Users\\Alvaro\\anaconda3\\lib\\site-packages\\sklearn\\linear_model\\_coordinate_descent.py:633: ConvergenceWarning: Objective did not converge. You might want to increase the number of iterations. Duality gap: 5.471062322592843, tolerance: 1.9941543038026583\n",
      "  model = cd_fast.enet_coordinate_descent_gram(\n",
      "C:\\Users\\Alvaro\\anaconda3\\lib\\site-packages\\sklearn\\linear_model\\_coordinate_descent.py:633: ConvergenceWarning: Objective did not converge. You might want to increase the number of iterations. Duality gap: 5.416442159330472, tolerance: 1.9941543038026583\n",
      "  model = cd_fast.enet_coordinate_descent_gram(\n"
     ]
    },
    {
     "name": "stderr",
     "output_type": "stream",
     "text": [
      "C:\\Users\\Alvaro\\anaconda3\\lib\\site-packages\\sklearn\\linear_model\\_coordinate_descent.py:633: ConvergenceWarning: Objective did not converge. You might want to increase the number of iterations. Duality gap: 2.8466959956804203, tolerance: 1.9791625533645683\n",
      "  model = cd_fast.enet_coordinate_descent_gram(\n",
      "C:\\Users\\Alvaro\\anaconda3\\lib\\site-packages\\sklearn\\linear_model\\_coordinate_descent.py:633: ConvergenceWarning: Objective did not converge. You might want to increase the number of iterations. Duality gap: 3.6092295405178447, tolerance: 1.9791625533645683\n",
      "  model = cd_fast.enet_coordinate_descent_gram(\n",
      "C:\\Users\\Alvaro\\anaconda3\\lib\\site-packages\\sklearn\\linear_model\\_coordinate_descent.py:633: ConvergenceWarning: Objective did not converge. You might want to increase the number of iterations. Duality gap: 3.689568534548016, tolerance: 1.9791625533645683\n",
      "  model = cd_fast.enet_coordinate_descent_gram(\n",
      "C:\\Users\\Alvaro\\anaconda3\\lib\\site-packages\\sklearn\\linear_model\\_coordinate_descent.py:633: ConvergenceWarning: Objective did not converge. You might want to increase the number of iterations. Duality gap: 3.6987613087876525, tolerance: 1.9791625533645683\n",
      "  model = cd_fast.enet_coordinate_descent_gram(\n",
      "C:\\Users\\Alvaro\\anaconda3\\lib\\site-packages\\sklearn\\linear_model\\_coordinate_descent.py:633: ConvergenceWarning: Objective did not converge. You might want to increase the number of iterations. Duality gap: 3.508737490810745, tolerance: 1.9791625533645683\n",
      "  model = cd_fast.enet_coordinate_descent_gram(\n",
      "C:\\Users\\Alvaro\\anaconda3\\lib\\site-packages\\sklearn\\linear_model\\_coordinate_descent.py:633: ConvergenceWarning: Objective did not converge. You might want to increase the number of iterations. Duality gap: 5.080234021024808, tolerance: 1.9791625533645683\n",
      "  model = cd_fast.enet_coordinate_descent_gram(\n",
      "C:\\Users\\Alvaro\\anaconda3\\lib\\site-packages\\sklearn\\linear_model\\_coordinate_descent.py:633: ConvergenceWarning: Objective did not converge. You might want to increase the number of iterations. Duality gap: 5.466648916051781, tolerance: 1.9791625533645683\n",
      "  model = cd_fast.enet_coordinate_descent_gram(\n",
      "C:\\Users\\Alvaro\\anaconda3\\lib\\site-packages\\sklearn\\linear_model\\_coordinate_descent.py:633: ConvergenceWarning: Objective did not converge. You might want to increase the number of iterations. Duality gap: 5.659753161444314, tolerance: 1.9791625533645683\n",
      "  model = cd_fast.enet_coordinate_descent_gram(\n",
      "C:\\Users\\Alvaro\\anaconda3\\lib\\site-packages\\sklearn\\linear_model\\_coordinate_descent.py:633: ConvergenceWarning: Objective did not converge. You might want to increase the number of iterations. Duality gap: 5.74859672751154, tolerance: 1.9791625533645683\n",
      "  model = cd_fast.enet_coordinate_descent_gram(\n",
      "C:\\Users\\Alvaro\\anaconda3\\lib\\site-packages\\sklearn\\linear_model\\_coordinate_descent.py:633: ConvergenceWarning: Objective did not converge. You might want to increase the number of iterations. Duality gap: 2.9156646544452087, tolerance: 1.9533859766351234\n",
      "  model = cd_fast.enet_coordinate_descent_gram(\n",
      "C:\\Users\\Alvaro\\anaconda3\\lib\\site-packages\\sklearn\\linear_model\\_coordinate_descent.py:633: ConvergenceWarning: Objective did not converge. You might want to increase the number of iterations. Duality gap: 3.3183115483461734, tolerance: 1.9533859766351234\n",
      "  model = cd_fast.enet_coordinate_descent_gram(\n",
      "C:\\Users\\Alvaro\\anaconda3\\lib\\site-packages\\sklearn\\linear_model\\_coordinate_descent.py:633: ConvergenceWarning: Objective did not converge. You might want to increase the number of iterations. Duality gap: 3.4365182363198983, tolerance: 1.9533859766351234\n",
      "  model = cd_fast.enet_coordinate_descent_gram(\n",
      "C:\\Users\\Alvaro\\anaconda3\\lib\\site-packages\\sklearn\\linear_model\\_coordinate_descent.py:633: ConvergenceWarning: Objective did not converge. You might want to increase the number of iterations. Duality gap: 3.5323308348633873, tolerance: 1.9533859766351234\n",
      "  model = cd_fast.enet_coordinate_descent_gram(\n",
      "C:\\Users\\Alvaro\\anaconda3\\lib\\site-packages\\sklearn\\linear_model\\_coordinate_descent.py:633: ConvergenceWarning: Objective did not converge. You might want to increase the number of iterations. Duality gap: 4.737261231710363, tolerance: 1.9533859766351234\n",
      "  model = cd_fast.enet_coordinate_descent_gram(\n",
      "C:\\Users\\Alvaro\\anaconda3\\lib\\site-packages\\sklearn\\linear_model\\_coordinate_descent.py:633: ConvergenceWarning: Objective did not converge. You might want to increase the number of iterations. Duality gap: 5.435242722211115, tolerance: 1.9533859766351234\n",
      "  model = cd_fast.enet_coordinate_descent_gram(\n",
      "C:\\Users\\Alvaro\\anaconda3\\lib\\site-packages\\sklearn\\linear_model\\_coordinate_descent.py:633: ConvergenceWarning: Objective did not converge. You might want to increase the number of iterations. Duality gap: 6.233236693013168, tolerance: 1.9533859766351234\n",
      "  model = cd_fast.enet_coordinate_descent_gram(\n",
      "C:\\Users\\Alvaro\\anaconda3\\lib\\site-packages\\sklearn\\linear_model\\_coordinate_descent.py:633: ConvergenceWarning: Objective did not converge. You might want to increase the number of iterations. Duality gap: 2.1128582603250834, tolerance: 1.9914503607282474\n",
      "  model = cd_fast.enet_coordinate_descent_gram(\n",
      "C:\\Users\\Alvaro\\anaconda3\\lib\\site-packages\\sklearn\\linear_model\\_coordinate_descent.py:633: ConvergenceWarning: Objective did not converge. You might want to increase the number of iterations. Duality gap: 3.207412714127713, tolerance: 1.9914503607282474\n",
      "  model = cd_fast.enet_coordinate_descent_gram(\n",
      "C:\\Users\\Alvaro\\anaconda3\\lib\\site-packages\\sklearn\\linear_model\\_coordinate_descent.py:633: ConvergenceWarning: Objective did not converge. You might want to increase the number of iterations. Duality gap: 3.695061928481664, tolerance: 1.9914503607282474\n",
      "  model = cd_fast.enet_coordinate_descent_gram(\n",
      "C:\\Users\\Alvaro\\anaconda3\\lib\\site-packages\\sklearn\\linear_model\\_coordinate_descent.py:633: ConvergenceWarning: Objective did not converge. You might want to increase the number of iterations. Duality gap: 4.0323253679562185, tolerance: 1.9914503607282474\n",
      "  model = cd_fast.enet_coordinate_descent_gram(\n",
      "C:\\Users\\Alvaro\\anaconda3\\lib\\site-packages\\sklearn\\linear_model\\_coordinate_descent.py:633: ConvergenceWarning: Objective did not converge. You might want to increase the number of iterations. Duality gap: 3.4140492566875764, tolerance: 1.9914503607282474\n",
      "  model = cd_fast.enet_coordinate_descent_gram(\n",
      "C:\\Users\\Alvaro\\anaconda3\\lib\\site-packages\\sklearn\\linear_model\\_coordinate_descent.py:633: ConvergenceWarning: Objective did not converge. You might want to increase the number of iterations. Duality gap: 2.083053997690513, tolerance: 1.9649249397568096\n",
      "  model = cd_fast.enet_coordinate_descent_gram(\n",
      "C:\\Users\\Alvaro\\anaconda3\\lib\\site-packages\\sklearn\\linear_model\\_coordinate_descent.py:633: ConvergenceWarning: Objective did not converge. You might want to increase the number of iterations. Duality gap: 3.2704035032802494, tolerance: 1.9649249397568096\n",
      "  model = cd_fast.enet_coordinate_descent_gram(\n",
      "C:\\Users\\Alvaro\\anaconda3\\lib\\site-packages\\sklearn\\linear_model\\_coordinate_descent.py:633: ConvergenceWarning: Objective did not converge. You might want to increase the number of iterations. Duality gap: 3.743862904739217, tolerance: 1.9649249397568096\n",
      "  model = cd_fast.enet_coordinate_descent_gram(\n",
      "C:\\Users\\Alvaro\\anaconda3\\lib\\site-packages\\sklearn\\linear_model\\_coordinate_descent.py:633: ConvergenceWarning: Objective did not converge. You might want to increase the number of iterations. Duality gap: 4.5835580702059815, tolerance: 1.9649249397568096\n",
      "  model = cd_fast.enet_coordinate_descent_gram(\n",
      "C:\\Users\\Alvaro\\anaconda3\\lib\\site-packages\\sklearn\\linear_model\\_coordinate_descent.py:633: ConvergenceWarning: Objective did not converge. You might want to increase the number of iterations. Duality gap: 5.013000414917769, tolerance: 1.9649249397568096\n",
      "  model = cd_fast.enet_coordinate_descent_gram(\n",
      "C:\\Users\\Alvaro\\anaconda3\\lib\\site-packages\\sklearn\\linear_model\\_coordinate_descent.py:633: ConvergenceWarning: Objective did not converge. You might want to increase the number of iterations. Duality gap: 5.2941315525749815, tolerance: 1.9649249397568096\n",
      "  model = cd_fast.enet_coordinate_descent_gram(\n",
      "C:\\Users\\Alvaro\\anaconda3\\lib\\site-packages\\sklearn\\linear_model\\_coordinate_descent.py:633: ConvergenceWarning: Objective did not converge. You might want to increase the number of iterations. Duality gap: 5.409338830013439, tolerance: 1.9649249397568096\n",
      "  model = cd_fast.enet_coordinate_descent_gram(\n"
     ]
    },
    {
     "name": "stderr",
     "output_type": "stream",
     "text": [
      "C:\\Users\\Alvaro\\anaconda3\\lib\\site-packages\\sklearn\\linear_model\\_coordinate_descent.py:633: ConvergenceWarning: Objective did not converge. You might want to increase the number of iterations. Duality gap: 3.4811243639414897, tolerance: 1.9756524665988804\n",
      "  model = cd_fast.enet_coordinate_descent_gram(\n",
      "C:\\Users\\Alvaro\\anaconda3\\lib\\site-packages\\sklearn\\linear_model\\_coordinate_descent.py:633: ConvergenceWarning: Objective did not converge. You might want to increase the number of iterations. Duality gap: 4.208428575631842, tolerance: 1.9756524665988804\n",
      "  model = cd_fast.enet_coordinate_descent_gram(\n",
      "C:\\Users\\Alvaro\\anaconda3\\lib\\site-packages\\sklearn\\linear_model\\_coordinate_descent.py:633: ConvergenceWarning: Objective did not converge. You might want to increase the number of iterations. Duality gap: 3.8063098575403274, tolerance: 1.9756524665988804\n",
      "  model = cd_fast.enet_coordinate_descent_gram(\n",
      "C:\\Users\\Alvaro\\anaconda3\\lib\\site-packages\\sklearn\\linear_model\\_coordinate_descent.py:633: ConvergenceWarning: Objective did not converge. You might want to increase the number of iterations. Duality gap: 3.076698888991814, tolerance: 1.9756524665988804\n",
      "  model = cd_fast.enet_coordinate_descent_gram(\n",
      "C:\\Users\\Alvaro\\anaconda3\\lib\\site-packages\\sklearn\\linear_model\\_coordinate_descent.py:633: ConvergenceWarning: Objective did not converge. You might want to increase the number of iterations. Duality gap: 3.6357163774100627, tolerance: 1.9756524665988804\n",
      "  model = cd_fast.enet_coordinate_descent_gram(\n",
      "C:\\Users\\Alvaro\\anaconda3\\lib\\site-packages\\sklearn\\linear_model\\_coordinate_descent.py:633: ConvergenceWarning: Objective did not converge. You might want to increase the number of iterations. Duality gap: 4.7112987699620135, tolerance: 1.9756524665988804\n",
      "  model = cd_fast.enet_coordinate_descent_gram(\n",
      "C:\\Users\\Alvaro\\anaconda3\\lib\\site-packages\\sklearn\\linear_model\\_coordinate_descent.py:633: ConvergenceWarning: Objective did not converge. You might want to increase the number of iterations. Duality gap: 5.272486438638225, tolerance: 1.9756524665988804\n",
      "  model = cd_fast.enet_coordinate_descent_gram(\n",
      "C:\\Users\\Alvaro\\anaconda3\\lib\\site-packages\\sklearn\\linear_model\\_coordinate_descent.py:633: ConvergenceWarning: Objective did not converge. You might want to increase the number of iterations. Duality gap: 5.542122983686568, tolerance: 1.9756524665988804\n",
      "  model = cd_fast.enet_coordinate_descent_gram(\n",
      "C:\\Users\\Alvaro\\anaconda3\\lib\\site-packages\\sklearn\\linear_model\\_coordinate_descent.py:633: ConvergenceWarning: Objective did not converge. You might want to increase the number of iterations. Duality gap: 2.881757165738236, tolerance: 1.9444896330434223\n",
      "  model = cd_fast.enet_coordinate_descent_gram(\n",
      "C:\\Users\\Alvaro\\anaconda3\\lib\\site-packages\\sklearn\\linear_model\\_coordinate_descent.py:633: ConvergenceWarning: Objective did not converge. You might want to increase the number of iterations. Duality gap: 3.272525066297021, tolerance: 1.9444896330434223\n",
      "  model = cd_fast.enet_coordinate_descent_gram(\n",
      "C:\\Users\\Alvaro\\anaconda3\\lib\\site-packages\\sklearn\\linear_model\\_coordinate_descent.py:633: ConvergenceWarning: Objective did not converge. You might want to increase the number of iterations. Duality gap: 3.4194900698876154, tolerance: 1.9444896330434223\n",
      "  model = cd_fast.enet_coordinate_descent_gram(\n",
      "C:\\Users\\Alvaro\\anaconda3\\lib\\site-packages\\sklearn\\linear_model\\_coordinate_descent.py:633: ConvergenceWarning: Objective did not converge. You might want to increase the number of iterations. Duality gap: 3.5558994449511374, tolerance: 1.9444896330434223\n",
      "  model = cd_fast.enet_coordinate_descent_gram(\n",
      "C:\\Users\\Alvaro\\anaconda3\\lib\\site-packages\\sklearn\\linear_model\\_coordinate_descent.py:633: ConvergenceWarning: Objective did not converge. You might want to increase the number of iterations. Duality gap: 2.773452973618987, tolerance: 1.9444896330434223\n",
      "  model = cd_fast.enet_coordinate_descent_gram(\n",
      "C:\\Users\\Alvaro\\anaconda3\\lib\\site-packages\\sklearn\\linear_model\\_coordinate_descent.py:633: ConvergenceWarning: Objective did not converge. You might want to increase the number of iterations. Duality gap: 3.9283842956647277, tolerance: 1.9444896330434223\n",
      "  model = cd_fast.enet_coordinate_descent_gram(\n",
      "C:\\Users\\Alvaro\\anaconda3\\lib\\site-packages\\sklearn\\linear_model\\_coordinate_descent.py:633: ConvergenceWarning: Objective did not converge. You might want to increase the number of iterations. Duality gap: 4.5569013619915495, tolerance: 1.9444896330434223\n",
      "  model = cd_fast.enet_coordinate_descent_gram(\n",
      "C:\\Users\\Alvaro\\anaconda3\\lib\\site-packages\\sklearn\\linear_model\\_coordinate_descent.py:633: ConvergenceWarning: Objective did not converge. You might want to increase the number of iterations. Duality gap: 4.863520617818722, tolerance: 1.9444896330434223\n",
      "  model = cd_fast.enet_coordinate_descent_gram(\n",
      "C:\\Users\\Alvaro\\anaconda3\\lib\\site-packages\\sklearn\\linear_model\\_base.py:141: FutureWarning: 'normalize' was deprecated in version 1.0 and will be removed in 1.2.\n",
      "If you wish to scale the data, use Pipeline with a StandardScaler in a preprocessing stage. To reproduce the previous behavior:\n",
      "\n",
      "from sklearn.pipeline import make_pipeline\n",
      "\n",
      "model = make_pipeline(StandardScaler(with_mean=False), Lasso())\n",
      "\n",
      "If you wish to pass a sample_weight parameter, you need to pass it as a fit parameter to each step of the pipeline as follows:\n",
      "\n",
      "kwargs = {s[0] + '__sample_weight': sample_weight for s in model.steps}\n",
      "model.fit(X, y, **kwargs)\n",
      "\n",
      "Set parameter alpha to: original_alpha * np.sqrt(n_samples). \n",
      "  warnings.warn(\n",
      "C:\\Users\\Alvaro\\anaconda3\\lib\\site-packages\\sklearn\\linear_model\\_coordinate_descent.py:1571: DataConversionWarning: A column-vector y was passed when a 1d array was expected. Please change the shape of y to (n_samples, ), for example using ravel().\n",
      "  y = column_or_1d(y, warn=True)\n",
      "C:\\Users\\Alvaro\\anaconda3\\lib\\site-packages\\sklearn\\linear_model\\_base.py:141: FutureWarning: 'normalize' was deprecated in version 1.0 and will be removed in 1.2.\n",
      "If you wish to scale the data, use Pipeline with a StandardScaler in a preprocessing stage. To reproduce the previous behavior:\n",
      "\n",
      "from sklearn.pipeline import make_pipeline\n",
      "\n",
      "model = make_pipeline(StandardScaler(with_mean=False), ElasticNet())\n",
      "\n",
      "If you wish to pass a sample_weight parameter, you need to pass it as a fit parameter to each step of the pipeline as follows:\n",
      "\n",
      "kwargs = {s[0] + '__sample_weight': sample_weight for s in model.steps}\n",
      "model.fit(X, y, **kwargs)\n",
      "\n",
      "Set parameter alpha to original_alpha * np.sqrt(n_samples) if l1_ratio is 1, and to original_alpha * n_samples if l1_ratio is 0. For other values of l1_ratio, no analytic formula is available.\n",
      "  warnings.warn(\n",
      "C:\\Users\\Alvaro\\anaconda3\\lib\\site-packages\\sklearn\\linear_model\\_coordinate_descent.py:1571: DataConversionWarning: A column-vector y was passed when a 1d array was expected. Please change the shape of y to (n_samples, ), for example using ravel().\n",
      "  y = column_or_1d(y, warn=True)\n",
      "C:\\Users\\Alvaro\\anaconda3\\lib\\site-packages\\sklearn\\linear_model\\_base.py:141: FutureWarning: 'normalize' was deprecated in version 1.0 and will be removed in 1.2.\n",
      "If you wish to scale the data, use Pipeline with a StandardScaler in a preprocessing stage. To reproduce the previous behavior:\n",
      "\n",
      "from sklearn.pipeline import make_pipeline\n",
      "\n",
      "model = make_pipeline(StandardScaler(with_mean=False), ElasticNet())\n",
      "\n",
      "If you wish to pass a sample_weight parameter, you need to pass it as a fit parameter to each step of the pipeline as follows:\n",
      "\n",
      "kwargs = {s[0] + '__sample_weight': sample_weight for s in model.steps}\n",
      "model.fit(X, y, **kwargs)\n",
      "\n",
      "Set parameter alpha to original_alpha * np.sqrt(n_samples) if l1_ratio is 1, and to original_alpha * n_samples if l1_ratio is 0. For other values of l1_ratio, no analytic formula is available.\n",
      "  warnings.warn(\n"
     ]
    }
   ],
   "source": [
    "# now use the same methods but for our flexible model \n",
    "\n",
    "# Reshaping Y variable\n",
    "Y_vec = Y_train.to_numpy().reshape( -1, 1)\n",
    "\n",
    "# Scalar distribution\n",
    "scaler = StandardScaler()\n",
    "scaler.fit( Y_vec )\n",
    "std_Y = scaler.transform( Y_vec )\n",
    "\n",
    "# Regressions\n",
    "fit_lasso_cv_flex = LassoCV(cv = 10 , random_state = 0 , normalize = True ).fit( model_X_flex_train, std_Y )\n",
    "fit_ridge_flex = ElasticNetCV( cv = 10 , normalize = True , random_state = 0 , l1_ratio = 0.0001 ).fit( model_X_flex_train , std_Y )\n",
    "fit_elnet_flex = ElasticNetCV( cv = 10 , normalize = True , random_state = 0 , l1_ratio = 0.5, max_iter = 100000 ).fit( model_X_flex_train , std_Y )\n",
    "\n",
    "# Predictions\n",
    "yhat_lasso_cv_flex = scaler.inverse_transform( fit_lasso_cv_flex.predict( model_X_flex_test ).reshape(-1,1) )\n",
    "yhat_ridge_flex = scaler.inverse_transform( fit_ridge_flex.predict( model_X_flex_test ).reshape(-1,1) )\n",
    "yhat_elnet_flex = scaler.inverse_transform( fit_elnet_flex.predict( model_X_flex_test ).reshape(-1,1) )"
   ]
  },
  {
   "cell_type": "code",
   "execution_count": 91,
   "id": "c3a87152",
   "metadata": {},
   "outputs": [],
   "source": [
    "#MSE for each method in flex model\n",
    "\n",
    "MSE_lasso_cv_flex = sm.OLS( ((Y_test.to_numpy().reshape(-1,1) - yhat_lasso_cv_flex)**2 ) , np.ones( yhat_lasso_cv_flex.shape )  ).fit().summary2().tables[1].round(3)\n",
    "MSE_ridge_flex = sm.OLS( ((Y_test.to_numpy().reshape(-1,1) - yhat_ridge_flex)**2 ) , np.ones( yhat_ridge_flex.size )  ).fit().summary2().tables[1].round(3)\n",
    "MSE_elnet_flex = sm.OLS( ((Y_test.to_numpy().reshape(-1,1) - yhat_elnet_flex)**2 ) , np.ones( yhat_elnet_flex.size )  ).fit().summary2().tables[1].round(3)"
   ]
  },
  {
   "cell_type": "code",
   "execution_count": 92,
   "id": "f1d4bbf5",
   "metadata": {},
   "outputs": [
    {
     "name": "stdout",
     "output_type": "stream",
     "text": [
      "R^2 using cross-validation for lasso, ridge and elastic net in the basic model: 0.003539442540893445,0.24849275380172398,0.24849275380172398\n"
     ]
    }
   ],
   "source": [
    "# R squared for each method\n",
    "R2_lasso_cv_flex = 1- MSE_ridge_flex.iloc[0,0] / np.var( Y_test )\n",
    "R2_ridge_flex = 1- MSE_lasso_cv_flex.iloc[0,0] / np.var( Y_test )\n",
    "R2_elnet_flex = 1- MSE_elnet_flex.iloc[0,0] / np.var( Y_test )\n",
    "\n",
    "print( f\"R^2 using cross-validation for lasso, ridge and elastic net in the basic model: {R2_lasso_cv_flex},{R2_ridge_flex},{R2_elnet_flex}\")"
   ]
  },
  {
   "cell_type": "markdown",
   "id": "86b9c30e",
   "metadata": {},
   "source": [
    "### Non-Linear Models"
   ]
  },
  {
   "cell_type": "code",
   "execution_count": 93,
   "id": "aca476d5",
   "metadata": {},
   "outputs": [],
   "source": [
    "import os\n",
    "import pandas as pd\n",
    "import numpy as np\n",
    "import matplotlib.pyplot as plt\n",
    "from sklearn.model_selection import train_test_split\n",
    "from sklearn.tree import DecisionTreeRegressor\n",
    "from sklearn.ensemble import RandomForestRegressor #Not used this time\n",
    "from sklearn import tree\n",
    "from scipy.sparse import diags\n",
    "from IPython.display import Image, display\n",
    "from sklearn.model_selection import cross_val_score"
   ]
  },
  {
   "cell_type": "markdown",
   "id": "68c7d314",
   "metadata": {},
   "source": [
    "#### Tree Regression"
   ]
  },
  {
   "cell_type": "code",
   "execution_count": 95,
   "id": "e0a42854",
   "metadata": {},
   "outputs": [],
   "source": [
    "trees = DecisionTreeRegressor( random_state = 0, min_impurity_decrease = 0 )"
   ]
  },
  {
   "cell_type": "code",
   "execution_count": 96,
   "id": "84e3041f",
   "metadata": {},
   "outputs": [],
   "source": [
    "trees_fit =  trees.fit( model_X_basic_train, y_basic_train )"
   ]
  },
  {
   "cell_type": "code",
   "execution_count": 97,
   "id": "8ebecbe2",
   "metadata": {},
   "outputs": [
    {
     "data": {
      "text/plain": [
       "[0.0,\n",
       " 0.0,\n",
       " 0.010881432709454403,\n",
       " 0.03221180873779924,\n",
       " 0.01573816538670708,\n",
       " 0.04147920419535645,\n",
       " 0.007144541089182524,\n",
       " 0.016123369557978905,\n",
       " 0.25217750893893065,\n",
       " 0.10180835624876892,\n",
       " 0.11872700142502135,\n",
       " 0.023998113109269244,\n",
       " 0.035187100032184476,\n",
       " 0.022500293268659682,\n",
       " 0.07632001126231233,\n",
       " 0.16993493553824482,\n",
       " 0.07576815850012979]"
      ]
     },
     "execution_count": 97,
     "metadata": {},
     "output_type": "execute_result"
    }
   ],
   "source": [
    "list(trees_fit.feature_importances_)"
   ]
  },
  {
   "cell_type": "code",
   "execution_count": 98,
   "id": "be482c1c",
   "metadata": {},
   "outputs": [
    {
     "data": {
      "text/plain": [
       "29"
      ]
     },
     "execution_count": 98,
     "metadata": {},
     "output_type": "execute_result"
    }
   ],
   "source": [
    "trees_fit.get_depth()  "
   ]
  },
  {
   "cell_type": "code",
   "execution_count": 99,
   "id": "723ee887",
   "metadata": {},
   "outputs": [
    {
     "data": {
      "text/plain": [
       "1959"
      ]
     },
     "execution_count": 99,
     "metadata": {},
     "output_type": "execute_result"
    }
   ],
   "source": [
    "trees_fit.get_n_leaves() # number os leaves tree\n",
    "\n",
    "# As we can see, our tree is to deep and needs to be prune."
   ]
  },
  {
   "cell_type": "code",
   "execution_count": 118,
   "id": "4b2102b9",
   "metadata": {},
   "outputs": [
    {
     "name": "stdout",
     "output_type": "stream",
     "text": [
      "R^2 using prune tree: 0.017808567468708847\n"
     ]
    }
   ],
   "source": [
    "y_hat_tree = trees_fit.predict(model_X_basic_test)\n",
    "\n",
    "# MSE of NOT prune tree\n",
    "\n",
    "MSE_tree= sm.OLS( ((Y_test.to_numpy().reshape(-1,1) - y_hat_tree.reshape(-1,1))**2 ) , np.ones( y_hat_tree.shape )  ).fit().summary2().tables[1].round(3)\n",
    "\n",
    "# R squared using NOT prune tree\n",
    "\n",
    "R2_tree = 1- MSE_tree.iloc[0,0] / np.var( Y_test )\n",
    "\n",
    "print( f\"R^2 using prune tree: {R2_tree}\")"
   ]
  },
  {
   "cell_type": "markdown",
   "id": "29d178b8",
   "metadata": {},
   "source": [
    "#### Pruned tree regression"
   ]
  },
  {
   "cell_type": "code",
   "execution_count": 100,
   "id": "afdeab5a",
   "metadata": {},
   "outputs": [],
   "source": [
    "#Prunning. \n",
    "\n",
    "#We get a list of optimal alphas to penalize leafs.\n",
    "# each alpha is assosiate to the deph of the tree.\n",
    "path = trees.cost_complexity_pruning_path( model_X_basic_train, y_basic_train )\n",
    "\n",
    "alphas, impurities = path.ccp_alphas, path.impurities"
   ]
  },
  {
   "cell_type": "code",
   "execution_count": 101,
   "id": "cd2f8d23",
   "metadata": {},
   "outputs": [
    {
     "data": {
      "text/plain": [
       "array([0.00000000e+00, 4.05338819e-20, 8.10677638e-20, ...,\n",
       "       1.36655210e-03, 8.20523500e-03, 2.03382672e-02])"
      ]
     },
     "execution_count": 101,
     "metadata": {},
     "output_type": "execute_result"
    }
   ],
   "source": [
    "alphas"
   ]
  },
  {
   "cell_type": "code",
   "execution_count": 103,
   "id": "1785d424",
   "metadata": {},
   "outputs": [
    {
     "data": {
      "text/html": [
       "<div>\n",
       "<style scoped>\n",
       "    .dataframe tbody tr th:only-of-type {\n",
       "        vertical-align: middle;\n",
       "    }\n",
       "\n",
       "    .dataframe tbody tr th {\n",
       "        vertical-align: top;\n",
       "    }\n",
       "\n",
       "    .dataframe thead th {\n",
       "        text-align: right;\n",
       "    }\n",
       "</style>\n",
       "<table border=\"1\" class=\"dataframe\">\n",
       "  <thead>\n",
       "    <tr style=\"text-align: right;\">\n",
       "      <th></th>\n",
       "      <th>alpha</th>\n",
       "      <th>mean</th>\n",
       "      <th>std</th>\n",
       "    </tr>\n",
       "  </thead>\n",
       "  <tbody>\n",
       "    <tr>\n",
       "      <th>1325</th>\n",
       "      <td>0.001300</td>\n",
       "      <td>0.399938</td>\n",
       "      <td>0.033709</td>\n",
       "    </tr>\n",
       "    <tr>\n",
       "      <th>1326</th>\n",
       "      <td>0.001367</td>\n",
       "      <td>0.401054</td>\n",
       "      <td>0.033867</td>\n",
       "    </tr>\n",
       "    <tr>\n",
       "      <th>1323</th>\n",
       "      <td>0.000554</td>\n",
       "      <td>0.402468</td>\n",
       "      <td>0.030953</td>\n",
       "    </tr>\n",
       "    <tr>\n",
       "      <th>1324</th>\n",
       "      <td>0.000604</td>\n",
       "      <td>0.403087</td>\n",
       "      <td>0.030874</td>\n",
       "    </tr>\n",
       "    <tr>\n",
       "      <th>1322</th>\n",
       "      <td>0.000477</td>\n",
       "      <td>0.404182</td>\n",
       "      <td>0.031768</td>\n",
       "    </tr>\n",
       "    <tr>\n",
       "      <th>1321</th>\n",
       "      <td>0.000477</td>\n",
       "      <td>0.404182</td>\n",
       "      <td>0.031768</td>\n",
       "    </tr>\n",
       "    <tr>\n",
       "      <th>1320</th>\n",
       "      <td>0.000405</td>\n",
       "      <td>0.404961</td>\n",
       "      <td>0.033697</td>\n",
       "    </tr>\n",
       "    <tr>\n",
       "      <th>1316</th>\n",
       "      <td>0.000247</td>\n",
       "      <td>0.404980</td>\n",
       "      <td>0.033536</td>\n",
       "    </tr>\n",
       "    <tr>\n",
       "      <th>1317</th>\n",
       "      <td>0.000257</td>\n",
       "      <td>0.405008</td>\n",
       "      <td>0.033549</td>\n",
       "    </tr>\n",
       "    <tr>\n",
       "      <th>1318</th>\n",
       "      <td>0.000268</td>\n",
       "      <td>0.405016</td>\n",
       "      <td>0.033470</td>\n",
       "    </tr>\n",
       "  </tbody>\n",
       "</table>\n",
       "</div>"
      ],
      "text/plain": [
       "         alpha      mean       std\n",
       "1325  0.001300  0.399938  0.033709\n",
       "1326  0.001367  0.401054  0.033867\n",
       "1323  0.000554  0.402468  0.030953\n",
       "1324  0.000604  0.403087  0.030874\n",
       "1322  0.000477  0.404182  0.031768\n",
       "1321  0.000477  0.404182  0.031768\n",
       "1320  0.000405  0.404961  0.033697\n",
       "1316  0.000247  0.404980  0.033536\n",
       "1317  0.000257  0.405008  0.033549\n",
       "1318  0.000268  0.405016  0.033470"
      ]
     },
     "execution_count": 103,
     "metadata": {},
     "output_type": "execute_result"
    }
   ],
   "source": [
    "# Build alphas table\n",
    "\n",
    "mean1, std1 = [], []\n",
    "\n",
    "# Loop\n",
    "for i in alphas:\n",
    "     tree_initial = DecisionTreeRegressor(ccp_alpha=i, random_state=0)\n",
    "# 10 fold cross validation for each alpha value\n",
    "     scores = cross_val_score(tree_initial, model_X_basic_train, y_basic_train, scoring='neg_mean_squared_error', cv=10)\n",
    "     mean1.append(scores.mean()), std1.append(scores.std())\n",
    "            \n",
    "# keep a record of the values of alpha, mean accuracy rate, standard deviation of accuracies\n",
    "\n",
    "table = pd.DataFrame({\"alpha\": alphas, \"mean\": mean1, \"std\": std1})\n",
    "table[\"mean\"] = (-1)*table[\"mean\"] # *-1 because Python gets results in negative.\n",
    "table = table.sort_values([\"mean\"], ascending = True) #order ascending. First in the min MSE\n",
    "table.head(10)"
   ]
  },
  {
   "cell_type": "code",
   "execution_count": 105,
   "id": "af4268d1",
   "metadata": {},
   "outputs": [],
   "source": [
    "# we set then the alpha with min MSE. table.iloc[1,0]\n",
    "\n",
    "prune_tree =  DecisionTreeRegressor(ccp_alpha=table.iloc[1,0], random_state=0)\n",
    "\n",
    "prune_tree_fit = prune_tree.fit(model_X_basic_train, y_basic_train)"
   ]
  },
  {
   "cell_type": "code",
   "execution_count": 106,
   "id": "74bbd2d9",
   "metadata": {},
   "outputs": [
    {
     "data": {
      "text/plain": [
       "4"
      ]
     },
     "execution_count": 106,
     "metadata": {},
     "output_type": "execute_result"
    }
   ],
   "source": [
    "prune_tree_fit.get_depth()  # depth's tree"
   ]
  },
  {
   "cell_type": "code",
   "execution_count": 107,
   "id": "cbdcf022",
   "metadata": {},
   "outputs": [
    {
     "data": {
      "text/plain": [
       "5"
      ]
     },
     "execution_count": 107,
     "metadata": {},
     "output_type": "execute_result"
    }
   ],
   "source": [
    "prune_tree_fit.get_n_leaves() # number leaves tree"
   ]
  },
  {
   "cell_type": "code",
   "execution_count": 110,
   "id": "cbfc1567",
   "metadata": {},
   "outputs": [
    {
     "data": {
      "image/png": "[encoded data removed]",
      "text/plain": [
       "<Figure size 1080x720 with 1 Axes>"
      ]
     },
     "metadata": {
      "needs_background": "light"
     },
     "output_type": "display_data"
    }
   ],
   "source": [
    "#Tree plot\n",
    "\n",
    "fig = plt.figure(figsize=(15,10))\n",
    "_ = tree.plot_tree( prune_tree_fit , filled = True , rounded = True  )"
   ]
  },
  {
   "cell_type": "code",
   "execution_count": 112,
   "id": "b1a4ccce",
   "metadata": {},
   "outputs": [
    {
     "data": {
      "text/plain": [
       "'female:hsg'"
      ]
     },
     "execution_count": 112,
     "metadata": {},
     "output_type": "execute_result"
    }
   ],
   "source": [
    "list(model_X_basic_train.columns)[8]"
   ]
  },
  {
   "cell_type": "code",
   "execution_count": 113,
   "id": "691044f7",
   "metadata": {},
   "outputs": [
    {
     "data": {
      "text/plain": [
       "'female:exp2'"
      ]
     },
     "execution_count": 113,
     "metadata": {},
     "output_type": "execute_result"
    }
   ],
   "source": [
    "list(model_X_basic_train.columns)[15]"
   ]
  },
  {
   "cell_type": "code",
   "execution_count": 114,
   "id": "97315687",
   "metadata": {},
   "outputs": [
    {
     "data": {
      "text/plain": [
       "'female:ad'"
      ]
     },
     "execution_count": 114,
     "metadata": {},
     "output_type": "execute_result"
    }
   ],
   "source": [
    "list(model_X_basic_train.columns)[10]"
   ]
  },
  {
   "cell_type": "code",
   "execution_count": 115,
   "id": "183e1665",
   "metadata": {},
   "outputs": [
    {
     "data": {
      "text/plain": [
       "'female:cg'"
      ]
     },
     "execution_count": 115,
     "metadata": {},
     "output_type": "execute_result"
    }
   ],
   "source": [
    "list(model_X_basic_train.columns)[9]"
   ]
  },
  {
   "cell_type": "code",
   "execution_count": 119,
   "id": "5be877ef",
   "metadata": {},
   "outputs": [
    {
     "name": "stdout",
     "output_type": "stream",
     "text": [
      "R^2 using prune tree: 0.10817969201153943\n"
     ]
    }
   ],
   "source": [
    "y_hat_pt = prune_tree_fit.predict(model_X_basic_test)\n",
    "\n",
    "# MSE of prune tree\n",
    "\n",
    "MSE_pt= sm.OLS( ((Y_test.to_numpy().reshape(-1,1) - y_hat_pt.reshape(-1,1))**2 ) , np.ones( y_hat_pt.shape )  ).fit().summary2().tables[1].round(3)\n",
    "\n",
    "# R squared using prune tree\n",
    "\n",
    "R2_pt = 1- MSE_pt.iloc[0,0] / np.var( Y_test )\n",
    "\n",
    "print( f\"R^2 using prune tree: {R2_pt}\")"
   ]
  },
  {
   "cell_type": "markdown",
   "id": "12e1a97b",
   "metadata": {},
   "source": [
    "### Results"
   ]
  },
  {
   "cell_type": "code",
   "execution_count": 125,
   "id": "e089a309",
   "metadata": {},
   "outputs": [
    {
     "data": {
      "text/html": [
       "<div>\n",
       "<style scoped>\n",
       "    .dataframe tbody tr th:only-of-type {\n",
       "        vertical-align: middle;\n",
       "    }\n",
       "\n",
       "    .dataframe tbody tr th {\n",
       "        vertical-align: top;\n",
       "    }\n",
       "\n",
       "    .dataframe thead th {\n",
       "        text-align: right;\n",
       "    }\n",
       "</style>\n",
       "<table border=\"1\" class=\"dataframe\">\n",
       "  <thead>\n",
       "    <tr style=\"text-align: right;\">\n",
       "      <th></th>\n",
       "      <th>MSE</th>\n",
       "      <th>S_E_ for MSE</th>\n",
       "      <th>R-squared</th>\n",
       "    </tr>\n",
       "  </thead>\n",
       "  <tbody>\n",
       "    <tr>\n",
       "      <th>Least Squares (basic)</th>\n",
       "      <td>0.369</td>\n",
       "      <td>0.014</td>\n",
       "      <td>0.122</td>\n",
       "    </tr>\n",
       "    <tr>\n",
       "      <th>Least Squares (flexible)</th>\n",
       "      <td>0.317</td>\n",
       "      <td>0.013</td>\n",
       "      <td>0.247</td>\n",
       "    </tr>\n",
       "    <tr>\n",
       "      <th>Lasso</th>\n",
       "      <td>0.371</td>\n",
       "      <td>0.014</td>\n",
       "      <td>0.118</td>\n",
       "    </tr>\n",
       "    <tr>\n",
       "      <th>Post-Lasso</th>\n",
       "      <td>0.371</td>\n",
       "      <td>0.014</td>\n",
       "      <td>0.118</td>\n",
       "    </tr>\n",
       "    <tr>\n",
       "      <th>Lasso (flexible)</th>\n",
       "      <td>0.317</td>\n",
       "      <td>0.013</td>\n",
       "      <td>0.118</td>\n",
       "    </tr>\n",
       "    <tr>\n",
       "      <th>Post-Lasso (flexible)</th>\n",
       "      <td>0.317</td>\n",
       "      <td>0.013</td>\n",
       "      <td>0.246</td>\n",
       "    </tr>\n",
       "    <tr>\n",
       "      <th>Cross-Validated lasso</th>\n",
       "      <td>0.369</td>\n",
       "      <td>0.014</td>\n",
       "      <td>0.001</td>\n",
       "    </tr>\n",
       "    <tr>\n",
       "      <th>Cross-Validated ridge</th>\n",
       "      <td>0.420</td>\n",
       "      <td>0.014</td>\n",
       "      <td>0.122</td>\n",
       "    </tr>\n",
       "    <tr>\n",
       "      <th>Cross-Validated elnet</th>\n",
       "      <td>0.370</td>\n",
       "      <td>0.014</td>\n",
       "      <td>0.120</td>\n",
       "    </tr>\n",
       "    <tr>\n",
       "      <th>Cross-Validated lasso (flexible)</th>\n",
       "      <td>0.316</td>\n",
       "      <td>0.013</td>\n",
       "      <td>0.004</td>\n",
       "    </tr>\n",
       "    <tr>\n",
       "      <th>Cross-Validated ridge (flexible)</th>\n",
       "      <td>0.419</td>\n",
       "      <td>0.014</td>\n",
       "      <td>0.248</td>\n",
       "    </tr>\n",
       "    <tr>\n",
       "      <th>Cross-Validated elnet (flexible)</th>\n",
       "      <td>0.316</td>\n",
       "      <td>0.013</td>\n",
       "      <td>0.248</td>\n",
       "    </tr>\n",
       "    <tr>\n",
       "      <th>Unpruned Tree</th>\n",
       "      <td>0.413</td>\n",
       "      <td>0.015</td>\n",
       "      <td>0.018</td>\n",
       "    </tr>\n",
       "    <tr>\n",
       "      <th>Pruned Tree</th>\n",
       "      <td>0.375</td>\n",
       "      <td>0.014</td>\n",
       "      <td>0.108</td>\n",
       "    </tr>\n",
       "  </tbody>\n",
       "</table>\n",
       "</div>"
      ],
      "text/plain": [
       "                                    MSE  S_E_ for MSE  R-squared\n",
       "Least Squares (basic)             0.369         0.014      0.122\n",
       "Least Squares (flexible)          0.317         0.013      0.247\n",
       "Lasso                             0.371         0.014      0.118\n",
       "Post-Lasso                        0.371         0.014      0.118\n",
       "Lasso (flexible)                  0.317         0.013      0.118\n",
       "Post-Lasso (flexible)             0.317         0.013      0.246\n",
       "Cross-Validated lasso             0.369         0.014      0.001\n",
       "Cross-Validated ridge             0.420         0.014      0.122\n",
       "Cross-Validated elnet             0.370         0.014      0.120\n",
       "Cross-Validated lasso (flexible)  0.316         0.013      0.004\n",
       "Cross-Validated ridge (flexible)  0.419         0.014      0.248\n",
       "Cross-Validated elnet (flexible)  0.316         0.013      0.248\n",
       "Unpruned Tree                     0.413         0.015      0.018\n",
       "Pruned Tree                       0.375         0.014      0.108"
      ]
     },
     "execution_count": 125,
     "metadata": {},
     "output_type": "execute_result"
    }
   ],
   "source": [
    "table= np.zeros( (14, 3) )\n",
    "table[0,0:2]   = MSE_lm_basic\n",
    "table[1,0:2]   = MSE_lm_flex\n",
    "table[2,0:2]   = MSE_lasso.iloc[0, [0, 1]]\n",
    "table[3,0:2]   = MSE_lasso_post.iloc[0, [0, 1]]\n",
    "table[4,0:2]   = MSE_lasso_flex.iloc[0, [0, 1]]\n",
    "table[5,0:2]   = MSE_lasso_post_flex.iloc[0, [0, 1]]\n",
    "table[6,0:2]   = MSE_lasso_cv_basic.iloc[0, [0, 1]]\n",
    "table[7,0:2]   = MSE_ridge_basic.iloc[0, [0, 1]]\n",
    "table[8,0:2]   = MSE_elnet_basic.iloc[0, [0, 1]]\n",
    "table[9,0:2]   = MSE_lasso_cv_flex.iloc[0, [0, 1]]\n",
    "table[10,0:2]  = MSE_ridge_flex.iloc[0, [0, 1]]\n",
    "table[11,0:2]  = MSE_elnet_flex.iloc[0, [0, 1]]\n",
    "table[12,0:2]  = MSE_tree.iloc[0, [0, 1]]\n",
    "table[13,0:2]  = MSE_pt.iloc[0, [0, 1]]\n",
    "\n",
    "\n",
    "\n",
    "table[0,2]   = R2_lm_basic\n",
    "table[1,2]   = R2_lm_flex\n",
    "table[2,2]   = R2_lasso\n",
    "table[3,2]   = R2_lasso_post\n",
    "table[4,2]   = R2_lasso_flex\n",
    "table[5,2]   = R2_lasso_post_flex\n",
    "table[6,2]   = R2_lasso_cv_basic\n",
    "table[7,2]   = R2_ridge_basic\n",
    "table[8,2]   = R2_elnet_basic\n",
    "table[9,2]   = R2_lasso_cv_flex\n",
    "table[10,2]  = R2_ridge_flex\n",
    "table[11,2]  = R2_elnet_flex\n",
    "table[12,2]  = R2_tree\n",
    "table[13,2]  = R2_pt\n",
    "\n",
    "\n",
    "\n",
    "\n",
    "colnames_table= [\"MSE\", \"S_E_ for MSE\", \"R-squared\"]\n",
    "rownames_table= [\"Least Squares (basic)\",\"Least Squares (flexible)\", \"Lasso\", \"Post-Lasso\",\"Lasso (flexible)\",\"Post-Lasso (flexible)\", \\\n",
    "                    \"Cross-Validated lasso\", \"Cross-Validated ridge\",\"Cross-Validated elnet\",\"Cross-Validated lasso (flexible)\",\"Cross-Validated ridge (flexible)\",\"Cross-Validated elnet (flexible)\"\n",
    "                    ,\"Unpruned Tree\", \"Pruned Tree\"]\n",
    "table_pandas = pd.DataFrame( table, columns = colnames_table )\n",
    "table_pandas.index = rownames_table\n",
    "\n",
    "table_pandas = table_pandas.round(3)\n",
    "table_html = table_pandas.to_latex()\n",
    "table_pandas"
   ]
  },
  {
   "cell_type": "code",
   "execution_count": 127,
   "id": "718b434a",
   "metadata": {},
   "outputs": [
    {
     "data": {
      "text/plain": [
       "Cross-Validated lasso (flexible)    0.316\n",
       "Cross-Validated elnet (flexible)    0.316\n",
       "Least Squares (flexible)            0.317\n",
       "Lasso (flexible)                    0.317\n",
       "Post-Lasso (flexible)               0.317\n",
       "Least Squares (basic)               0.369\n",
       "Cross-Validated lasso               0.369\n",
       "Cross-Validated elnet               0.370\n",
       "Lasso                               0.371\n",
       "Post-Lasso                          0.371\n",
       "Pruned Tree                         0.375\n",
       "Unpruned Tree                       0.413\n",
       "Cross-Validated ridge (flexible)    0.419\n",
       "Cross-Validated ridge               0.420\n",
       "Name: MSE, dtype: float64"
      ]
     },
     "execution_count": 127,
     "metadata": {},
     "output_type": "execute_result"
    }
   ],
   "source": [
    "table_pandas.MSE.sort_values(ascending=True)"
   ]
  },
  {
   "cell_type": "markdown",
   "id": "da69ff49",
   "metadata": {},
   "source": [
    "### Conclusions:\n",
    "The methods with the lowest MSE are Cross Validated Elastic Net and the Cross Validated lasso. Both using the Flexible Model and their MSE = 0.316.\n",
    "The second best methods are OLS (flexible), Lasso (flexible) and Post-Lasso (flexible). These 3 methods have a MSE = 0.317."
   ]
  },
  {
   "cell_type": "markdown",
   "id": "4b956ba2",
   "metadata": {},
   "source": [
    "# Tree Regression \n",
    "\n",
    "Usually, to make regressions we assume a linear relation between variables. In the case where clusters might be found in the data, a linear regression is not the best way to estimate a prediction model. The best way is to use a Tree regression since it captures non-linear relations between the Y and the X regressors. For instance, a regression tree allows us to make a prediction using continuous or categorical variables. However, a regression tree always tries to predict a continuous value. \n",
    "The main concept of regression tree (also classifier tree) is to split the data in a binary criterion until it reaches pure leaf. Finally, each leaf represents a relevant cluster in our dataset. This allows to predict a in which group a new observation in the data corresponds by following the conditions node by node. \n",
    "\n",
    "The first step consists in determine under which value we split the first node. Therefore, we need to find the best splitting condition. For this step the computer tests each possible value to split the data and propose a set of candidates. In a scenario with multiple covariates, the algorithm evaluates each covariate one at time, and for each covariate estimates the proper split value by choosing the one with lowest sum squared errors. The variable that goes in the first node is the one with the lowest sum squared errors. This process repeats for each node. \n",
    "\n",
    "This step repeats for each possible split. However, the number of final leaves will depend on if it is needed to do an extra split in each leaf. This process can result in an overfitting of the data and the model can´t be generalize. To solve this, we have to prune the tree by setting penalization parameters on the impurities of the leaf.\n",
    "\n",
    "First, we have to determine the optimal complexity of the tree. To do this we set the algorithm to prune or “cut” the leaf with a relatively small alpha. The smallest alphas are pruned first. We set an algorithm that returns the effective alphas and the corresponding total leaf impurities at each step of the pruning process. Larger alphas mean more of the tree is pruned, which increases the total impurity of its leaves.\n",
    "\n",
    "Next, we make a cross validation process for al the alphas proposed and calculate the accuracy mean for each alpha. The optimal alpha for our tree would be the one with the lowest mean accuracy rate. \n",
    "\n",
    "Finally. We set that value of alpha in the DecisionTreeRegressor function in Python to get our optimal depth and number of leaves. \n",
    "\n"
   ]
  }
 ],
 "metadata": {
  "kernelspec": {
   "display_name": "Python 3 (ipykernel)",
   "language": "python",
   "name": "python3"
  },
  "language_info": {
   "codemirror_mode": {
    "name": "ipython",
    "version": 3
   },
   "file_extension": ".py",
   "mimetype": "text/x-python",
   "name": "python",
   "nbconvert_exporter": "python",
   "pygments_lexer": "ipython3",
   "version": "3.9.7"
  }
 },
 "nbformat": 4,
 "nbformat_minor": 5
}
